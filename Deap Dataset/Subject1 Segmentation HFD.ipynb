{
 "cells": [
  {
   "cell_type": "code",
   "execution_count": 9,
   "metadata": {},
   "outputs": [
    {
     "name": "stdout",
     "output_type": "stream",
     "text": [
      "Requirement already satisfied: numpy in c:\\users\\namrata\\anaconda3\\lib\\site-packages (1.22.2)\n",
      "Requirement already satisfied: sklearn in c:\\users\\namrata\\anaconda3\\lib\\site-packages (0.0)\n",
      "Requirement already satisfied: scikit-learn in c:\\users\\namrata\\anaconda3\\lib\\site-packages (from sklearn) (0.23.2)\n",
      "Requirement already satisfied: scipy>=0.19.1 in c:\\users\\namrata\\anaconda3\\lib\\site-packages (from scikit-learn->sklearn) (1.6.2)\n",
      "Requirement already satisfied: joblib>=0.11 in c:\\users\\namrata\\anaconda3\\lib\\site-packages (from scikit-learn->sklearn) (0.17.0)\n",
      "Requirement already satisfied: threadpoolctl>=2.0.0 in c:\\users\\namrata\\anaconda3\\lib\\site-packages (from scikit-learn->sklearn) (2.1.0)\n",
      "Requirement already satisfied: numpy>=1.13.3 in c:\\users\\namrata\\anaconda3\\lib\\site-packages (from scikit-learn->sklearn) (1.22.2)\n",
      "Requirement already satisfied: matplotlib in c:\\users\\namrata\\anaconda3\\lib\\site-packages (3.3.2)\n",
      "Requirement already satisfied: certifi>=2020.06.20 in c:\\users\\namrata\\anaconda3\\lib\\site-packages (from matplotlib) (2021.5.30)\n",
      "Requirement already satisfied: pyparsing!=2.0.4,!=2.1.2,!=2.1.6,>=2.0.3 in c:\\users\\namrata\\anaconda3\\lib\\site-packages (from matplotlib) (2.4.7)\n",
      "Requirement already satisfied: python-dateutil>=2.1 in c:\\users\\namrata\\anaconda3\\lib\\site-packages (from matplotlib) (2.8.1)\n",
      "Requirement already satisfied: cycler>=0.10 in c:\\users\\namrata\\anaconda3\\lib\\site-packages (from matplotlib) (0.10.0)\n",
      "Requirement already satisfied: pillow>=6.2.0 in c:\\users\\namrata\\anaconda3\\lib\\site-packages (from matplotlib) (8.3.1)\n",
      "Requirement already satisfied: numpy>=1.15 in c:\\users\\namrata\\anaconda3\\lib\\site-packages (from matplotlib) (1.22.2)\n",
      "Requirement already satisfied: kiwisolver>=1.0.1 in c:\\users\\namrata\\anaconda3\\lib\\site-packages (from matplotlib) (1.3.0)\n",
      "Requirement already satisfied: six>=1.5 in c:\\users\\namrata\\anaconda3\\lib\\site-packages (from python-dateutil>=2.1->matplotlib) (1.15.0)\n",
      "Requirement already satisfied: ReliefF in c:\\users\\namrata\\anaconda3\\lib\\site-packages (0.1.2)\n",
      "Requirement already satisfied: numpy in c:\\users\\namrata\\anaconda3\\lib\\site-packages (from ReliefF) (1.22.2)\n",
      "Requirement already satisfied: scipy in c:\\users\\namrata\\anaconda3\\lib\\site-packages (from ReliefF) (1.6.2)\n",
      "Requirement already satisfied: scikit-learn in c:\\users\\namrata\\anaconda3\\lib\\site-packages (from ReliefF) (0.23.2)\n",
      "Requirement already satisfied: joblib>=0.11 in c:\\users\\namrata\\anaconda3\\lib\\site-packages (from scikit-learn->ReliefF) (0.17.0)\n",
      "Requirement already satisfied: threadpoolctl>=2.0.0 in c:\\users\\namrata\\anaconda3\\lib\\site-packages (from scikit-learn->ReliefF) (2.1.0)\n",
      "Requirement already up-to-date: Py_FS in c:\\users\\namrata\\anaconda3\\lib\\site-packages (0.0.44)\n"
     ]
    }
   ],
   "source": [
    "!pip install numpy\n",
    "!pip install sklearn\n",
    "!pip install matplotlib\n",
    "!pip install ReliefF\n",
    "!pip install -U Py_FS"
   ]
  },
  {
   "cell_type": "code",
   "execution_count": 1,
   "metadata": {},
   "outputs": [
    {
     "name": "stderr",
     "output_type": "stream",
     "text": [
      "C:\\Users\\NAMRATA\\anaconda3\\lib\\site-packages\\numpy\\_distributor_init.py:30: UserWarning: loaded more than 1 DLL from .libs:\n",
      "C:\\Users\\NAMRATA\\anaconda3\\lib\\site-packages\\numpy\\.libs\\libopenblas.EL2C6PLE4ZYW3ECEVIV3OXXGRN2NRFM2.gfortran-win_amd64.dll\n",
      "C:\\Users\\NAMRATA\\anaconda3\\lib\\site-packages\\numpy\\.libs\\libopenblas.QVLO2T66WEPI7JZ63PS3HMOHFEY472BC.gfortran-win_amd64.dll\n",
      "  warnings.warn(\"loaded more than 1 DLL from .libs:\"\n"
     ]
    }
   ],
   "source": [
    "from sklearn.model_selection import train_test_split\n",
    "import numpy as np"
   ]
  },
  {
   "cell_type": "code",
   "execution_count": 2,
   "metadata": {},
   "outputs": [
    {
     "name": "stdout",
     "output_type": "stream",
     "text": [
      "Requirement already satisfied: antropy in c:\\users\\namrata\\anaconda3\\lib\\site-packages (0.1.4)\n",
      "Requirement already satisfied: stochastic in c:\\users\\namrata\\anaconda3\\lib\\site-packages (from antropy) (0.6.0)\n",
      "Requirement already satisfied: scipy<2.0,>=1.3 in c:\\users\\namrata\\anaconda3\\lib\\site-packages (from stochastic->antropy) (1.6.2)\n",
      "Requirement already satisfied: numpy<2.0,>=1.17 in c:\\users\\namrata\\anaconda3\\lib\\site-packages (from stochastic->antropy) (1.22.2)\n"
     ]
    }
   ],
   "source": [
    "!pip install antropy\n",
    "import pickle, copy\n",
    "import numpy as np\n",
    "import antropy as ent\n",
    "\n",
    "\n",
    "import pandas as pd\n",
    "from sklearn.utils import shuffle\n",
    "from sklearn.model_selection import cross_val_score, train_test_split"
   ]
  },
  {
   "cell_type": "code",
   "execution_count": 3,
   "metadata": {},
   "outputs": [],
   "source": [
    "deap_dataset_path = \"D:/Brain Computer interface/data_preprocessed_python/data_preprocessed_python/s01.dat\"\n",
    "subject_names = ['s01', 's02', 's03', 's04', 's05', 's06', 's07', 's08', 's09', 's10', 's11', 's12', \n",
    "                 's13', 's14', 's15', 's16', 's17', 's18', 's19', 's20', 's21',\n",
    "                 's22', 's23', 's24', 's25', 's26', 's27', 's28', 's29', 's30', 's31', 's32']"
   ]
  },
  {
   "cell_type": "code",
   "execution_count": 4,
   "metadata": {},
   "outputs": [],
   "source": [
    "with open (\"D:/Brain Computer interface/data_preprocessed_python/data_preprocessed_python/s01.dat\",'rb')as f:\n",
    "    raw_data=pickle.load(f , encoding='latin1')"
   ]
  },
  {
   "cell_type": "code",
   "execution_count": 5,
   "metadata": {},
   "outputs": [],
   "source": [
    " # raw_data has two key 'data' and 'labels'\n",
    "data = raw_data['data']\n",
    "labels = raw_data['labels']"
   ]
  },
  {
   "cell_type": "code",
   "execution_count": 6,
   "metadata": {},
   "outputs": [
    {
     "name": "stdout",
     "output_type": "stream",
     "text": [
      "Requirement already satisfied: eeglib in c:\\users\\namrata\\anaconda3\\lib\\site-packages (0.4.1)\n",
      "Requirement already satisfied: fastdtw in c:\\users\\namrata\\anaconda3\\lib\\site-packages (from eeglib) (0.3.4)\n",
      "Requirement already satisfied: numba in c:\\users\\namrata\\anaconda3\\lib\\site-packages (from eeglib) (0.51.2)\n",
      "Requirement already satisfied: numpy in c:\\users\\namrata\\anaconda3\\lib\\site-packages (from eeglib) (1.22.2)\n",
      "Requirement already satisfied: progressbar2 in c:\\users\\namrata\\anaconda3\\lib\\site-packages (from eeglib) (3.55.0)\n",
      "Requirement already satisfied: scipy in c:\\users\\namrata\\anaconda3\\lib\\site-packages (from eeglib) (1.6.2)\n",
      "Requirement already satisfied: pyedflib in c:\\users\\namrata\\anaconda3\\lib\\site-packages (from eeglib) (0.1.23)\n",
      "Requirement already satisfied: sklearn in c:\\users\\namrata\\anaconda3\\lib\\site-packages (from eeglib) (0.0)\n",
      "Requirement already satisfied: pandas in c:\\users\\namrata\\anaconda3\\lib\\site-packages (from eeglib) (1.3.0)\n",
      "Requirement already satisfied: llvmlite<0.35,>=0.34.0.dev0 in c:\\users\\namrata\\anaconda3\\lib\\site-packages (from numba->eeglib) (0.34.0)\n",
      "Requirement already satisfied: setuptools in c:\\users\\namrata\\anaconda3\\lib\\site-packages (from numba->eeglib) (50.3.1.post20201107)\n",
      "Requirement already satisfied: six in c:\\users\\namrata\\anaconda3\\lib\\site-packages (from progressbar2->eeglib) (1.15.0)\n",
      "Requirement already satisfied: python-utils>=2.3.0 in c:\\users\\namrata\\anaconda3\\lib\\site-packages (from progressbar2->eeglib) (2.5.6)\n",
      "Requirement already satisfied: scikit-learn in c:\\users\\namrata\\anaconda3\\lib\\site-packages (from sklearn->eeglib) (0.23.2)\n",
      "Requirement already satisfied: pytz>=2017.3 in c:\\users\\namrata\\anaconda3\\lib\\site-packages (from pandas->eeglib) (2020.1)\n",
      "Requirement already satisfied: python-dateutil>=2.7.3 in c:\\users\\namrata\\anaconda3\\lib\\site-packages (from pandas->eeglib) (2.8.1)\n",
      "Requirement already satisfied: joblib>=0.11 in c:\\users\\namrata\\anaconda3\\lib\\site-packages (from scikit-learn->sklearn->eeglib) (0.17.0)\n",
      "Requirement already satisfied: threadpoolctl>=2.0.0 in c:\\users\\namrata\\anaconda3\\lib\\site-packages (from scikit-learn->sklearn->eeglib) (2.1.0)\n"
     ]
    }
   ],
   "source": [
    "!pip install eeglib\n",
    "from eeglib.helpers import CSVHelper\n",
    "from eeglib import wrapper, helpers"
   ]
  },
  {
   "cell_type": "code",
   "execution_count": 9,
   "metadata": {},
   "outputs": [
    {
     "name": "stdout",
     "output_type": "stream",
     "text": [
      "[ 1.07404333  0.14979846 -0.34991043 ... -0.33848818 -0.45488485\n",
      " -0.52862068]\n",
      "[ 1.03540544  0.08427829 -0.4633551  ... -0.19734234 -0.29935388\n",
      " -0.49760983]\n",
      "[ 1.36369247  0.5387033   0.21740462 ... -0.65550419 -0.35995199\n",
      " -0.48714177]\n",
      "[ 0.99184594  0.11409483 -0.30691544 ... -0.62944309 -0.70782592\n",
      " -0.76495564]\n",
      "7680\n"
     ]
    }
   ],
   "source": [
    "helper= CSVHelper(\"D:/Brain Computer interface/f1.csv\",windowSize=8)\n",
    "\n",
    "for eeg in helper:\n",
    "    print(eeg.HFD())\n",
    "print(eeg.HFD().size)"
   ]
  },
  {
   "cell_type": "code",
   "execution_count": null,
   "metadata": {},
   "outputs": [],
   "source": []
  }
 ],
 "metadata": {
  "kernelspec": {
   "display_name": "Python 3",
   "language": "python",
   "name": "python3"
  },
  "language_info": {
   "codemirror_mode": {
    "name": "ipython",
    "version": 3
   },
   "file_extension": ".py",
   "mimetype": "text/x-python",
   "name": "python",
   "nbconvert_exporter": "python",
   "pygments_lexer": "ipython3",
   "version": "3.8.5"
  }
 },
 "nbformat": 4,
 "nbformat_minor": 4
}
