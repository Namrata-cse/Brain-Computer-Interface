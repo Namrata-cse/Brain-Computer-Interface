{
 "cells": [
  {
   "cell_type": "code",
   "execution_count": 1,
   "metadata": {},
   "outputs": [
    {
     "name": "stderr",
     "output_type": "stream",
     "text": [
      "C:\\Users\\NAMRATA\\anaconda3\\lib\\site-packages\\numpy\\_distributor_init.py:30: UserWarning: loaded more than 1 DLL from .libs:\n",
      "C:\\Users\\NAMRATA\\anaconda3\\lib\\site-packages\\numpy\\.libs\\libopenblas.EL2C6PLE4ZYW3ECEVIV3OXXGRN2NRFM2.gfortran-win_amd64.dll\n",
      "C:\\Users\\NAMRATA\\anaconda3\\lib\\site-packages\\numpy\\.libs\\libopenblas.QVLO2T66WEPI7JZ63PS3HMOHFEY472BC.gfortran-win_amd64.dll\n",
      "  warnings.warn(\"loaded more than 1 DLL from .libs:\"\n"
     ]
    },
    {
     "name": "stdout",
     "output_type": "stream",
     "text": [
      "Requirement already satisfied: antropy in c:\\users\\namrata\\anaconda3\\lib\\site-packages (0.1.4)\n",
      "Requirement already satisfied: stochastic in c:\\users\\namrata\\anaconda3\\lib\\site-packages (from antropy) (0.6.0)\n",
      "Requirement already satisfied: numpy<2.0,>=1.17 in c:\\users\\namrata\\anaconda3\\lib\\site-packages (from stochastic->antropy) (1.22.2)\n",
      "Requirement already satisfied: scipy<2.0,>=1.3 in c:\\users\\namrata\\anaconda3\\lib\\site-packages (from stochastic->antropy) (1.6.2)\n"
     ]
    }
   ],
   "source": [
    "import numpy as np\n",
    "!pip install antropy\n",
    "import pickle, copy\n",
    "\n",
    "import antropy as ent\n",
    "\n",
    "\n",
    "import pandas as pd\n",
    "from sklearn.utils import shuffle\n",
    "from sklearn.model_selection import cross_val_score, train_test_split"
   ]
  },
  {
   "cell_type": "code",
   "execution_count": 2,
   "metadata": {},
   "outputs": [
    {
     "name": "stdout",
     "output_type": "stream",
     "text": [
      "7680\n"
     ]
    }
   ],
   "source": [
    "from eeglib.helpers import CSVHelper\n",
    "\n",
    "helper= CSVHelper(\"D:/Brain Computer interface/f1.csv\")\n",
    "\n",
    "for eeg in helper:\n",
    "    print(eeg.HFD().size)"
   ]
  },
  {
   "cell_type": "code",
   "execution_count": 3,
   "metadata": {},
   "outputs": [],
   "source": [
    "deap_dataset_path = \"D:/Brain Computer interface/data_preprocessed_python/data_preprocessed_python/s01.dat\"\n",
    "subject_names = ['s01', 's02', 's03', 's04', 's05', 's06', 's07', 's08', 's09', 's10', 's11', 's12', \n",
    "                 's13', 's14', 's15', 's16', 's17', 's18', 's19', 's20', 's21',\n",
    "                 's22', 's23', 's24', 's25', 's26', 's27', 's28', 's29', 's30', 's31', 's32']"
   ]
  },
  {
   "cell_type": "code",
   "execution_count": 4,
   "metadata": {},
   "outputs": [],
   "source": [
    "with open (deap_dataset_path,'rb')as f:\n",
    "    raw_data=pickle.load(f , encoding='latin1')"
   ]
  },
  {
   "cell_type": "code",
   "execution_count": 5,
   "metadata": {},
   "outputs": [],
   "source": [
    "labels = raw_data['labels']"
   ]
  },
  {
   "cell_type": "code",
   "execution_count": 6,
   "metadata": {},
   "outputs": [
    {
     "name": "stdout",
     "output_type": "stream",
     "text": [
      "[1.42247668 1.43437829 1.47727935 ... 1.8278559  1.74395907 2.12946821]\n"
     ]
    }
   ],
   "source": [
    "print(eeg.HFD())"
   ]
  },
  {
   "cell_type": "code",
   "execution_count": 7,
   "metadata": {},
   "outputs": [],
   "source": [
    "hfd = np.array(eeg.HFD())\n",
    "hfd = np.reshape(eeg.HFD(), (-1, 32))"
   ]
  },
  {
   "cell_type": "code",
   "execution_count": 8,
   "metadata": {},
   "outputs": [
    {
     "name": "stdout",
     "output_type": "stream",
     "text": [
      "[[1.42247668 1.43437829 1.47727935 ... 1.95737907 1.50250775 1.43980945]\n",
      " [1.8074439  2.22035313 1.93402316 ... 2.10568707 2.20619933 1.79834028]\n",
      " [1.51684162 1.68821147 1.60539407 ... 2.00421186 1.77465363 1.91547754]\n",
      " ...\n",
      " [2.00142615 1.50960584 1.88437613 ... 2.29158156 2.29438596 2.13925535]\n",
      " [2.26176694 2.11223459 1.99207088 ... 2.15332875 2.48024018 2.43028379]\n",
      " [1.73173448 1.91848992 2.26445957 ... 1.8278559  1.74395907 2.12946821]]\n"
     ]
    }
   ],
   "source": [
    "print(hfd)"
   ]
  },
  {
   "cell_type": "code",
   "execution_count": 9,
   "metadata": {},
   "outputs": [
    {
     "name": "stdout",
     "output_type": "stream",
     "text": [
      "(240, 32)\n"
     ]
    }
   ],
   "source": [
    "print(hfd.shape)"
   ]
  },
  {
   "cell_type": "code",
   "execution_count": 10,
   "metadata": {},
   "outputs": [],
   "source": [
    "def emotion_label(labels, class_label):\n",
    "    em_labels = []\n",
    "    if(class_label == 'valence'):\n",
    "        for i in range(0, labels.shape[0]):\n",
    "            if (labels[i][0]>5): # high valence\n",
    "                em_labels.append(1)\n",
    "            else: # low valence\n",
    "                em_labels.append(0)\n",
    "        return em_labels\n",
    "    elif(class_label == 'arousal'):\n",
    "        for i in range(0, labels.shape[0]):\n",
    "            if (labels[i][1]>5): # high arousal\n",
    "                em_labels.append(1)\n",
    "            else: # low arousal\n",
    "                em_labels.append(0)\n",
    "        return em_labels\n",
    "    elif(class_label == 'all'):\n",
    "        for i in range(0, labels.shape[0]):\n",
    "            if (labels[i][0]>5): # high valence\n",
    "                if(labels[i][1]>5): # high arousal\n",
    "                    em_labels.append(1) # HVHA\n",
    "                else:\n",
    "                    em_labels.append(0) # HVLA\n",
    "            else: # low valence\n",
    "                if(labels[i][1]>5): # high arousal\n",
    "                    em_labels.append(2) # LVHA\n",
    "                else: # low arousal\n",
    "                    em_labels.append(3) # LVLA\n",
    "        return em_labels"
   ]
  },
  {
   "cell_type": "code",
   "execution_count": 11,
   "metadata": {},
   "outputs": [],
   "source": [
    "valence_label = emotion_label(labels, \"valence\")\n",
    "y1 = []\n",
    "for i in range(len(valence_label)):\n",
    "    for j in range(6):\n",
    "        y1.append(valence_label[i])\n",
    "y1 = np.array(y1)\n",
    "valence_label = y1\n"
   ]
  },
  {
   "cell_type": "code",
   "execution_count": 12,
   "metadata": {},
   "outputs": [],
   "source": [
    "columns_name2 = []\n",
    "for i in range(32):\n",
    "    columns_name2.append('ch' + str(i))\n",
    "\n",
    "\n",
    "df = pd.DataFrame(hfd, columns = columns_name2)\n",
    "\n",
    "\n",
    "tot_features = len(df.columns)-1\n",
    "total_features = tot_features"
   ]
  },
  {
   "cell_type": "code",
   "execution_count": 13,
   "metadata": {},
   "outputs": [],
   "source": [
    "valence_label = emotion_label(labels, \"valence\")\n",
    "\n",
    "X = df"
   ]
  },
  {
   "cell_type": "code",
   "execution_count": 14,
   "metadata": {},
   "outputs": [
    {
     "name": "stdout",
     "output_type": "stream",
     "text": [
      "          ch0       ch1       ch2       ch3       ch4       ch5       ch6  \\\n",
      "0    1.422477  1.434378  1.477279  1.710084  1.809797  1.348023  1.352139   \n",
      "1    1.807444  2.220353  1.934023  1.885590  1.766464  1.740919  1.930500   \n",
      "2    1.516842  1.688211  1.605394  1.548831  1.971480  1.738760  1.628509   \n",
      "3    1.874686  2.199932  2.091948  2.472667  1.974101  1.887750  1.796381   \n",
      "4    1.922731  2.121368  2.147724  1.725014  1.840585  2.130202  1.864874   \n",
      "..        ...       ...       ...       ...       ...       ...       ...   \n",
      "235  1.494873  1.793144  1.628704  2.110689  2.213387  1.983628  2.117683   \n",
      "236  1.803655  2.048243  1.702897  1.731084  1.897542  2.111846  2.113425   \n",
      "237  2.001426  1.509606  1.884376  2.118708  2.098290  2.330049  2.029919   \n",
      "238  2.261767  2.112235  1.992071  1.785948  2.060628  1.772936  1.826282   \n",
      "239  1.731734  1.918490  2.264460  1.850861  2.127584  1.664527  2.125890   \n",
      "\n",
      "          ch7       ch8       ch9  ...      ch22      ch23      ch24  \\\n",
      "0    1.357175  1.367777  1.469675  ...  1.360584  1.618150  1.910482   \n",
      "1    2.104814  1.956335  2.005262  ...  2.017825  1.799254  1.788635   \n",
      "2    1.461763  1.409860  1.536612  ...  2.146027  2.130870  1.969370   \n",
      "3    1.715354  1.558112  1.844970  ...  1.758975  1.856021  1.860659   \n",
      "4    1.594025  1.718606  1.956897  ...  1.983150  2.012945  2.105315   \n",
      "..        ...       ...       ...  ...       ...       ...       ...   \n",
      "235  1.933536  2.033859  2.321302  ...  2.151164  2.082241  2.227445   \n",
      "236  1.456237  1.634290  2.162663  ...  1.864573  1.631120  2.046277   \n",
      "237  1.894277  1.772146  2.164015  ...  2.053392  1.895737  1.535198   \n",
      "238  1.770768  1.511599  1.609304  ...  1.935135  2.068221  1.929208   \n",
      "239  2.300291  2.329399  2.070458  ...  2.325028  2.395573  2.144991   \n",
      "\n",
      "         ch25      ch26      ch27      ch28      ch29      ch30      ch31  \n",
      "0    2.047954  1.905277  2.271773  2.326088  1.957379  1.502508  1.439809  \n",
      "1    2.125438  1.583855  1.492340  1.821824  2.105687  2.206199  1.798340  \n",
      "2    2.005900  1.981501  1.906609  2.078488  2.004212  1.774654  1.915478  \n",
      "3    2.206989  2.153680  1.957958  1.946953  2.169911  2.259064  1.979406  \n",
      "4    2.327274  1.933479  1.974145  2.063111  1.901285  2.102979  2.186670  \n",
      "..        ...       ...       ...       ...       ...       ...       ...  \n",
      "235  2.041853  1.854628  1.657514  1.562282  1.852221  2.014689  2.093513  \n",
      "236  2.181916  1.651475  1.400859  1.692024  2.354971  2.026137  2.073186  \n",
      "237  1.879205  2.203761  2.277568  2.182182  2.291582  2.294386  2.139255  \n",
      "238  2.125121  2.155728  1.818364  1.955957  2.153329  2.480240  2.430284  \n",
      "239  1.922876  2.171638  2.299579  2.240846  1.827856  1.743959  2.129468  \n",
      "\n",
      "[240 rows x 32 columns]\n"
     ]
    }
   ],
   "source": [
    "print(df)"
   ]
  },
  {
   "cell_type": "code",
   "execution_count": 15,
   "metadata": {},
   "outputs": [],
   "source": [
    "X_train, X_test, y_train, y_test = train_test_split(X, y1, test_size=0.2, random_state=109)"
   ]
  },
  {
   "cell_type": "code",
   "execution_count": 16,
   "metadata": {},
   "outputs": [
    {
     "data": {
      "text/plain": [
       "pandas.core.frame.DataFrame"
      ]
     },
     "execution_count": 16,
     "metadata": {},
     "output_type": "execute_result"
    }
   ],
   "source": [
    "type(X_train)"
   ]
  },
  {
   "cell_type": "code",
   "execution_count": 17,
   "metadata": {},
   "outputs": [],
   "source": [
    "trainingX=np.array(X_train)"
   ]
  },
  {
   "cell_type": "code",
   "execution_count": 18,
   "metadata": {},
   "outputs": [],
   "source": [
    "testX=np.array(X_test)"
   ]
  },
  {
   "cell_type": "code",
   "execution_count": 19,
   "metadata": {},
   "outputs": [],
   "source": [
    "from skfeature.function.similarity_based import fisher_score"
   ]
  },
  {
   "cell_type": "code",
   "execution_count": 20,
   "metadata": {},
   "outputs": [],
   "source": [
    "score = fisher_score.fisher_score(trainingX,y_train)"
   ]
  },
  {
   "cell_type": "code",
   "execution_count": 21,
   "metadata": {},
   "outputs": [
    {
     "name": "stdout",
     "output_type": "stream",
     "text": [
      "[17 16 31  5 10  7 22  9 25 19 20  4 14 30 18 26 27 13 15  6 11 29 28  8\n",
      " 12  1  3 24  0 21 23  2]\n"
     ]
    }
   ],
   "source": [
    "print(score)"
   ]
  },
  {
   "cell_type": "code",
   "execution_count": 22,
   "metadata": {},
   "outputs": [],
   "source": [
    "idx = fisher_score.fisher_score(trainingX, y_train, mode='rank') "
   ]
  },
  {
   "cell_type": "code",
   "execution_count": 23,
   "metadata": {},
   "outputs": [
    {
     "name": "stdout",
     "output_type": "stream",
     "text": [
      "[17 16 31  5 10  7 22  9 25 19 20  4 14 30 18 26 27 13 15  6 11 29 28  8\n",
      " 12  1  3 24  0 21 23  2]\n"
     ]
    }
   ],
   "source": [
    "print(idx)"
   ]
  },
  {
   "cell_type": "code",
   "execution_count": 24,
   "metadata": {},
   "outputs": [
    {
     "name": "stdout",
     "output_type": "stream",
     "text": [
      "[[2.35421054 2.41353976 1.74287839 ... 2.28179732 2.20809851 2.07363852]\n",
      " [2.07509376 1.58336375 1.61448705 ... 1.54684713 1.53322692 1.79343865]\n",
      " [2.07520541 1.96360472 1.83265398 ... 1.68759184 1.9524725  1.32859249]\n",
      " ...\n",
      " [2.11821875 2.33245977 2.07495235 ... 1.86641941 1.63092126 1.80429182]\n",
      " [1.50353828 2.18058037 1.59764813 ... 2.2504722  1.57746064 1.91969977]\n",
      " [2.01846975 2.06111657 1.50227567 ... 1.92137126 2.1357767  2.03428033]]\n"
     ]
    }
   ],
   "source": [
    "num_fea = 128\n",
    "\n",
    "\n",
    "\t\t     \n",
    "selected_features_train = trainingX[:, idx[0:num_fea]]\n",
    "\n",
    "\n",
    "\t\t     \n",
    "selected_features_test = testX[:, idx[0:num_fea]]\n",
    "\n",
    "\n",
    "\t\t     \n",
    "print (selected_features_train)\n",
    "\n"
   ]
  },
  {
   "cell_type": "code",
   "execution_count": 25,
   "metadata": {},
   "outputs": [],
   "source": [
    "from sklearn import svm\n",
    "\n",
    "clf = svm.LinearSVC()"
   ]
  },
  {
   "cell_type": "code",
   "execution_count": 26,
   "metadata": {},
   "outputs": [
    {
     "name": "stderr",
     "output_type": "stream",
     "text": [
      "C:\\Users\\NAMRATA\\anaconda3\\lib\\site-packages\\sklearn\\svm\\_base.py:976: ConvergenceWarning: Liblinear failed to converge, increase the number of iterations.\n",
      "  warnings.warn(\"Liblinear failed to converge, increase \"\n"
     ]
    },
    {
     "data": {
      "text/plain": [
       "LinearSVC()"
      ]
     },
     "execution_count": 26,
     "metadata": {},
     "output_type": "execute_result"
    }
   ],
   "source": [
    "clf.fit(selected_features_train, y_train)"
   ]
  },
  {
   "cell_type": "code",
   "execution_count": 28,
   "metadata": {},
   "outputs": [
    {
     "name": "stdout",
     "output_type": "stream",
     "text": [
      "[1 1 1 1 0 0 0 1 0 1 0 1 0 1 0 0 0 1 0 1 0 1 0 1 1 0 1 0 0 0 1 1 0 1 1 0 0\n",
      " 0 0 0 1 1 1 1 0 0 1 0]\n"
     ]
    }
   ],
   "source": [
    "y_predict = clf.predict(selected_features_test)\n",
    "print (y_predict)"
   ]
  },
  {
   "cell_type": "code",
   "execution_count": 30,
   "metadata": {},
   "outputs": [
    {
     "name": "stdout",
     "output_type": "stream",
     "text": [
      "0.5\n"
     ]
    }
   ],
   "source": [
    "#performane evaluation\n",
    "from sklearn.metrics import accuracy_score\n",
    "\n",
    "acc = accuracy_score(y_test, y_predict)\n",
    "print (acc)\n"
   ]
  },
  {
   "cell_type": "code",
   "execution_count": 31,
   "metadata": {},
   "outputs": [],
   "source": [
    "X_train, X_test, y_train, y_test = train_test_split(X, y1, test_size=0.2, random_state=50)"
   ]
  },
  {
   "cell_type": "code",
   "execution_count": 32,
   "metadata": {},
   "outputs": [],
   "source": [
    "#Import Gaussian Naive Bayes model\n",
    "from sklearn.naive_bayes import GaussianNB\n",
    "\n",
    "#Create a Gaussian Classifier\n",
    "gnb = GaussianNB()\n",
    "\n",
    "#Train the model using the training sets\n",
    "gnb.fit(X_train, y_train)\n",
    "\n",
    "#Predict the response for test dataset\n",
    "y_pred = gnb.predict(X_test)"
   ]
  },
  {
   "cell_type": "code",
   "execution_count": 33,
   "metadata": {},
   "outputs": [
    {
     "name": "stdout",
     "output_type": "stream",
     "text": [
      "Accuracy: 0.5416666666666666\n"
     ]
    }
   ],
   "source": [
    "#Import scikit-learn metrics module for accuracy calculation\n",
    "from sklearn import metrics\n",
    "\n",
    "# Model Accuracy, how often is the classifier correct?\n",
    "print(\"Accuracy:\",metrics.accuracy_score(y_test, y_pred))\n"
   ]
  },
  {
   "cell_type": "code",
   "execution_count": 34,
   "metadata": {},
   "outputs": [],
   "source": [
    "from sklearn.preprocessing import StandardScaler\n",
    "sc = StandardScaler()\n",
    "X_train = sc.fit_transform(X_train)\n",
    "X_test = sc.transform(X_test)"
   ]
  },
  {
   "cell_type": "code",
   "execution_count": 35,
   "metadata": {},
   "outputs": [
    {
     "data": {
      "text/plain": [
       "KNeighborsClassifier()"
      ]
     },
     "execution_count": 35,
     "metadata": {},
     "output_type": "execute_result"
    }
   ],
   "source": [
    "from sklearn.neighbors import KNeighborsClassifier\n",
    "classifier = KNeighborsClassifier(n_neighbors = 5, metric = 'minkowski', p = 2)\n",
    "classifier.fit(X_train, y_train)"
   ]
  },
  {
   "cell_type": "code",
   "execution_count": 36,
   "metadata": {},
   "outputs": [],
   "source": [
    "y_pred = classifier.predict(X_test)"
   ]
  },
  {
   "cell_type": "code",
   "execution_count": 37,
   "metadata": {},
   "outputs": [
    {
     "name": "stdout",
     "output_type": "stream",
     "text": [
      "0.5208333333333334\n"
     ]
    }
   ],
   "source": [
    "from sklearn.metrics import confusion_matrix,accuracy_score\n",
    "cm = confusion_matrix(y_test, y_pred)\n",
    "ac = accuracy_score(y_test,y_pred)\n",
    "print(ac)"
   ]
  },
  {
   "cell_type": "markdown",
   "metadata": {},
   "source": [
    "# Mayfly"
   ]
  },
  {
   "cell_type": "code",
   "execution_count": 38,
   "metadata": {},
   "outputs": [
    {
     "name": "stdout",
     "output_type": "stream",
     "text": [
      "Requirement already satisfied: numpy in c:\\users\\namrata\\anaconda3\\lib\\site-packages (1.22.2)\n",
      "Requirement already satisfied: sklearn in c:\\users\\namrata\\anaconda3\\lib\\site-packages (0.0)\n",
      "Requirement already satisfied: scikit-learn in c:\\users\\namrata\\anaconda3\\lib\\site-packages (from sklearn) (0.23.2)\n",
      "Requirement already satisfied: scipy>=0.19.1 in c:\\users\\namrata\\anaconda3\\lib\\site-packages (from scikit-learn->sklearn) (1.6.2)\n",
      "Requirement already satisfied: threadpoolctl>=2.0.0 in c:\\users\\namrata\\anaconda3\\lib\\site-packages (from scikit-learn->sklearn) (2.1.0)\n",
      "Requirement already satisfied: numpy>=1.13.3 in c:\\users\\namrata\\anaconda3\\lib\\site-packages (from scikit-learn->sklearn) (1.22.2)\n",
      "Requirement already satisfied: joblib>=0.11 in c:\\users\\namrata\\anaconda3\\lib\\site-packages (from scikit-learn->sklearn) (0.17.0)\n",
      "Requirement already satisfied: matplotlib in c:\\users\\namrata\\anaconda3\\lib\\site-packages (3.3.2)\n",
      "Requirement already satisfied: python-dateutil>=2.1 in c:\\users\\namrata\\anaconda3\\lib\\site-packages (from matplotlib) (2.8.1)\n",
      "Requirement already satisfied: certifi>=2020.06.20 in c:\\users\\namrata\\anaconda3\\lib\\site-packages (from matplotlib) (2021.5.30)\n",
      "Requirement already satisfied: cycler>=0.10 in c:\\users\\namrata\\anaconda3\\lib\\site-packages (from matplotlib) (0.10.0)\n",
      "Requirement already satisfied: pyparsing!=2.0.4,!=2.1.2,!=2.1.6,>=2.0.3 in c:\\users\\namrata\\anaconda3\\lib\\site-packages (from matplotlib) (2.4.7)\n",
      "Requirement already satisfied: numpy>=1.15 in c:\\users\\namrata\\anaconda3\\lib\\site-packages (from matplotlib) (1.22.2)\n",
      "Requirement already satisfied: pillow>=6.2.0 in c:\\users\\namrata\\anaconda3\\lib\\site-packages (from matplotlib) (8.3.1)\n",
      "Requirement already satisfied: kiwisolver>=1.0.1 in c:\\users\\namrata\\anaconda3\\lib\\site-packages (from matplotlib) (1.3.0)\n",
      "Requirement already satisfied: six>=1.5 in c:\\users\\namrata\\anaconda3\\lib\\site-packages (from python-dateutil>=2.1->matplotlib) (1.15.0)\n",
      "Requirement already satisfied: ReliefF in c:\\users\\namrata\\anaconda3\\lib\\site-packages (0.1.2)\n",
      "Requirement already satisfied: scipy in c:\\users\\namrata\\anaconda3\\lib\\site-packages (from ReliefF) (1.6.2)\n",
      "Requirement already satisfied: scikit-learn in c:\\users\\namrata\\anaconda3\\lib\\site-packages (from ReliefF) (0.23.2)\n",
      "Requirement already satisfied: numpy in c:\\users\\namrata\\anaconda3\\lib\\site-packages (from ReliefF) (1.22.2)\n",
      "Requirement already satisfied: joblib>=0.11 in c:\\users\\namrata\\anaconda3\\lib\\site-packages (from scikit-learn->ReliefF) (0.17.0)\n",
      "Requirement already satisfied: threadpoolctl>=2.0.0 in c:\\users\\namrata\\anaconda3\\lib\\site-packages (from scikit-learn->ReliefF) (2.1.0)\n",
      "Requirement already up-to-date: Py_FS in c:\\users\\namrata\\anaconda3\\lib\\site-packages (0.0.44)\n"
     ]
    }
   ],
   "source": [
    "!pip install numpy\n",
    "!pip install sklearn\n",
    "!pip install matplotlib\n",
    "!pip install ReliefF\n",
    "!pip install -U Py_FS"
   ]
  },
  {
   "cell_type": "code",
   "execution_count": 39,
   "metadata": {},
   "outputs": [
    {
     "name": "stdout",
     "output_type": "stream",
     "text": [
      "Weight for the classification accuracy [0-1]: 1\n",
      "Enter the percentage of data wanted for valdiation [0, 100]: 40\n",
      "\n",
      "================================================================================\n",
      "                          Iteration - 1\n",
      "================================================================================\n",
      "\n",
      "\n",
      "Number of agents: 30\n",
      "\n",
      "------------- Best Agent ---------------\n",
      "Fitness: 0.6875\n",
      "Number of Features: 24\n",
      "----------------------------------------\n",
      "\n",
      "Mayfly 1 - Fitness: 0.6875, Number of Features: 24\n",
      "Mayfly 2 - Fitness: 0.6145833333333334, Number of Features: 21\n",
      "Mayfly 3 - Fitness: 0.6145833333333334, Number of Features: 21\n",
      "Mayfly 4 - Fitness: 0.6145833333333334, Number of Features: 28\n",
      "Mayfly 5 - Fitness: 0.6041666666666666, Number of Features: 20\n",
      "Mayfly 6 - Fitness: 0.59375, Number of Features: 25\n",
      "Mayfly 7 - Fitness: 0.5833333333333334, Number of Features: 20\n",
      "Mayfly 8 - Fitness: 0.5833333333333334, Number of Features: 24\n",
      "Mayfly 9 - Fitness: 0.5833333333333334, Number of Features: 23\n",
      "Mayfly 10 - Fitness: 0.5833333333333334, Number of Features: 13\n",
      "Mayfly 11 - Fitness: 0.5833333333333334, Number of Features: 13\n",
      "Mayfly 12 - Fitness: 0.5833333333333334, Number of Features: 13\n",
      "Mayfly 13 - Fitness: 0.5729166666666666, Number of Features: 23\n",
      "Mayfly 14 - Fitness: 0.5625, Number of Features: 18\n",
      "Mayfly 15 - Fitness: 0.5625, Number of Features: 18\n",
      "Mayfly 16 - Fitness: 0.5625, Number of Features: 20\n",
      "Mayfly 17 - Fitness: 0.5625, Number of Features: 21\n",
      "Mayfly 18 - Fitness: 0.5625, Number of Features: 24\n",
      "Mayfly 19 - Fitness: 0.5625, Number of Features: 23\n",
      "Mayfly 20 - Fitness: 0.5625, Number of Features: 23\n",
      "Mayfly 21 - Fitness: 0.5625, Number of Features: 23\n",
      "Mayfly 22 - Fitness: 0.5625, Number of Features: 23\n",
      "Mayfly 23 - Fitness: 0.5625, Number of Features: 23\n",
      "Mayfly 24 - Fitness: 0.5625, Number of Features: 23\n",
      "Mayfly 25 - Fitness: 0.5520833333333334, Number of Features: 22\n",
      "Mayfly 26 - Fitness: 0.5520833333333334, Number of Features: 22\n",
      "Mayfly 27 - Fitness: 0.5520833333333334, Number of Features: 20\n",
      "Mayfly 28 - Fitness: 0.5520833333333334, Number of Features: 23\n",
      "Mayfly 29 - Fitness: 0.5416666666666666, Number of Features: 21\n",
      "Mayfly 30 - Fitness: 0.5416666666666666, Number of Features: 21\n",
      "================================================================================\n",
      "\n",
      "\n",
      "================================================================================\n",
      "                          Iteration - 2\n",
      "================================================================================\n",
      "\n",
      "\n",
      "Number of agents: 30\n",
      "\n",
      "------------- Best Agent ---------------\n",
      "Fitness: 0.65625\n",
      "Number of Features: 18\n",
      "----------------------------------------\n",
      "\n",
      "Mayfly 1 - Fitness: 0.65625, Number of Features: 18\n",
      "Mayfly 2 - Fitness: 0.65625, Number of Features: 18\n",
      "Mayfly 3 - Fitness: 0.6458333333333334, Number of Features: 23\n",
      "Mayfly 4 - Fitness: 0.6354166666666666, Number of Features: 22\n",
      "Mayfly 5 - Fitness: 0.625, Number of Features: 25\n",
      "Mayfly 6 - Fitness: 0.625, Number of Features: 23\n",
      "Mayfly 7 - Fitness: 0.6041666666666666, Number of Features: 20\n",
      "Mayfly 8 - Fitness: 0.59375, Number of Features: 18\n",
      "Mayfly 9 - Fitness: 0.59375, Number of Features: 26\n",
      "Mayfly 10 - Fitness: 0.5833333333333334, Number of Features: 22\n",
      "Mayfly 11 - Fitness: 0.5833333333333334, Number of Features: 22\n",
      "Mayfly 12 - Fitness: 0.5833333333333334, Number of Features: 21\n",
      "Mayfly 13 - Fitness: 0.5833333333333334, Number of Features: 24\n",
      "Mayfly 14 - Fitness: 0.5729166666666666, Number of Features: 27\n",
      "Mayfly 15 - Fitness: 0.5729166666666666, Number of Features: 20\n",
      "Mayfly 16 - Fitness: 0.5729166666666666, Number of Features: 20\n",
      "Mayfly 17 - Fitness: 0.5625, Number of Features: 22\n",
      "Mayfly 18 - Fitness: 0.5625, Number of Features: 22\n",
      "Mayfly 19 - Fitness: 0.5625, Number of Features: 22\n",
      "Mayfly 20 - Fitness: 0.5625, Number of Features: 23\n",
      "Mayfly 21 - Fitness: 0.5625, Number of Features: 23\n",
      "Mayfly 22 - Fitness: 0.5520833333333334, Number of Features: 22\n",
      "Mayfly 23 - Fitness: 0.5520833333333334, Number of Features: 22\n",
      "Mayfly 24 - Fitness: 0.5520833333333334, Number of Features: 25\n",
      "Mayfly 25 - Fitness: 0.5520833333333334, Number of Features: 23\n",
      "Mayfly 26 - Fitness: 0.5520833333333334, Number of Features: 23\n",
      "Mayfly 27 - Fitness: 0.5520833333333334, Number of Features: 27\n",
      "Mayfly 28 - Fitness: 0.5520833333333334, Number of Features: 25\n",
      "Mayfly 29 - Fitness: 0.5520833333333334, Number of Features: 23\n",
      "Mayfly 30 - Fitness: 0.5208333333333334, Number of Features: 22\n",
      "================================================================================\n",
      "\n",
      "\n",
      "================================================================================\n",
      "                          Iteration - 3\n",
      "================================================================================\n",
      "\n",
      "\n",
      "Number of agents: 30\n",
      "\n",
      "------------- Best Agent ---------------\n",
      "Fitness: 0.625\n",
      "Number of Features: 23\n",
      "----------------------------------------\n",
      "\n",
      "Mayfly 1 - Fitness: 0.625, Number of Features: 23\n",
      "Mayfly 2 - Fitness: 0.625, Number of Features: 23\n",
      "Mayfly 3 - Fitness: 0.6145833333333334, Number of Features: 22\n",
      "Mayfly 4 - Fitness: 0.6145833333333334, Number of Features: 22\n",
      "Mayfly 5 - Fitness: 0.6145833333333334, Number of Features: 22\n",
      "Mayfly 6 - Fitness: 0.6041666666666666, Number of Features: 24\n",
      "Mayfly 7 - Fitness: 0.59375, Number of Features: 27\n",
      "Mayfly 8 - Fitness: 0.59375, Number of Features: 24\n",
      "Mayfly 9 - Fitness: 0.59375, Number of Features: 28\n",
      "Mayfly 10 - Fitness: 0.59375, Number of Features: 23\n",
      "Mayfly 11 - Fitness: 0.5833333333333334, Number of Features: 21\n",
      "Mayfly 12 - Fitness: 0.5833333333333334, Number of Features: 18\n",
      "Mayfly 13 - Fitness: 0.5833333333333334, Number of Features: 22\n",
      "Mayfly 14 - Fitness: 0.5833333333333334, Number of Features: 19\n",
      "Mayfly 15 - Fitness: 0.5833333333333334, Number of Features: 19\n",
      "Mayfly 16 - Fitness: 0.5729166666666666, Number of Features: 18\n",
      "Mayfly 17 - Fitness: 0.5729166666666666, Number of Features: 18\n",
      "Mayfly 18 - Fitness: 0.5729166666666666, Number of Features: 18\n",
      "Mayfly 19 - Fitness: 0.5729166666666666, Number of Features: 18\n",
      "Mayfly 20 - Fitness: 0.5729166666666666, Number of Features: 18\n",
      "Mayfly 21 - Fitness: 0.5729166666666666, Number of Features: 18\n",
      "Mayfly 22 - Fitness: 0.5625, Number of Features: 23\n",
      "Mayfly 23 - Fitness: 0.5625, Number of Features: 25\n",
      "Mayfly 24 - Fitness: 0.5625, Number of Features: 27\n",
      "Mayfly 25 - Fitness: 0.5625, Number of Features: 20\n",
      "Mayfly 26 - Fitness: 0.5625, Number of Features: 26\n",
      "Mayfly 27 - Fitness: 0.5520833333333334, Number of Features: 20\n",
      "Mayfly 28 - Fitness: 0.5520833333333334, Number of Features: 20\n",
      "Mayfly 29 - Fitness: 0.5520833333333334, Number of Features: 20\n",
      "Mayfly 30 - Fitness: 0.5520833333333334, Number of Features: 26\n",
      "================================================================================\n",
      "\n",
      "\n",
      "================================================================================\n",
      "                          Iteration - 4\n",
      "================================================================================\n",
      "\n",
      "\n",
      "Number of agents: 30\n",
      "\n",
      "------------- Best Agent ---------------\n",
      "Fitness: 0.6458333333333334\n",
      "Number of Features: 17\n",
      "----------------------------------------\n",
      "\n",
      "Mayfly 1 - Fitness: 0.6458333333333334, Number of Features: 17\n",
      "Mayfly 2 - Fitness: 0.6354166666666666, Number of Features: 24\n",
      "Mayfly 3 - Fitness: 0.625, Number of Features: 20\n",
      "Mayfly 4 - Fitness: 0.625, Number of Features: 26\n",
      "Mayfly 5 - Fitness: 0.6145833333333334, Number of Features: 18\n",
      "Mayfly 6 - Fitness: 0.6145833333333334, Number of Features: 18\n",
      "Mayfly 7 - Fitness: 0.6145833333333334, Number of Features: 18\n",
      "Mayfly 8 - Fitness: 0.6145833333333334, Number of Features: 18\n",
      "Mayfly 9 - Fitness: 0.6145833333333334, Number of Features: 18\n",
      "Mayfly 10 - Fitness: 0.6145833333333334, Number of Features: 18\n",
      "Mayfly 11 - Fitness: 0.6041666666666666, Number of Features: 21\n",
      "Mayfly 12 - Fitness: 0.6041666666666666, Number of Features: 21\n",
      "Mayfly 13 - Fitness: 0.59375, Number of Features: 25\n",
      "Mayfly 14 - Fitness: 0.59375, Number of Features: 27\n",
      "Mayfly 15 - Fitness: 0.59375, Number of Features: 25\n",
      "Mayfly 16 - Fitness: 0.59375, Number of Features: 25\n",
      "Mayfly 17 - Fitness: 0.59375, Number of Features: 23\n",
      "Mayfly 18 - Fitness: 0.5833333333333334, Number of Features: 20\n",
      "Mayfly 19 - Fitness: 0.5833333333333334, Number of Features: 20\n",
      "Mayfly 20 - Fitness: 0.5833333333333334, Number of Features: 20\n",
      "Mayfly 21 - Fitness: 0.5833333333333334, Number of Features: 20\n",
      "Mayfly 22 - Fitness: 0.5833333333333334, Number of Features: 20\n",
      "Mayfly 23 - Fitness: 0.5729166666666666, Number of Features: 20\n",
      "Mayfly 24 - Fitness: 0.5729166666666666, Number of Features: 24\n",
      "Mayfly 25 - Fitness: 0.5625, Number of Features: 17\n",
      "Mayfly 26 - Fitness: 0.5625, Number of Features: 20\n",
      "Mayfly 27 - Fitness: 0.5625, Number of Features: 24\n",
      "Mayfly 28 - Fitness: 0.5625, Number of Features: 17\n",
      "Mayfly 29 - Fitness: 0.5625, Number of Features: 18\n",
      "Mayfly 30 - Fitness: 0.5625, Number of Features: 19\n",
      "================================================================================\n",
      "\n",
      "\n",
      "================================================================================\n",
      "                          Iteration - 5\n",
      "================================================================================\n",
      "\n"
     ]
    },
    {
     "name": "stdout",
     "output_type": "stream",
     "text": [
      "\n",
      "Number of agents: 30\n",
      "\n",
      "------------- Best Agent ---------------\n",
      "Fitness: 0.625\n",
      "Number of Features: 16\n",
      "----------------------------------------\n",
      "\n",
      "Mayfly 1 - Fitness: 0.625, Number of Features: 16\n",
      "Mayfly 2 - Fitness: 0.625, Number of Features: 16\n",
      "Mayfly 3 - Fitness: 0.625, Number of Features: 16\n",
      "Mayfly 4 - Fitness: 0.6145833333333334, Number of Features: 23\n",
      "Mayfly 5 - Fitness: 0.6145833333333334, Number of Features: 20\n",
      "Mayfly 6 - Fitness: 0.59375, Number of Features: 21\n",
      "Mayfly 7 - Fitness: 0.59375, Number of Features: 25\n",
      "Mayfly 8 - Fitness: 0.59375, Number of Features: 27\n",
      "Mayfly 9 - Fitness: 0.5833333333333334, Number of Features: 21\n",
      "Mayfly 10 - Fitness: 0.5833333333333334, Number of Features: 28\n",
      "Mayfly 11 - Fitness: 0.5833333333333334, Number of Features: 24\n",
      "Mayfly 12 - Fitness: 0.5729166666666666, Number of Features: 25\n",
      "Mayfly 13 - Fitness: 0.5729166666666666, Number of Features: 27\n",
      "Mayfly 14 - Fitness: 0.5729166666666666, Number of Features: 16\n",
      "Mayfly 15 - Fitness: 0.5729166666666666, Number of Features: 16\n",
      "Mayfly 16 - Fitness: 0.5625, Number of Features: 25\n",
      "Mayfly 17 - Fitness: 0.5625, Number of Features: 25\n",
      "Mayfly 18 - Fitness: 0.5625, Number of Features: 18\n",
      "Mayfly 19 - Fitness: 0.5625, Number of Features: 18\n",
      "Mayfly 20 - Fitness: 0.5625, Number of Features: 18\n",
      "Mayfly 21 - Fitness: 0.5625, Number of Features: 18\n",
      "Mayfly 22 - Fitness: 0.5625, Number of Features: 18\n",
      "Mayfly 23 - Fitness: 0.5625, Number of Features: 18\n",
      "Mayfly 24 - Fitness: 0.5625, Number of Features: 18\n",
      "Mayfly 25 - Fitness: 0.5520833333333334, Number of Features: 26\n",
      "Mayfly 26 - Fitness: 0.5416666666666666, Number of Features: 18\n",
      "Mayfly 27 - Fitness: 0.5416666666666666, Number of Features: 24\n",
      "Mayfly 28 - Fitness: 0.5416666666666666, Number of Features: 19\n",
      "Mayfly 29 - Fitness: 0.5416666666666666, Number of Features: 25\n",
      "Mayfly 30 - Fitness: 0.5416666666666666, Number of Features: 25\n",
      "================================================================================\n",
      "\n",
      "\n",
      "================================================================================\n",
      "                          Iteration - 6\n",
      "================================================================================\n",
      "\n",
      "\n",
      "Number of agents: 30\n",
      "\n",
      "------------- Best Agent ---------------\n",
      "Fitness: 0.6458333333333334\n",
      "Number of Features: 24\n",
      "----------------------------------------\n",
      "\n",
      "Mayfly 1 - Fitness: 0.6458333333333334, Number of Features: 24\n",
      "Mayfly 2 - Fitness: 0.6354166666666666, Number of Features: 22\n",
      "Mayfly 3 - Fitness: 0.6145833333333334, Number of Features: 20\n",
      "Mayfly 4 - Fitness: 0.6145833333333334, Number of Features: 28\n",
      "Mayfly 5 - Fitness: 0.6041666666666666, Number of Features: 21\n",
      "Mayfly 6 - Fitness: 0.5833333333333334, Number of Features: 19\n",
      "Mayfly 7 - Fitness: 0.5833333333333334, Number of Features: 19\n",
      "Mayfly 8 - Fitness: 0.5833333333333334, Number of Features: 19\n",
      "Mayfly 9 - Fitness: 0.5833333333333334, Number of Features: 19\n",
      "Mayfly 10 - Fitness: 0.5833333333333334, Number of Features: 26\n",
      "Mayfly 11 - Fitness: 0.5833333333333334, Number of Features: 27\n",
      "Mayfly 12 - Fitness: 0.5729166666666666, Number of Features: 24\n",
      "Mayfly 13 - Fitness: 0.5625, Number of Features: 27\n",
      "Mayfly 14 - Fitness: 0.5625, Number of Features: 20\n",
      "Mayfly 15 - Fitness: 0.5625, Number of Features: 24\n",
      "Mayfly 16 - Fitness: 0.5625, Number of Features: 23\n",
      "Mayfly 17 - Fitness: 0.5625, Number of Features: 23\n",
      "Mayfly 18 - Fitness: 0.5625, Number of Features: 23\n",
      "Mayfly 19 - Fitness: 0.5625, Number of Features: 23\n",
      "Mayfly 20 - Fitness: 0.5520833333333334, Number of Features: 22\n",
      "Mayfly 21 - Fitness: 0.5520833333333334, Number of Features: 22\n",
      "Mayfly 22 - Fitness: 0.5520833333333334, Number of Features: 22\n",
      "Mayfly 23 - Fitness: 0.5520833333333334, Number of Features: 22\n",
      "Mayfly 24 - Fitness: 0.5520833333333334, Number of Features: 22\n",
      "Mayfly 25 - Fitness: 0.5520833333333334, Number of Features: 20\n",
      "Mayfly 26 - Fitness: 0.5520833333333334, Number of Features: 24\n",
      "Mayfly 27 - Fitness: 0.5520833333333334, Number of Features: 19\n",
      "Mayfly 28 - Fitness: 0.5416666666666666, Number of Features: 24\n",
      "Mayfly 29 - Fitness: 0.5416666666666666, Number of Features: 24\n",
      "Mayfly 30 - Fitness: 0.5416666666666666, Number of Features: 24\n",
      "================================================================================\n",
      "\n",
      "\n",
      "================================================================================\n",
      "                          Iteration - 7\n",
      "================================================================================\n",
      "\n",
      "\n",
      "Number of agents: 30\n",
      "\n",
      "------------- Best Agent ---------------\n",
      "Fitness: 0.6354166666666666\n",
      "Number of Features: 19\n",
      "----------------------------------------\n",
      "\n",
      "Mayfly 1 - Fitness: 0.6354166666666666, Number of Features: 19\n",
      "Mayfly 2 - Fitness: 0.6354166666666666, Number of Features: 24\n",
      "Mayfly 3 - Fitness: 0.6145833333333334, Number of Features: 27\n",
      "Mayfly 4 - Fitness: 0.6041666666666666, Number of Features: 19\n",
      "Mayfly 5 - Fitness: 0.59375, Number of Features: 20\n",
      "Mayfly 6 - Fitness: 0.59375, Number of Features: 25\n",
      "Mayfly 7 - Fitness: 0.59375, Number of Features: 25\n",
      "Mayfly 8 - Fitness: 0.59375, Number of Features: 25\n",
      "Mayfly 9 - Fitness: 0.59375, Number of Features: 26\n",
      "Mayfly 10 - Fitness: 0.59375, Number of Features: 21\n",
      "Mayfly 11 - Fitness: 0.59375, Number of Features: 21\n",
      "Mayfly 12 - Fitness: 0.59375, Number of Features: 21\n",
      "Mayfly 13 - Fitness: 0.5833333333333334, Number of Features: 16\n",
      "Mayfly 14 - Fitness: 0.5833333333333334, Number of Features: 16\n",
      "Mayfly 15 - Fitness: 0.5833333333333334, Number of Features: 16\n",
      "Mayfly 16 - Fitness: 0.5833333333333334, Number of Features: 20\n",
      "Mayfly 17 - Fitness: 0.5833333333333334, Number of Features: 19\n",
      "Mayfly 18 - Fitness: 0.5833333333333334, Number of Features: 19\n",
      "Mayfly 19 - Fitness: 0.5833333333333334, Number of Features: 19\n",
      "Mayfly 20 - Fitness: 0.5833333333333334, Number of Features: 19\n",
      "Mayfly 21 - Fitness: 0.5729166666666666, Number of Features: 21\n",
      "Mayfly 22 - Fitness: 0.5729166666666666, Number of Features: 24\n",
      "Mayfly 23 - Fitness: 0.5729166666666666, Number of Features: 24\n",
      "Mayfly 24 - Fitness: 0.5729166666666666, Number of Features: 23\n",
      "Mayfly 25 - Fitness: 0.5729166666666666, Number of Features: 23\n",
      "Mayfly 26 - Fitness: 0.5729166666666666, Number of Features: 23\n",
      "Mayfly 27 - Fitness: 0.5625, Number of Features: 27\n",
      "Mayfly 28 - Fitness: 0.5625, Number of Features: 23\n",
      "Mayfly 29 - Fitness: 0.5625, Number of Features: 21\n",
      "Mayfly 30 - Fitness: 0.5625, Number of Features: 21\n",
      "================================================================================\n",
      "\n",
      "\n",
      "================================================================================\n",
      "                          Iteration - 8\n",
      "================================================================================\n",
      "\n",
      "\n",
      "Number of agents: 30\n",
      "\n",
      "------------- Best Agent ---------------\n",
      "Fitness: 0.6666666666666666\n",
      "Number of Features: 25\n",
      "----------------------------------------\n",
      "\n",
      "Mayfly 1 - Fitness: 0.6666666666666666, Number of Features: 25\n",
      "Mayfly 2 - Fitness: 0.6458333333333334, Number of Features: 23\n",
      "Mayfly 3 - Fitness: 0.6458333333333334, Number of Features: 23\n",
      "Mayfly 4 - Fitness: 0.6458333333333334, Number of Features: 24\n",
      "Mayfly 5 - Fitness: 0.6145833333333334, Number of Features: 25\n",
      "Mayfly 6 - Fitness: 0.6145833333333334, Number of Features: 22\n",
      "Mayfly 7 - Fitness: 0.6041666666666666, Number of Features: 19\n",
      "Mayfly 8 - Fitness: 0.6041666666666666, Number of Features: 19\n",
      "Mayfly 9 - Fitness: 0.59375, Number of Features: 21\n",
      "Mayfly 10 - Fitness: 0.59375, Number of Features: 22\n",
      "Mayfly 11 - Fitness: 0.5833333333333334, Number of Features: 19\n",
      "Mayfly 12 - Fitness: 0.5833333333333334, Number of Features: 19\n",
      "Mayfly 13 - Fitness: 0.5833333333333334, Number of Features: 21\n",
      "Mayfly 14 - Fitness: 0.5833333333333334, Number of Features: 23\n",
      "Mayfly 15 - Fitness: 0.5729166666666666, Number of Features: 25\n",
      "Mayfly 16 - Fitness: 0.5729166666666666, Number of Features: 21\n",
      "Mayfly 17 - Fitness: 0.5729166666666666, Number of Features: 22\n",
      "Mayfly 18 - Fitness: 0.5729166666666666, Number of Features: 25\n",
      "Mayfly 19 - Fitness: 0.5729166666666666, Number of Features: 21\n",
      "Mayfly 20 - Fitness: 0.5729166666666666, Number of Features: 22\n",
      "Mayfly 21 - Fitness: 0.5625, Number of Features: 22\n",
      "Mayfly 22 - Fitness: 0.5625, Number of Features: 23\n",
      "Mayfly 23 - Fitness: 0.5520833333333334, Number of Features: 21\n",
      "Mayfly 24 - Fitness: 0.5520833333333334, Number of Features: 26\n",
      "Mayfly 25 - Fitness: 0.5520833333333334, Number of Features: 22\n",
      "Mayfly 26 - Fitness: 0.5520833333333334, Number of Features: 21\n",
      "Mayfly 27 - Fitness: 0.53125, Number of Features: 18\n",
      "Mayfly 28 - Fitness: 0.53125, Number of Features: 27\n",
      "Mayfly 29 - Fitness: 0.53125, Number of Features: 27\n",
      "Mayfly 30 - Fitness: 0.53125, Number of Features: 27\n",
      "================================================================================\n",
      "\n",
      "\n",
      "================================================================================\n",
      "                          Iteration - 9\n",
      "================================================================================\n",
      "\n"
     ]
    },
    {
     "name": "stdout",
     "output_type": "stream",
     "text": [
      "\n",
      "Number of agents: 30\n",
      "\n",
      "------------- Best Agent ---------------\n",
      "Fitness: 0.65625\n",
      "Number of Features: 26\n",
      "----------------------------------------\n",
      "\n",
      "Mayfly 1 - Fitness: 0.65625, Number of Features: 26\n",
      "Mayfly 2 - Fitness: 0.6354166666666666, Number of Features: 23\n",
      "Mayfly 3 - Fitness: 0.6354166666666666, Number of Features: 23\n",
      "Mayfly 4 - Fitness: 0.6354166666666666, Number of Features: 25\n",
      "Mayfly 5 - Fitness: 0.625, Number of Features: 24\n",
      "Mayfly 6 - Fitness: 0.6041666666666666, Number of Features: 23\n",
      "Mayfly 7 - Fitness: 0.6041666666666666, Number of Features: 23\n",
      "Mayfly 8 - Fitness: 0.6041666666666666, Number of Features: 22\n",
      "Mayfly 9 - Fitness: 0.6041666666666666, Number of Features: 23\n",
      "Mayfly 10 - Fitness: 0.6041666666666666, Number of Features: 24\n",
      "Mayfly 11 - Fitness: 0.59375, Number of Features: 24\n",
      "Mayfly 12 - Fitness: 0.59375, Number of Features: 22\n",
      "Mayfly 13 - Fitness: 0.5833333333333334, Number of Features: 22\n",
      "Mayfly 14 - Fitness: 0.5729166666666666, Number of Features: 18\n",
      "Mayfly 15 - Fitness: 0.5729166666666666, Number of Features: 21\n",
      "Mayfly 16 - Fitness: 0.5729166666666666, Number of Features: 22\n",
      "Mayfly 17 - Fitness: 0.5729166666666666, Number of Features: 24\n",
      "Mayfly 18 - Fitness: 0.5729166666666666, Number of Features: 25\n",
      "Mayfly 19 - Fitness: 0.5625, Number of Features: 18\n",
      "Mayfly 20 - Fitness: 0.5520833333333334, Number of Features: 22\n",
      "Mayfly 21 - Fitness: 0.5520833333333334, Number of Features: 22\n",
      "Mayfly 22 - Fitness: 0.5520833333333334, Number of Features: 26\n",
      "Mayfly 23 - Fitness: 0.5520833333333334, Number of Features: 29\n",
      "Mayfly 24 - Fitness: 0.5520833333333334, Number of Features: 23\n",
      "Mayfly 25 - Fitness: 0.5520833333333334, Number of Features: 27\n",
      "Mayfly 26 - Fitness: 0.5520833333333334, Number of Features: 22\n",
      "Mayfly 27 - Fitness: 0.5416666666666666, Number of Features: 22\n",
      "Mayfly 28 - Fitness: 0.5416666666666666, Number of Features: 22\n",
      "Mayfly 29 - Fitness: 0.53125, Number of Features: 20\n",
      "Mayfly 30 - Fitness: 0.53125, Number of Features: 20\n",
      "================================================================================\n",
      "\n",
      "\n",
      "================================================================================\n",
      "                          Iteration - 10\n",
      "================================================================================\n",
      "\n",
      "\n",
      "Number of agents: 30\n",
      "\n",
      "------------- Best Agent ---------------\n",
      "Fitness: 0.6354166666666666\n",
      "Number of Features: 17\n",
      "----------------------------------------\n",
      "\n",
      "Mayfly 1 - Fitness: 0.6354166666666666, Number of Features: 17\n",
      "Mayfly 2 - Fitness: 0.625, Number of Features: 21\n",
      "Mayfly 3 - Fitness: 0.6145833333333334, Number of Features: 25\n",
      "Mayfly 4 - Fitness: 0.6041666666666666, Number of Features: 18\n",
      "Mayfly 5 - Fitness: 0.6041666666666666, Number of Features: 18\n",
      "Mayfly 6 - Fitness: 0.6041666666666666, Number of Features: 18\n",
      "Mayfly 7 - Fitness: 0.6041666666666666, Number of Features: 18\n",
      "Mayfly 8 - Fitness: 0.6041666666666666, Number of Features: 19\n",
      "Mayfly 9 - Fitness: 0.6041666666666666, Number of Features: 19\n",
      "Mayfly 10 - Fitness: 0.6041666666666666, Number of Features: 18\n",
      "Mayfly 11 - Fitness: 0.6041666666666666, Number of Features: 19\n",
      "Mayfly 12 - Fitness: 0.6041666666666666, Number of Features: 19\n",
      "Mayfly 13 - Fitness: 0.6041666666666666, Number of Features: 21\n",
      "Mayfly 14 - Fitness: 0.6041666666666666, Number of Features: 21\n",
      "Mayfly 15 - Fitness: 0.6041666666666666, Number of Features: 21\n",
      "Mayfly 16 - Fitness: 0.6041666666666666, Number of Features: 21\n",
      "Mayfly 17 - Fitness: 0.6041666666666666, Number of Features: 19\n",
      "Mayfly 18 - Fitness: 0.59375, Number of Features: 21\n",
      "Mayfly 19 - Fitness: 0.59375, Number of Features: 19\n",
      "Mayfly 20 - Fitness: 0.59375, Number of Features: 19\n",
      "Mayfly 21 - Fitness: 0.5833333333333334, Number of Features: 23\n",
      "Mayfly 22 - Fitness: 0.5833333333333334, Number of Features: 23\n",
      "Mayfly 23 - Fitness: 0.5729166666666666, Number of Features: 24\n",
      "Mayfly 24 - Fitness: 0.5625, Number of Features: 23\n",
      "Mayfly 25 - Fitness: 0.5625, Number of Features: 23\n",
      "Mayfly 26 - Fitness: 0.5625, Number of Features: 21\n",
      "Mayfly 27 - Fitness: 0.5625, Number of Features: 19\n",
      "Mayfly 28 - Fitness: 0.5520833333333334, Number of Features: 26\n",
      "Mayfly 29 - Fitness: 0.5520833333333334, Number of Features: 24\n",
      "Mayfly 30 - Fitness: 0.5416666666666666, Number of Features: 22\n",
      "================================================================================\n",
      "\n",
      "\n",
      "================================================================================\n",
      "                                    Final Result                                  \n",
      "================================================================================\n",
      "\n",
      "Leader Mayfly Dimension : 24\n",
      "Leader Mayfly Fitness : 0.6875\n",
      "Leader Mayfly Classification Accuracy : 0.6875\n",
      "\n",
      "================================================================================\n",
      "\n"
     ]
    },
    {
     "data": {
      "image/png": "[encoded data removed]",
      "text/plain": [
       "<Figure size 432x288 with 1 Axes>"
      ]
     },
     "metadata": {
      "needs_background": "light"
     },
     "output_type": "display_data"
    }
   ],
   "source": [
    "from Py_FS.wrapper.nature_inspired.MA import MA as FS\n",
    "solution = FS(num_agents=30, max_iter=10, train_data=X, train_label=y1, save_conv_graph=True)\n"
   ]
  },
  {
   "cell_type": "code",
   "execution_count": 40,
   "metadata": {},
   "outputs": [
    {
     "data": {
      "text/plain": [
       "array([1., 0., 1., 1., 1., 1., 1., 1., 0., 1., 1., 1., 0., 1., 0., 0., 1.,\n",
       "       1., 0., 1., 1., 1., 1., 0., 1., 1., 1., 1., 1., 0., 1., 1.])"
      ]
     },
     "execution_count": 40,
     "metadata": {},
     "output_type": "execute_result"
    }
   ],
   "source": [
    "solution.best_agent"
   ]
  },
  {
   "cell_type": "code",
   "execution_count": 41,
   "metadata": {},
   "outputs": [
    {
     "data": {
      "text/plain": [
       "0.6875"
      ]
     },
     "execution_count": 41,
     "metadata": {},
     "output_type": "execute_result"
    }
   ],
   "source": [
    "solution.best_fitness"
   ]
  },
  {
   "cell_type": "code",
   "execution_count": 57,
   "metadata": {},
   "outputs": [
    {
     "data": {
      "text/plain": [
       "0.6875"
      ]
     },
     "execution_count": 57,
     "metadata": {},
     "output_type": "execute_result"
    }
   ],
   "source": [
    "solution.best_accuracy"
   ]
  },
  {
   "cell_type": "code",
   "execution_count": 45,
   "metadata": {},
   "outputs": [],
   "source": [
    "train_X, test_X, train_Y, test_Y = train_test_split(X, y1, stratify=y1, test_size=0.2, random_state=2)"
   ]
  },
  {
   "cell_type": "code",
   "execution_count": 46,
   "metadata": {},
   "outputs": [],
   "source": [
    "AB = train_X.to_numpy()\n",
    "CD =test_X.to_numpy()"
   ]
  },
  {
   "cell_type": "code",
   "execution_count": 47,
   "metadata": {},
   "outputs": [
    {
     "name": "stdout",
     "output_type": "stream",
     "text": [
      "Requirement already satisfied: tabulate in c:\\users\\namrata\\anaconda3\\lib\\site-packages (0.8.9)\n"
     ]
    }
   ],
   "source": [
    "!pip install tabulate"
   ]
  },
  {
   "cell_type": "code",
   "execution_count": 48,
   "metadata": {},
   "outputs": [],
   "source": [
    "from tabulate import tabulate\n",
    "from Py_FS.evaluation.evaluate import evaluate"
   ]
  },
  {
   "cell_type": "code",
   "execution_count": 58,
   "metadata": {},
   "outputs": [
    {
     "data": {
      "image/png": "[encoded data removed]",
      "text/plain": [
       "<Figure size 432x288 with 2 Axes>"
      ]
     },
     "metadata": {
      "needs_background": "light"
     },
     "output_type": "display_data"
    }
   ],
   "source": [
    "if(len(np.unique(test_Y))) == 2:\n",
    "  # if it is binary classification, you will get a precision, recall and f1_score for each of the labels\n",
    "  result = evaluate(AB, CD, y_train, y_test, agent=solution.best_agent, classifier='knn', save_conf_mat=True)\n",
    "else:  \n",
    "  # for a multi-class problem, you will get a avreaged precision, recall and f1_score\n",
    "  # Options for averaging:\n",
    "  # 1. macro\n",
    "  # 2. weighted\n",
    "  # 3. samples\n",
    "  result = evaluate(AB, CD, y_train, y_test,agent=solution.best_agent, classifier='knn', save_conf_mat=True, averaging=\"weighted\")"
   ]
  },
  {
   "cell_type": "code",
   "execution_count": 56,
   "metadata": {},
   "outputs": [
    {
     "data": {
      "text/plain": [
       "array([1, 0, 0, 0, 0, 1, 0, 0, 1, 0, 0, 1, 1, 1, 1, 0, 1, 0, 1, 1, 0, 0,\n",
       "       0, 0, 0, 0, 0, 1, 0, 0, 1, 1, 1, 1, 0, 1, 1, 1, 1, 0, 1, 1, 1, 1,\n",
       "       0, 1, 1, 1])"
      ]
     },
     "execution_count": 56,
     "metadata": {},
     "output_type": "execute_result"
    }
   ],
   "source": [
    "result.predictions"
   ]
  },
  {
   "cell_type": "code",
   "execution_count": 54,
   "metadata": {},
   "outputs": [
    {
     "data": {
      "text/plain": [
       "0.5625"
      ]
     },
     "execution_count": 54,
     "metadata": {},
     "output_type": "execute_result"
    }
   ],
   "source": [
    "result.accuracy"
   ]
  }
 ],
 "metadata": {
  "kernelspec": {
   "display_name": "Python 3",
   "language": "python",
   "name": "python3"
  },
  "language_info": {
   "codemirror_mode": {
    "name": "ipython",
    "version": 3
   },
   "file_extension": ".py",
   "mimetype": "text/x-python",
   "name": "python",
   "nbconvert_exporter": "python",
   "pygments_lexer": "ipython3",
   "version": "3.8.5"
  }
 },
 "nbformat": 4,
 "nbformat_minor": 4
}
