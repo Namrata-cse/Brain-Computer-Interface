{
  "nbformat": 4,
  "nbformat_minor": 0,
  "metadata": {
    "colab": {
      "name": "s1wrapper.ipynb",
      "provenance": [],
      "mount_file_id": "1-T2xzEolvx0vG7d6Bc1yLGNJG_waxizE",
      "authorship_tag": "ABX9TyPpVyMgOQYxnbp9St1gHYX3",
      "include_colab_link": true
    },
    "kernelspec": {
      "name": "python3",
      "display_name": "Python 3"
    },
    "language_info": {
      "name": "python"
    }
  },
  "cells": [
    {
      "cell_type": "markdown",
      "metadata": {
        "id": "view-in-github",
        "colab_type": "text"
      },
      "source": [
        "<a href=\"https://colab.research.google.com/github/Namrata-cse/Brain-Computer-Interface/blob/main/s1wrapper.ipynb\" target=\"_parent\"><img src=\"https://colab.research.google.com/assets/colab-badge.svg\" alt=\"Open In Colab\"/></a>"
      ]
    },
    {
      "cell_type": "code",
      "execution_count": null,
      "metadata": {
        "colab": {
          "base_uri": "https://localhost:8080/"
        },
        "id": "67atL2RhNsv0",
        "outputId": "3b33134c-55ba-4233-9efe-17dab7629f58"
      },
      "outputs": [
        {
          "output_type": "stream",
          "name": "stdout",
          "text": [
            "Requirement already satisfied: numpy in /usr/local/lib/python3.7/dist-packages (1.21.6)\n",
            "Requirement already satisfied: sklearn in /usr/local/lib/python3.7/dist-packages (0.0)\n",
            "Requirement already satisfied: scikit-learn in /usr/local/lib/python3.7/dist-packages (from sklearn) (1.0.2)\n",
            "Requirement already satisfied: threadpoolctl>=2.0.0 in /usr/local/lib/python3.7/dist-packages (from scikit-learn->sklearn) (3.1.0)\n",
            "Requirement already satisfied: joblib>=0.11 in /usr/local/lib/python3.7/dist-packages (from scikit-learn->sklearn) (1.1.0)\n",
            "Requirement already satisfied: scipy>=1.1.0 in /usr/local/lib/python3.7/dist-packages (from scikit-learn->sklearn) (1.4.1)\n",
            "Requirement already satisfied: numpy>=1.14.6 in /usr/local/lib/python3.7/dist-packages (from scikit-learn->sklearn) (1.21.6)\n",
            "Requirement already satisfied: matplotlib in /usr/local/lib/python3.7/dist-packages (3.2.2)\n",
            "Requirement already satisfied: python-dateutil>=2.1 in /usr/local/lib/python3.7/dist-packages (from matplotlib) (2.8.2)\n",
            "Requirement already satisfied: kiwisolver>=1.0.1 in /usr/local/lib/python3.7/dist-packages (from matplotlib) (1.4.2)\n",
            "Requirement already satisfied: numpy>=1.11 in /usr/local/lib/python3.7/dist-packages (from matplotlib) (1.21.6)\n",
            "Requirement already satisfied: cycler>=0.10 in /usr/local/lib/python3.7/dist-packages (from matplotlib) (0.11.0)\n",
            "Requirement already satisfied: pyparsing!=2.0.4,!=2.1.2,!=2.1.6,>=2.0.1 in /usr/local/lib/python3.7/dist-packages (from matplotlib) (3.0.8)\n",
            "Requirement already satisfied: typing-extensions in /usr/local/lib/python3.7/dist-packages (from kiwisolver>=1.0.1->matplotlib) (4.1.1)\n",
            "Requirement already satisfied: six>=1.5 in /usr/local/lib/python3.7/dist-packages (from python-dateutil>=2.1->matplotlib) (1.15.0)\n",
            "Requirement already satisfied: ReliefF in /usr/local/lib/python3.7/dist-packages (0.1.2)\n",
            "Requirement already satisfied: numpy in /usr/local/lib/python3.7/dist-packages (from ReliefF) (1.21.6)\n",
            "Requirement already satisfied: scipy in /usr/local/lib/python3.7/dist-packages (from ReliefF) (1.4.1)\n",
            "Requirement already satisfied: scikit-learn in /usr/local/lib/python3.7/dist-packages (from ReliefF) (1.0.2)\n",
            "Requirement already satisfied: threadpoolctl>=2.0.0 in /usr/local/lib/python3.7/dist-packages (from scikit-learn->ReliefF) (3.1.0)\n",
            "Requirement already satisfied: joblib>=0.11 in /usr/local/lib/python3.7/dist-packages (from scikit-learn->ReliefF) (1.1.0)\n",
            "Requirement already satisfied: Py_FS in /usr/local/lib/python3.7/dist-packages (0.0.44)\n"
          ]
        }
      ],
      "source": [
        "!pip install numpy\n",
        "!pip install sklearn\n",
        "!pip install matplotlib\n",
        "!pip install ReliefF\n",
        "!pip install -U Py_FS"
      ]
    },
    {
      "cell_type": "code",
      "source": [
        "from sklearn.model_selection import train_test_split\n",
        "import numpy as np"
      ],
      "metadata": {
        "id": "zc0QoLYLZokK"
      },
      "execution_count": null,
      "outputs": []
    },
    {
      "cell_type": "code",
      "source": [
        "!pip install antropy\n",
        "import pickle, copy\n",
        "import numpy as np\n",
        "import antropy as ent\n",
        "\n",
        "\n",
        "import pandas as pd\n",
        "from sklearn.utils import shuffle\n",
        "from sklearn.model_selection import cross_val_score, train_test_split\n"
      ],
      "metadata": {
        "colab": {
          "base_uri": "https://localhost:8080/"
        },
        "id": "GN8OaeyoZq_-",
        "outputId": "51862664-d377-47fd-912a-56133cc7dab7"
      },
      "execution_count": null,
      "outputs": [
        {
          "output_type": "stream",
          "name": "stdout",
          "text": [
            "Collecting antropy\n",
            "  Downloading antropy-0.1.4.tar.gz (16 kB)\n",
            "Collecting stochastic\n",
            "  Downloading stochastic-0.6.0-py3-none-any.whl (49 kB)\n",
            "\u001b[K     |████████████████████████████████| 49 kB 3.7 MB/s \n",
            "\u001b[?25hRequirement already satisfied: numpy<2.0,>=1.17 in /usr/local/lib/python3.7/dist-packages (from stochastic->antropy) (1.21.6)\n",
            "Requirement already satisfied: scipy<2.0,>=1.3 in /usr/local/lib/python3.7/dist-packages (from stochastic->antropy) (1.4.1)\n",
            "Building wheels for collected packages: antropy\n",
            "  Building wheel for antropy (setup.py) ... \u001b[?25l\u001b[?25hdone\n",
            "  Created wheel for antropy: filename=antropy-0.1.4-py3-none-any.whl size=16159 sha256=ee3e0a0ad6bd06bc7ef52535a06b45c67bcb93090bddbfd14b4b2ba90f9fbbac\n",
            "  Stored in directory: /root/.cache/pip/wheels/d4/cc/6b/28fa7036bdabc6f1f92fd6a108ae259dbb48f107f676d6b491\n",
            "Successfully built antropy\n",
            "Installing collected packages: stochastic, antropy\n",
            "Successfully installed antropy-0.1.4 stochastic-0.6.0\n"
          ]
        }
      ]
    },
    {
      "cell_type": "code",
      "source": [
        "deap_dataset_path = \"/content/s01.dat\"\n",
        "subject_names = ['s01', 's02', 's03', 's04', 's05', 's06', 's07', 's08', 's09', 's10', 's11', 's12', \n",
        "                 's13', 's14', 's15', 's16', 's17', 's18', 's19', 's20', 's21',\n",
        "                 's22', 's23', 's24', 's25', 's26', 's27', 's28', 's29', 's30', 's31', 's32']\n"
      ],
      "metadata": {
        "id": "q18gXuGTajfi"
      },
      "execution_count": null,
      "outputs": []
    },
    {
      "cell_type": "code",
      "source": [
        "with open ('/content/s01.dat','rb')as f:\n",
        "    raw_data=pickle.load(f , encoding='latin1')"
      ],
      "metadata": {
        "id": "pxZy6Jp2at8e"
      },
      "execution_count": null,
      "outputs": []
    },
    {
      "cell_type": "code",
      "source": [
        " # raw_data has two key 'data' and 'labels'\n",
        "data = raw_data['data']\n",
        "labels = raw_data['labels']"
      ],
      "metadata": {
        "id": "SqnZ3gXyfrEz"
      },
      "execution_count": null,
      "outputs": []
    },
    {
      "cell_type": "code",
      "source": [
        "print(data)"
      ],
      "metadata": {
        "colab": {
          "base_uri": "https://localhost:8080/"
        },
        "id": "cIWCRwmdf7Q0",
        "outputId": "a8051a44-b73d-4ab7-fd3a-921546a82bde"
      },
      "execution_count": null,
      "outputs": [
        {
          "output_type": "stream",
          "name": "stdout",
          "text": [
            "[[[ 9.48231681e-01  1.65333533e+00  3.01372577e+00 ... -2.82648937e+00\n",
            "   -4.47722969e+00 -3.67692812e+00]\n",
            "  [ 1.24706590e-01  1.39008270e+00  1.83509881e+00 ... -2.98702069e+00\n",
            "   -6.28780884e+00 -4.47429041e+00]\n",
            "  [-2.21651099e+00  2.29201682e+00  2.74636923e+00 ... -2.63707760e+00\n",
            "   -7.40651010e+00 -6.75590441e+00]\n",
            "  ...\n",
            "  [ 2.30779684e+02  6.96716323e+02  1.19512165e+03 ...  1.01080949e+03\n",
            "    1.28312149e+03  1.51996480e+03]\n",
            "  [-1.54180981e+03 -1.61798052e+03 -1.69268642e+03 ... -1.57842691e+04\n",
            "   -1.57823160e+04 -1.57808512e+04]\n",
            "  [ 6.39054310e-03  6.39054310e-03  6.39054310e-03 ... -9.76081241e-02\n",
            "   -9.76081241e-02 -9.76081241e-02]]\n",
            "\n",
            " [[ 1.02601750e+01  1.27954427e+01  1.04261916e+01 ...  6.02219406e+00\n",
            "    7.53913583e+00  9.35224904e+00]\n",
            "  [ 9.49186875e+00  1.25897704e+01  1.05740268e+01 ...  6.03399490e+00\n",
            "    9.06874552e+00  8.74021419e+00]\n",
            "  [ 7.12867480e+00  1.22064700e+01  9.49646701e+00 ...  6.17971667e+00\n",
            "    6.93374514e+00  6.48086477e+00]\n",
            "  ...\n",
            "  [ 1.91950410e+03  3.51250116e+03  3.67262586e+03 ... -1.62148301e+02\n",
            "   -3.66241674e+02 -4.51866515e+02]\n",
            "  [-7.42916132e+03 -7.50972650e+03 -7.57076073e+03 ... -5.49462041e+03\n",
            "   -5.59081036e+03 -5.69139477e+03]\n",
            "  [ 5.98429831e-03  5.98429831e-03  5.98429831e-03 ... -6.20148303e-02\n",
            "   -6.20148303e-02 -6.20148303e-02]]\n",
            "\n",
            " [[ 1.01304956e+00 -1.06783230e+00  3.90824949e+00 ...  2.18687657e+00\n",
            "    2.66767712e-02 -7.51193325e+00]\n",
            "  [ 3.31725539e-02 -1.51860504e+00  4.81957628e+00 ...  3.98227619e-01\n",
            "   -1.06766739e+00 -5.90302866e+00]\n",
            "  [ 7.22816236e-01  5.12160665e-01  8.04440282e+00 ...  9.66963103e-02\n",
            "    2.20454025e-01 -4.36041903e+00]\n",
            "  ...\n",
            "  [-2.14800222e+01 -2.61792078e+02 -1.01386125e+02 ...  2.58992140e+03\n",
            "    1.61176696e+03  7.66674772e+02]\n",
            "  [ 1.16210735e+04  1.14355295e+04  1.12646336e+04 ...  2.76134490e+03\n",
            "    2.67687353e+03  2.60314418e+03]\n",
            "  [ 2.90621276e-03  2.90621276e-03  2.90621276e-03 ... -1.51091814e-01\n",
            "   -1.51091814e-01 -1.51091814e-01]]\n",
            "\n",
            " ...\n",
            "\n",
            " [[-1.13944132e+01 -1.34502274e+01 -9.66299865e+00 ... -2.43900889e+00\n",
            "   -2.33095827e+00 -3.36814485e+00]\n",
            "  [-9.19759768e+00 -1.04656392e+01 -6.56847604e+00 ... -3.51219647e+00\n",
            "   -2.91042815e+00 -2.82260677e+00]\n",
            "  [-8.61617511e+00 -1.00405069e+01 -6.40832041e+00 ... -4.15937090e+00\n",
            "   -4.30358260e+00 -2.69228055e+00]\n",
            "  ...\n",
            "  [ 1.33536977e+03  1.18468254e+03  9.23995526e+02 ...  9.61057957e+02\n",
            "    5.48652469e+02  1.16462008e+03]\n",
            "  [-3.84721885e+03 -3.90385861e+03 -3.96391629e+03 ...  2.21035586e+04\n",
            "    2.19683067e+04  2.18359845e+04]\n",
            "  [ 1.74997757e-03  1.74997757e-03  1.74997757e-03 ...  4.67494009e-02\n",
            "    4.67494009e-02  4.67494009e-02]]\n",
            "\n",
            " [[ 2.53187763e+00  1.58111089e-01 -4.67449746e+00 ...  3.13209243e+00\n",
            "    4.65647663e-01  1.85004049e+00]\n",
            "  [ 6.21303506e+00  1.60022210e+00 -4.68115214e+00 ...  3.09468204e+00\n",
            "   -4.47081977e-01  7.07338119e-01]\n",
            "  [ 7.13694330e+00  4.83688756e+00 -2.90448250e+00 ...  8.47561300e-02\n",
            "   -7.15406930e-02 -8.34269599e-01]\n",
            "  ...\n",
            "  [-1.72646702e+03 -1.77037319e+03 -1.74206075e+03 ... -1.37621767e+03\n",
            "   -1.46368626e+03 -1.39456139e+03]\n",
            "  [ 7.78738138e+03  7.87087621e+03  7.88894234e+03 ...  1.77575401e+03\n",
            "    1.77087127e+03  1.76891817e+03]\n",
            "  [ 1.30206665e-03  2.30205383e-03  2.30205383e-03 ... -1.06977796e-02\n",
            "   -1.06977796e-02 -1.06977796e-02]]\n",
            "\n",
            " [[ 3.08300605e+00  6.27214597e-01 -3.40256017e+00 ... -4.43802092e+00\n",
            "   -3.27103236e+00  2.13500861e+00]\n",
            "  [-2.73052705e-01 -2.20023500e-01 -3.81054293e+00 ... -3.75791147e+00\n",
            "   -3.31224301e+00  1.15426073e+00]\n",
            "  [-1.72910530e+00  1.73630179e+00 -1.14991197e-01 ... -2.94468621e+00\n",
            "   -5.71142735e+00 -1.69792350e+00]\n",
            "  ...\n",
            "  [-1.17067329e+02  2.14775808e+02  6.61994220e+00 ... -1.10328426e+03\n",
            "   -1.11556548e+03 -1.07090932e+03]\n",
            "  [-7.16243920e+03 -7.22005551e+03 -7.17659914e+03 ...  4.80999311e+02\n",
            "    3.31587520e+02  1.82175728e+02]\n",
            "  [ 4.24473727e-04  4.24473727e-04  4.24473727e-04 ...  1.86422090e-01\n",
            "    1.86422090e-01  1.86422090e-01]]]\n"
          ]
        }
      ]
    },
    {
      "cell_type": "code",
      "source": [
        "reduced_eeg_data  = data[0:40, 0:32, 384:8064]\n",
        "reduced_eeg_data.shape\n"
      ],
      "metadata": {
        "colab": {
          "base_uri": "https://localhost:8080/"
        },
        "id": "dAbAKoJwfzfY",
        "outputId": "128557e4-5766-4b34-9875-eea5ba517cb4"
      },
      "execution_count": null,
      "outputs": [
        {
          "output_type": "execute_result",
          "data": {
            "text/plain": [
              "(40, 32, 7680)"
            ]
          },
          "metadata": {},
          "execution_count": 11
        }
      ]
    },
    {
      "cell_type": "code",
      "source": [
        "print(reduced_eeg_data.shape)"
      ],
      "metadata": {
        "colab": {
          "base_uri": "https://localhost:8080/"
        },
        "id": "yFbl5uc6f29J",
        "outputId": "0c216e03-651a-49e6-f130-514a27c1bb45"
      },
      "execution_count": null,
      "outputs": [
        {
          "output_type": "stream",
          "name": "stdout",
          "text": [
            "(40, 32, 7680)\n"
          ]
        }
      ]
    },
    {
      "cell_type": "code",
      "source": [
        "print(reduced_eeg_data)"
      ],
      "metadata": {
        "colab": {
          "base_uri": "https://localhost:8080/"
        },
        "id": "9omk-mzG84A_",
        "outputId": "84605eb3-429b-4953-b69f-c4601a24af53"
      },
      "execution_count": null,
      "outputs": [
        {
          "output_type": "stream",
          "name": "stdout",
          "text": [
            "[[[ 4.05213000e+00  2.89121020e+00 -1.77958774e+00 ... -2.82648937e+00\n",
            "   -4.47722969e+00 -3.67692812e+00]\n",
            "  [ 3.05326186e+00  4.12852886e+00 -1.62482336e-02 ... -2.98702069e+00\n",
            "   -6.28780884e+00 -4.47429041e+00]\n",
            "  [ 1.18607868e+00  4.61642327e+00  8.03398666e-01 ... -2.63707760e+00\n",
            "   -7.40651010e+00 -6.75590441e+00]\n",
            "  ...\n",
            "  [ 2.74540878e+00  3.13796149e+00  4.58457769e+00 ...  6.68885999e+00\n",
            "    6.91232131e+00  5.66901722e+00]\n",
            "  [ 2.81410777e+00  3.19246696e+00  5.33090169e+00 ...  2.64017310e+00\n",
            "    6.57464869e+00  7.20846274e+00]\n",
            "  [ 3.66600597e+00  4.67147056e+00  5.00733153e+00 ...  2.23958511e+00\n",
            "    3.18256605e+00  4.70807159e+00]]\n",
            "\n",
            " [[-4.52373501e+00 -1.20166250e+01 -1.27762724e+01 ...  6.02219406e+00\n",
            "    7.53913583e+00  9.35224904e+00]\n",
            "  [-6.38730411e-01 -4.66556641e+00 -7.28000225e+00 ...  6.03399490e+00\n",
            "    9.06874552e+00  8.74021419e+00]\n",
            "  [ 1.47529482e+00 -1.75703497e+00 -5.03304381e+00 ...  6.17971667e+00\n",
            "    6.93374514e+00  6.48086477e+00]\n",
            "  ...\n",
            "  [ 2.82776649e+00  3.51360478e+00  5.68597458e+00 ... -1.99455613e+00\n",
            "    1.02730199e+00  1.63148018e+00]\n",
            "  [-2.27539878e+00  1.09148166e+00  5.69878564e+00 ... -3.11013021e+00\n",
            "   -8.24336309e+00 -1.14544337e+01]\n",
            "  [-3.69378279e-01  4.81989246e+00  8.29965803e+00 ... -6.23956064e-01\n",
            "   -5.42113073e+00 -9.12074717e+00]]\n",
            "\n",
            " [[-1.51764991e+00  3.33769448e+00  5.33411583e+00 ...  2.18687657e+00\n",
            "    2.66767712e-02 -7.51193325e+00]\n",
            "  [-1.22945968e+00  3.94136879e+00  6.03334581e+00 ...  3.98227619e-01\n",
            "   -1.06766739e+00 -5.90302866e+00]\n",
            "  [ 2.44943001e+00  5.19001842e+00  7.20289597e+00 ...  9.66963103e-02\n",
            "    2.20454025e-01 -4.36041903e+00]\n",
            "  ...\n",
            "  [-1.04758258e+01 -9.93038403e+00 -7.82450628e+00 ...  2.35138961e+00\n",
            "    8.75618636e-01  4.95425282e+00]\n",
            "  [-6.77643788e+00 -9.13021385e+00 -9.21009118e+00 ...  1.35514060e+00\n",
            "    3.46652206e+00  5.29448848e+00]\n",
            "  [-9.79636464e+00 -1.15126955e+01 -1.09249503e+01 ...  6.34267637e+00\n",
            "    7.34487869e+00  8.89437967e+00]]\n",
            "\n",
            " ...\n",
            "\n",
            " [[ 3.14642879e+00  7.93115700e-01  2.16631010e+00 ... -2.43900889e+00\n",
            "   -2.33095827e+00 -3.36814485e+00]\n",
            "  [ 9.64812279e-01  1.87187192e+00  2.38790148e+00 ... -3.51219647e+00\n",
            "   -2.91042815e+00 -2.82260677e+00]\n",
            "  [ 2.73065885e+00  2.68167511e+00  5.13581833e-01 ... -4.15937090e+00\n",
            "   -4.30358260e+00 -2.69228055e+00]\n",
            "  ...\n",
            "  [ 1.87543230e+00 -5.41164025e-01 -2.30159121e+00 ...  1.06559658e+00\n",
            "    1.83206361e+00  5.57754002e-01]\n",
            "  [-3.11105144e+00 -5.12884654e+00 -9.04235539e+00 ...  1.33300259e+00\n",
            "   -9.52507204e-01 -2.58667480e+00]\n",
            "  [-4.38154899e+00 -6.05651571e+00 -9.98596478e+00 ...  1.30680417e+00\n",
            "   -8.32571575e-01 -1.14356339e+00]]\n",
            "\n",
            " [[ 7.76239493e+00  7.36342358e+00  5.90754815e+00 ...  3.13209243e+00\n",
            "    4.65647663e-01  1.85004049e+00]\n",
            "  [ 9.09619591e+00  9.23566658e+00  6.64979102e+00 ...  3.09468204e+00\n",
            "   -4.47081977e-01  7.07338119e-01]\n",
            "  [ 8.67286805e+00  8.00817148e+00  8.39455326e+00 ...  8.47561300e-02\n",
            "   -7.15406930e-02 -8.34269599e-01]\n",
            "  ...\n",
            "  [ 2.47438436e+00 -6.93148928e+00 -1.31281076e+01 ...  6.89017349e+00\n",
            "    6.08268226e+00  1.47206475e+00]\n",
            "  [-5.70594038e+00 -1.27253802e+01 -1.96668036e+01 ...  1.55477019e+00\n",
            "    3.10542161e+00  5.35199233e+00]\n",
            "  [-3.63494363e+00 -9.10573738e+00 -1.33531587e+01 ...  9.94502073e-01\n",
            "    4.14792269e+00  6.03725304e+00]]\n",
            "\n",
            " [[-1.87877447e-01 -1.49636478e+00  1.38064172e-02 ... -4.43802092e+00\n",
            "   -3.27103236e+00  2.13500861e+00]\n",
            "  [ 1.04575048e+00  5.34701060e-02 -6.64393801e-02 ... -3.75791147e+00\n",
            "   -3.31224301e+00  1.15426073e+00]\n",
            "  [-1.63974327e-02 -1.04686938e+00  2.03125832e-01 ... -2.94468621e+00\n",
            "   -5.71142735e+00 -1.69792350e+00]\n",
            "  ...\n",
            "  [-1.44771172e+00  1.01967246e+00  2.61434503e+00 ...  2.44461576e+00\n",
            "    3.67915943e-01 -3.40510722e+00]\n",
            "  [ 2.56835707e-01  1.72619127e+00 -1.50182478e-01 ...  3.34613039e+00\n",
            "    2.29806139e+00 -9.18429156e-01]\n",
            "  [-2.21610149e+00 -7.27286055e-01 -2.37324433e+00 ...  1.96733159e+00\n",
            "    2.57801114e+00 -6.09354349e-01]]]\n"
          ]
        }
      ]
    },
    {
      "cell_type": "code",
      "source": [
        "print(labels.shape)"
      ],
      "metadata": {
        "colab": {
          "base_uri": "https://localhost:8080/"
        },
        "id": "cAY6NT_WgGUz",
        "outputId": "730ba28c-a1fa-4d37-9f3f-e2388f5caedd"
      },
      "execution_count": null,
      "outputs": [
        {
          "output_type": "stream",
          "name": "stdout",
          "text": [
            "(40, 4)\n"
          ]
        }
      ]
    },
    {
      "cell_type": "code",
      "source": [
        "type(data)"
      ],
      "metadata": {
        "colab": {
          "base_uri": "https://localhost:8080/"
        },
        "id": "TbsbEyC5gIg8",
        "outputId": "9462f3e8-5291-4106-8dad-1e5d91c27e71"
      },
      "execution_count": null,
      "outputs": [
        {
          "output_type": "execute_result",
          "data": {
            "text/plain": [
              "numpy.ndarray"
            ]
          },
          "metadata": {},
          "execution_count": 14
        }
      ]
    },
    {
      "cell_type": "code",
      "source": [
        "type(labels)"
      ],
      "metadata": {
        "colab": {
          "base_uri": "https://localhost:8080/"
        },
        "id": "csQH1hWrgaul",
        "outputId": "bff14a27-ba17-4b51-db08-023040866509"
      },
      "execution_count": null,
      "outputs": [
        {
          "output_type": "execute_result",
          "data": {
            "text/plain": [
              "numpy.ndarray"
            ]
          },
          "metadata": {},
          "execution_count": 15
        }
      ]
    },
    {
      "cell_type": "code",
      "source": [
        "print(labels)"
      ],
      "metadata": {
        "id": "zVRkiXhRiWry",
        "colab": {
          "base_uri": "https://localhost:8080/"
        },
        "outputId": "3f0124aa-670a-4f0e-f6e2-b0e4867a20f6"
      },
      "execution_count": null,
      "outputs": [
        {
          "output_type": "stream",
          "name": "stdout",
          "text": [
            "[[7.71 7.6  6.9  7.83]\n",
            " [8.1  7.31 7.28 8.47]\n",
            " [8.58 7.54 9.   7.08]\n",
            " [4.94 6.01 6.12 8.06]\n",
            " [6.96 3.92 7.19 6.05]\n",
            " [8.27 3.92 7.   8.03]\n",
            " [7.44 3.73 7.08 7.04]\n",
            " [7.32 2.55 6.32 5.87]\n",
            " [4.04 3.29 3.62 5.99]\n",
            " [1.99 4.86 2.04 7.09]\n",
            " [2.99 2.36 3.63 6.24]\n",
            " [2.71 2.77 3.4  7.35]\n",
            " [1.95 3.12 2.87 6.18]\n",
            " [4.18 2.24 3.04 5.04]\n",
            " [3.17 8.08 2.91 5.04]\n",
            " [6.81 7.44 8.15 7.14]\n",
            " [2.46 6.91 6.77 6.41]\n",
            " [7.23 7.15 6.94 8.01]\n",
            " [7.17 8.   8.1  6.79]\n",
            " [8.26 7.91 7.19 8.13]\n",
            " [9.   7.95 8.37 7.86]\n",
            " [7.09 2.08 7.06 7.37]\n",
            " [8.15 3.01 7.37 7.9 ]\n",
            " [7.04 7.09 8.01 8.22]\n",
            " [8.86 7.21 8.65 7.21]\n",
            " [7.28 7.27 7.41 8.24]\n",
            " [7.35 6.95 7.03 7.29]\n",
            " [3.88 3.35 4.01 7.87]\n",
            " [1.36 2.27 3.   8.14]\n",
            " [2.08 2.99 3.22 7.33]\n",
            " [3.03 8.14 2.86 8.04]\n",
            " [2.28 8.   3.27 3.95]\n",
            " [3.81 3.85 4.78 5.13]\n",
            " [2.28 7.09 7.28 6.92]\n",
            " [2.06 8.15 8.05 5.18]\n",
            " [2.9  6.92 6.5  3.87]\n",
            " [2.31 6.88 3.1  6.77]\n",
            " [3.33 7.18 6.54 6.62]\n",
            " [3.24 6.18 7.87 6.15]\n",
            " [5.1  7.12 6.17 5.97]]\n"
          ]
        }
      ]
    },
    {
      "cell_type": "code",
      "source": [
        "print(data[0].shape)"
      ],
      "metadata": {
        "colab": {
          "base_uri": "https://localhost:8080/"
        },
        "id": "9BdGZX4lgcXJ",
        "outputId": "75eadc7b-fbbc-4858-b57d-a7d24f898953"
      },
      "execution_count": null,
      "outputs": [
        {
          "output_type": "stream",
          "name": "stdout",
          "text": [
            "(40, 8064)\n"
          ]
        }
      ]
    },
    {
      "cell_type": "code",
      "source": [
        "print(reduced_eeg_data[0].shape)"
      ],
      "metadata": {
        "colab": {
          "base_uri": "https://localhost:8080/"
        },
        "id": "OFddpKALhIFz",
        "outputId": "64ea5fd5-2bdf-4021-f150-f41bc66a45e7"
      },
      "execution_count": null,
      "outputs": [
        {
          "output_type": "stream",
          "name": "stdout",
          "text": [
            "(32, 7680)\n"
          ]
        }
      ]
    },
    {
      "cell_type": "code",
      "source": [
        "!pip install eeglib\n",
        "from eeglib.helpers import CSVHelper\n",
        "from eeglib import wrapper, helpers"
      ],
      "metadata": {
        "colab": {
          "base_uri": "https://localhost:8080/"
        },
        "id": "EXPYCnsOo_-7",
        "outputId": "b613e820-08c5-433c-aceb-66e5b7557a90"
      },
      "execution_count": null,
      "outputs": [
        {
          "output_type": "stream",
          "name": "stdout",
          "text": [
            "Collecting eeglib\n",
            "  Downloading eeglib-0.4.1-py3-none-any.whl (25 kB)\n",
            "Requirement already satisfied: numba in /usr/local/lib/python3.7/dist-packages (from eeglib) (0.51.2)\n",
            "Requirement already satisfied: sklearn in /usr/local/lib/python3.7/dist-packages (from eeglib) (0.0)\n",
            "Requirement already satisfied: scipy in /usr/local/lib/python3.7/dist-packages (from eeglib) (1.4.1)\n",
            "Requirement already satisfied: pandas in /usr/local/lib/python3.7/dist-packages (from eeglib) (1.3.5)\n",
            "Collecting pyedflib\n",
            "  Downloading pyEDFlib-0.1.28-cp37-cp37m-manylinux_2_17_x86_64.manylinux2014_x86_64.whl (2.4 MB)\n",
            "\u001b[K     |████████████████████████████████| 2.4 MB 10.7 MB/s \n",
            "\u001b[?25hRequirement already satisfied: numpy in /usr/local/lib/python3.7/dist-packages (from eeglib) (1.21.6)\n",
            "Requirement already satisfied: fastdtw in /usr/local/lib/python3.7/dist-packages (from eeglib) (0.3.4)\n",
            "Requirement already satisfied: progressbar2 in /usr/local/lib/python3.7/dist-packages (from eeglib) (3.38.0)\n",
            "Requirement already satisfied: setuptools in /usr/local/lib/python3.7/dist-packages (from numba->eeglib) (57.4.0)\n",
            "Requirement already satisfied: llvmlite<0.35,>=0.34.0.dev0 in /usr/local/lib/python3.7/dist-packages (from numba->eeglib) (0.34.0)\n",
            "Requirement already satisfied: pytz>=2017.3 in /usr/local/lib/python3.7/dist-packages (from pandas->eeglib) (2022.1)\n",
            "Requirement already satisfied: python-dateutil>=2.7.3 in /usr/local/lib/python3.7/dist-packages (from pandas->eeglib) (2.8.2)\n",
            "Requirement already satisfied: six>=1.5 in /usr/local/lib/python3.7/dist-packages (from python-dateutil>=2.7.3->pandas->eeglib) (1.15.0)\n",
            "Requirement already satisfied: python-utils>=2.3.0 in /usr/local/lib/python3.7/dist-packages (from progressbar2->eeglib) (3.1.0)\n",
            "Requirement already satisfied: scikit-learn in /usr/local/lib/python3.7/dist-packages (from sklearn->eeglib) (1.0.2)\n",
            "Requirement already satisfied: joblib>=0.11 in /usr/local/lib/python3.7/dist-packages (from scikit-learn->sklearn->eeglib) (1.1.0)\n",
            "Requirement already satisfied: threadpoolctl>=2.0.0 in /usr/local/lib/python3.7/dist-packages (from scikit-learn->sklearn->eeglib) (3.1.0)\n",
            "Installing collected packages: pyedflib, eeglib\n",
            "Successfully installed eeglib-0.4.1 pyedflib-0.1.28\n"
          ]
        }
      ]
    },
    {
      "cell_type": "code",
      "source": [
        "helper= CSVHelper(\"fnewT.csv\",windowSize=1920)\n",
        "\n",
        "for eeg in helper:\n",
        "    print(eeg.PFD())\n",
        "print(eeg.PFD().size)"
      ],
      "metadata": {
        "colab": {
          "base_uri": "https://localhost:8080/"
        },
        "id": "kJLNTRNLpK--",
        "outputId": "45b3f122-a1ff-439d-9038-b98306d6fb7d"
      },
      "execution_count": null,
      "outputs": [
        {
          "output_type": "stream",
          "name": "stdout",
          "text": [
            "[1.01766231 1.01721123 1.01708574 1.01746197 1.01756216 1.01771236\n",
            " 1.01721123 1.02108505 1.01803738 1.01726141 1.0164822  1.01997576\n",
            " 1.01708574 1.01953021 1.01721123 1.01645701 1.01796243 1.01816224\n",
            " 1.01690991 1.01703552 1.01771236 1.01781243 1.01808733 1.01851139\n",
            " 1.01766231 1.01905876 1.01883503 1.0166836  1.01703552 1.02022284\n",
            " 1.01602827 1.01607876]\n",
            "[1.01743691 1.01693504 1.01706063 1.01733664 1.01751207 1.01761224\n",
            " 1.01718614 1.02027221 1.01771236 1.01751207 1.01650739 1.0181123\n",
            " 1.01706063 1.01905876 1.0166836  1.01675907 1.01690991 1.0180124\n",
            " 1.0163058  1.01711085 1.0180124  1.01846155 1.01675907 1.01796243\n",
            " 1.0177624  1.01913328 1.01783744 1.01726141 1.01693504 1.01846155\n",
            " 1.01531995 1.01549728]\n",
            "[1.01858613 1.0181872  1.01863594 1.01890964 1.01908361 1.01925741\n",
            " 1.01823711 1.02201674 1.0181872  1.01746197 1.0189345  1.02027221\n",
            " 1.01823711 1.02039559 1.01843663 1.01723632 1.01868573 1.01883503\n",
            " 1.01751207 1.01786244 1.01913328 1.0189345  1.01793743 1.01813727\n",
            " 1.01890964 1.01935666 1.01843663 1.01858613 1.01913328 1.02083911\n",
            " 1.01663327 1.0168345 ]\n",
            "[1.01823711 1.01878528 1.01933185 1.01953021 1.02115877 1.01972837\n",
            " 1.02046959 1.02274906 1.0198521  1.0180124  1.01960454 1.02056819\n",
            " 1.01900907 1.02108505 1.01945585 1.01690991 1.01826206 1.02078988\n",
            " 1.01806236 1.01856122 1.01821216 1.01910845 1.01913328 1.01868573\n",
            " 1.01940626 1.02130613 1.01773738 1.01778742 1.02125702 1.01933185\n",
            " 1.01846155 1.0180124 ]\n",
            "32\n"
          ]
        }
      ]
    },
    {
      "cell_type": "code",
      "source": [
        "helper = helpers.CSVHelper(\"f1T.csv\", windowSize=1920)\n",
        "wrap = wrapper.Wrapper(helper)\n"
      ],
      "metadata": {
        "id": "ax6lv9uJ7kB-"
      },
      "execution_count": null,
      "outputs": []
    },
    {
      "cell_type": "code",
      "source": [
        "wrap.addFeature.PFD()\n",
        "features=wrap.getAllFeatures()"
      ],
      "metadata": {
        "id": "zKlE0kxR7uMa"
      },
      "execution_count": null,
      "outputs": []
    },
    {
      "cell_type": "code",
      "source": [
        "print(features)"
      ],
      "metadata": {
        "colab": {
          "base_uri": "https://localhost:8080/"
        },
        "id": "4Au8107h7uXe",
        "outputId": "72ebefda-fdef-4ddf-d850-a7616f6631cb"
      },
      "execution_count": null,
      "outputs": [
        {
          "output_type": "stream",
          "name": "stdout",
          "text": [
            "           PFD(){}_0  PFD(){}_1  PFD(){}_2  PFD(){}_3  PFD(){}_4  PFD(){}_5  \\\n",
            "window_id                                                                     \n",
            "0                1.0   1.017662   1.017211   1.017086   1.017462   1.017562   \n",
            "1                1.0   1.017437   1.016935   1.017061   1.017337   1.017512   \n",
            "2                1.0   1.018586   1.018187   1.018636   1.018910   1.019084   \n",
            "3                1.0   1.018237   1.018785   1.019332   1.019530   1.021159   \n",
            "\n",
            "           PFD(){}_6  PFD(){}_7  PFD(){}_8  PFD(){}_9  ...  PFD(){}_23  \\\n",
            "window_id                                              ...               \n",
            "0           1.017712   1.017211   1.021085   1.018037  ...    1.018087   \n",
            "1           1.017612   1.017186   1.020272   1.017712  ...    1.016759   \n",
            "2           1.019257   1.018237   1.022017   1.018187  ...    1.017937   \n",
            "3           1.019728   1.020470   1.022749   1.019852  ...    1.019133   \n",
            "\n",
            "           PFD(){}_24  PFD(){}_25  PFD(){}_26  PFD(){}_27  PFD(){}_28  \\\n",
            "window_id                                                               \n",
            "0            1.018511    1.017662    1.019059    1.018835    1.016684   \n",
            "1            1.017962    1.017762    1.019133    1.017837    1.017261   \n",
            "2            1.018137    1.018910    1.019357    1.018437    1.018586   \n",
            "3            1.018686    1.019406    1.021306    1.017737    1.017787   \n",
            "\n",
            "           PFD(){}_29  PFD(){}_30  PFD(){}_31  PFD(){}_32  \n",
            "window_id                                                  \n",
            "0            1.017036    1.020223    1.016028    1.016079  \n",
            "1            1.016935    1.018462    1.015320    1.015497  \n",
            "2            1.019133    1.020839    1.016633    1.016835  \n",
            "3            1.021257    1.019332    1.018462    1.018012  \n",
            "\n",
            "[4 rows x 33 columns]\n"
          ]
        }
      ]
    },
    {
      "cell_type": "code",
      "source": [
        "helper= CSVHelper(\"f1.csv\",windowSize=4)\n",
        "\n",
        "for eeg in helper:\n",
        "    print(eeg.PFD())\n",
        "print(eeg.PFD().size)"
      ],
      "metadata": {
        "colab": {
          "base_uri": "https://localhost:8080/"
        },
        "id": "5ox1PzLW6Bji",
        "outputId": "9c9708d8-6c62-4480-dc57-7ffd906b10b9"
      },
      "execution_count": null,
      "outputs": [
        {
          "output_type": "stream",
          "name": "stdout",
          "text": [
            "[1.07382753 1.         1.         ... 1.07382753 1.07382753 1.        ]\n",
            "[1.07382753 1.07382753 1.07382753 ... 1.07382753 1.07382753 1.        ]\n",
            "[1.15143328 1.15143328 1.15143328 ... 1.07382753 1.         1.07382753]\n",
            "[1.         1.         1.         ... 1.07382753 1.07382753 1.07382753]\n",
            "[1.15143328 1.07382753 1.07382753 ... 1.07382753 1.15143328 1.15143328]\n",
            "[1.15143328 1.15143328 1.15143328 ... 1.         1.15143328 1.07382753]\n",
            "[1.07382753 1.07382753 1.07382753 ... 1.07382753 1.07382753 1.07382753]\n",
            "[1.         1.         1.         ... 1.07382753 1.07382753 1.07382753]\n",
            "7680\n"
          ]
        }
      ]
    },
    {
      "cell_type": "code",
      "source": [
        "type(eeg.PFD())"
      ],
      "metadata": {
        "colab": {
          "base_uri": "https://localhost:8080/"
        },
        "id": "fR1RJhzTtQXb",
        "outputId": "c86e0cdc-49a3-4b64-e09b-611e92123e5e"
      },
      "execution_count": null,
      "outputs": [
        {
          "output_type": "execute_result",
          "data": {
            "text/plain": [
              "numpy.ndarray"
            ]
          },
          "metadata": {},
          "execution_count": 109
        }
      ]
    },
    {
      "cell_type": "code",
      "source": [
        "np.savetxt('/content/savedpfd1.csv', eeg.PFD(), delimiter=',')"
      ],
      "metadata": {
        "id": "w3-1P15j1mTO"
      },
      "execution_count": null,
      "outputs": []
    },
    {
      "cell_type": "code",
      "source": [
        "helper= CSVHelper(\"fnewT.csv\",windowSize=1920)\n",
        "\n",
        "for eeg in helper:\n",
        "    print(eeg.HFD())\n",
        "print(eeg.HFD().size)"
      ],
      "metadata": {
        "colab": {
          "base_uri": "https://localhost:8080/"
        },
        "id": "v4lqYo8epLDc",
        "outputId": "5a0d7816-24f2-4e8d-cee5-b9fe60ca358b"
      },
      "execution_count": null,
      "outputs": [
        {
          "output_type": "stream",
          "name": "stdout",
          "text": [
            "[2.11591422 2.11982136 2.12766281 2.11879965 2.12103851 2.11351106\n",
            " 2.12642848 2.10653469 2.1200706  2.11916944 2.1108526  2.11025104\n",
            " 2.11194906 2.11027799 2.11388623 2.10818828 2.10867068 2.10627037\n",
            " 2.11859144 2.1074065  2.12009495 2.11672093 2.11547485 2.11028599\n",
            " 2.11815546 2.11144184 2.11475022 2.10626505 2.10819909 2.10646941\n",
            " 2.11053701 2.10951221]\n",
            "[2.07771742 2.07395128 2.06708424 2.0734984  2.08771989 2.06531139\n",
            " 2.09534573 2.08705373 2.09198405 2.08668453 2.08998904 2.08742141\n",
            " 2.08418519 2.08494234 2.08070247 2.06698052 2.08611402 2.09422373\n",
            " 2.05651048 2.06544286 2.08311779 2.09082185 2.06102048 2.06393519\n",
            " 2.0979935  2.08325973 2.08516061 2.08162798 2.08334207 2.08640148\n",
            " 2.08420854 2.08418483]\n",
            "[2.11499692 2.11596291 2.11568361 2.12425942 2.1213232  2.11619582\n",
            " 2.11515502 2.11875619 2.12372649 2.11545091 2.1238374  2.13057232\n",
            " 2.12354489 2.12268642 2.11967199 2.10981258 2.11809338 2.11460542\n",
            " 2.1255271  2.1238675  2.11016606 2.12001016 2.11802782 2.10831913\n",
            " 2.12400941 2.12092946 2.11945494 2.11271103 2.11549415 2.11631612\n",
            " 2.11289986 2.11521146]\n",
            "[2.09842041 2.09138574 2.08412776 2.08623911 2.08077613 2.08351521\n",
            " 2.09548622 2.09637717 2.11554538 2.12157261 2.09395145 2.10610577\n",
            " 2.10824645 2.09787151 2.08666813 2.10854758 2.0736171  2.09439371\n",
            " 2.09892905 2.08317924 2.09300114 2.1040772  2.09108279 2.10016748\n",
            " 2.09276245 2.09452554 2.10508621 2.10986776 2.07299362 2.09170996\n",
            " 2.07474478 2.07998378]\n",
            "32\n"
          ]
        }
      ]
    },
    {
      "cell_type": "code",
      "source": [
        "helper= CSVHelper(\"fnewT.csv\",windowSize=1920)\n",
        "\n",
        "for eeg in helper:\n",
        "    print(eeg.bandPower())\n"
      ],
      "metadata": {
        "colab": {
          "base_uri": "https://localhost:8080/"
        },
        "id": "5uHF8SgosLxs",
        "outputId": "968020e4-e33f-4602-aa6d-7c70ff65fd53"
      },
      "execution_count": null,
      "outputs": [
        {
          "output_type": "stream",
          "name": "stdout",
          "text": [
            "[{'delta': 0.0, 'theta': 0.0, 'alpha': 0.0, 'beta': 3.558318369382141}, {'delta': 0.0, 'theta': 0.0, 'alpha': 0.0, 'beta': 3.124295118832885}, {'delta': 0.0, 'theta': 0.0, 'alpha': 0.0, 'beta': 2.655808314285996}, {'delta': 0.0, 'theta': 0.0, 'alpha': 0.0, 'beta': 5.690360439928695}, {'delta': 0.0, 'theta': 0.0, 'alpha': 0.0, 'beta': 2.291690663076266}, {'delta': 0.0, 'theta': 0.0, 'alpha': 0.0, 'beta': 0.30035631751366293}, {'delta': 0.0, 'theta': 0.0, 'alpha': 0.0, 'beta': 1.2113877518096126}, {'delta': 0.0, 'theta': 0.0, 'alpha': 0.0, 'beta': 3.152007247121153}, {'delta': 0.0, 'theta': 0.0, 'alpha': 0.0, 'beta': 1.107208766387222}, {'delta': 0.0, 'theta': 0.0, 'alpha': 0.0, 'beta': 3.445543291279155}, {'delta': 0.0, 'theta': 0.0, 'alpha': 0.0, 'beta': 3.674258019549592}, {'delta': 0.0, 'theta': 0.0, 'alpha': 0.0, 'beta': 2.798071074543648}, {'delta': 0.0, 'theta': 0.0, 'alpha': 0.0, 'beta': 4.582045958572233}, {'delta': 0.0, 'theta': 0.0, 'alpha': 0.0, 'beta': 4.969033108311367}, {'delta': 0.0, 'theta': 0.0, 'alpha': 0.0, 'beta': 2.4422254074770007}, {'delta': 0.0, 'theta': 0.0, 'alpha': 0.0, 'beta': 4.079536060679141}, {'delta': 0.0, 'theta': 0.0, 'alpha': 0.0, 'beta': 4.533727827837396}, {'delta': 0.0, 'theta': 0.0, 'alpha': 0.0, 'beta': 4.276000196349726}, {'delta': 0.0, 'theta': 0.0, 'alpha': 0.0, 'beta': 3.304199011280793}, {'delta': 0.0, 'theta': 0.0, 'alpha': 0.0, 'beta': 3.4695726618445764}, {'delta': 0.0, 'theta': 0.0, 'alpha': 0.0, 'beta': 3.0012057901080356}, {'delta': 0.0, 'theta': 0.0, 'alpha': 0.0, 'beta': 2.799249329319256}, {'delta': 0.0, 'theta': 0.0, 'alpha': 0.0, 'beta': 1.196143232131993}, {'delta': 0.0, 'theta': 0.0, 'alpha': 0.0, 'beta': 1.0413214995603075}, {'delta': 0.0, 'theta': 0.0, 'alpha': 0.0, 'beta': 0.4104262554914457}, {'delta': 0.0, 'theta': 0.0, 'alpha': 0.0, 'beta': 0.40576268535752613}, {'delta': 0.0, 'theta': 0.0, 'alpha': 0.0, 'beta': 1.8822434329747604}, {'delta': 0.0, 'theta': 0.0, 'alpha': 0.0, 'beta': 2.6555566372387505}, {'delta': 0.0, 'theta': 0.0, 'alpha': 0.0, 'beta': 2.303352086019386}, {'delta': 0.0, 'theta': 0.0, 'alpha': 0.0, 'beta': 1.5309701434803002}, {'delta': 0.0, 'theta': 0.0, 'alpha': 0.0, 'beta': 3.2203824650055757}, {'delta': 0.0, 'theta': 0.0, 'alpha': 0.0, 'beta': 2.0030166159591887}]\n",
            "[{'delta': 0.0, 'theta': 0.0, 'alpha': 0.0, 'beta': 0.02394783180649003}, {'delta': 0.0, 'theta': 0.0, 'alpha': 0.0, 'beta': 0.025916709388839238}, {'delta': 0.0, 'theta': 0.0, 'alpha': 0.0, 'beta': 0.021716978553180305}, {'delta': 0.0, 'theta': 0.0, 'alpha': 0.0, 'beta': 0.013331028039460516}, {'delta': 0.0, 'theta': 0.0, 'alpha': 0.0, 'beta': 0.006785645108462919}, {'delta': 0.0, 'theta': 0.0, 'alpha': 0.0, 'beta': 0.0022067962213179774}, {'delta': 0.0, 'theta': 0.0, 'alpha': 0.0, 'beta': 0.004006967837521483}, {'delta': 0.0, 'theta': 0.0, 'alpha': 0.0, 'beta': 0.00911834957298975}, {'delta': 0.0, 'theta': 0.0, 'alpha': 0.0, 'beta': 0.006479919772982974}, {'delta': 0.0, 'theta': 0.0, 'alpha': 0.0, 'beta': 0.004237156175581131}, {'delta': 0.0, 'theta': 0.0, 'alpha': 0.0, 'beta': 0.022692106889993947}, {'delta': 0.0, 'theta': 0.0, 'alpha': 0.0, 'beta': 0.019597917870123965}, {'delta': 0.0, 'theta': 0.0, 'alpha': 0.0, 'beta': 0.006242759605276689}, {'delta': 0.0, 'theta': 0.0, 'alpha': 0.0, 'beta': 0.013403285072266574}, {'delta': 0.0, 'theta': 0.0, 'alpha': 0.0, 'beta': 0.008705262754891155}, {'delta': 0.0, 'theta': 0.0, 'alpha': 0.0, 'beta': 0.010799830622296953}, {'delta': 0.0, 'theta': 0.0, 'alpha': 0.0, 'beta': 0.03587999157098023}, {'delta': 0.0, 'theta': 0.0, 'alpha': 0.0, 'beta': 0.00956684023876389}, {'delta': 0.0, 'theta': 0.0, 'alpha': 0.0, 'beta': 0.0220090249125381}, {'delta': 0.0, 'theta': 0.0, 'alpha': 0.0, 'beta': 0.02581215865407749}, {'delta': 0.0, 'theta': 0.0, 'alpha': 0.0, 'beta': 0.014369614535233275}, {'delta': 0.0, 'theta': 0.0, 'alpha': 0.0, 'beta': 0.004046227116081523}, {'delta': 0.0, 'theta': 0.0, 'alpha': 0.0, 'beta': 0.014905919438392524}, {'delta': 0.0, 'theta': 0.0, 'alpha': 0.0, 'beta': 0.004807318324001851}, {'delta': 0.0, 'theta': 0.0, 'alpha': 0.0, 'beta': 0.006323301517317251}, {'delta': 0.0, 'theta': 0.0, 'alpha': 0.0, 'beta': 0.017711383577642754}, {'delta': 0.0, 'theta': 0.0, 'alpha': 0.0, 'beta': 0.015349974183990839}, {'delta': 0.0, 'theta': 0.0, 'alpha': 0.0, 'beta': 0.0027923100803246784}, {'delta': 0.0, 'theta': 0.0, 'alpha': 0.0, 'beta': 0.027963252060280348}, {'delta': 0.0, 'theta': 0.0, 'alpha': 0.0, 'beta': 0.019905702110101765}, {'delta': 0.0, 'theta': 0.0, 'alpha': 0.0, 'beta': 0.02298645350773723}, {'delta': 0.0, 'theta': 0.0, 'alpha': 0.0, 'beta': 0.016639456915229032}]\n",
            "[{'delta': 0.0, 'theta': 0.0, 'alpha': 0.0, 'beta': 0.010230309497664524}, {'delta': 0.0, 'theta': 0.0, 'alpha': 0.0, 'beta': 0.02506731629439727}, {'delta': 0.0, 'theta': 0.0, 'alpha': 0.0, 'beta': 0.02408641253123707}, {'delta': 0.0, 'theta': 0.0, 'alpha': 0.0, 'beta': 0.009555139233504496}, {'delta': 0.0, 'theta': 0.0, 'alpha': 0.0, 'beta': 0.015713931635776463}, {'delta': 0.0, 'theta': 0.0, 'alpha': 0.0, 'beta': 0.0059552833846099025}, {'delta': 0.0, 'theta': 0.0, 'alpha': 0.0, 'beta': 0.020756493759961695}, {'delta': 0.0, 'theta': 0.0, 'alpha': 0.0, 'beta': 0.03202143814816895}, {'delta': 0.0, 'theta': 0.0, 'alpha': 0.0, 'beta': 0.01406444534685522}, {'delta': 0.0, 'theta': 0.0, 'alpha': 0.0, 'beta': 0.0014824510429965743}, {'delta': 0.0, 'theta': 0.0, 'alpha': 0.0, 'beta': 0.02037466252012824}, {'delta': 0.0, 'theta': 0.0, 'alpha': 0.0, 'beta': 0.0037359188588113445}, {'delta': 0.0, 'theta': 0.0, 'alpha': 0.0, 'beta': 0.011313442042777686}, {'delta': 0.0, 'theta': 0.0, 'alpha': 0.0, 'beta': 0.01076644934062166}, {'delta': 0.0, 'theta': 0.0, 'alpha': 0.0, 'beta': 0.0020480180811079576}, {'delta': 0.0, 'theta': 0.0, 'alpha': 0.0, 'beta': 0.005068401219804602}, {'delta': 0.0, 'theta': 0.0, 'alpha': 0.0, 'beta': 0.02903422280921985}, {'delta': 0.0, 'theta': 0.0, 'alpha': 0.0, 'beta': 0.017731836040794095}, {'delta': 0.0, 'theta': 0.0, 'alpha': 0.0, 'beta': 0.024374532388915574}, {'delta': 0.0, 'theta': 0.0, 'alpha': 0.0, 'beta': 0.02403474540181836}, {'delta': 0.0, 'theta': 0.0, 'alpha': 0.0, 'beta': 0.004022036807729068}, {'delta': 0.0, 'theta': 0.0, 'alpha': 0.0, 'beta': 0.014882297311518572}, {'delta': 0.0, 'theta': 0.0, 'alpha': 0.0, 'beta': 0.02214335862599561}, {'delta': 0.0, 'theta': 0.0, 'alpha': 0.0, 'beta': 0.0028767870928419637}, {'delta': 0.0, 'theta': 0.0, 'alpha': 0.0, 'beta': 0.017292415356393517}, {'delta': 0.0, 'theta': 0.0, 'alpha': 0.0, 'beta': 0.04005367559801274}, {'delta': 0.0, 'theta': 0.0, 'alpha': 0.0, 'beta': 0.018541684856011494}, {'delta': 0.0, 'theta': 0.0, 'alpha': 0.0, 'beta': 0.002080467747522627}, {'delta': 0.0, 'theta': 0.0, 'alpha': 0.0, 'beta': 0.04816825590657909}, {'delta': 0.0, 'theta': 0.0, 'alpha': 0.0, 'beta': 0.021664496507263112}, {'delta': 0.0, 'theta': 0.0, 'alpha': 0.0, 'beta': 0.033146870608037116}, {'delta': 0.0, 'theta': 0.0, 'alpha': 0.0, 'beta': 0.012106255133967207}]\n",
            "[{'delta': 0.0, 'theta': 0.0, 'alpha': 0.0, 'beta': 0.006119887208572606}, {'delta': 0.0, 'theta': 0.0, 'alpha': 0.0, 'beta': 0.004203943236250718}, {'delta': 0.0, 'theta': 0.0, 'alpha': 0.0, 'beta': 0.0031969966918865746}, {'delta': 0.0, 'theta': 0.0, 'alpha': 0.0, 'beta': 0.008770118561372532}, {'delta': 0.0, 'theta': 0.0, 'alpha': 0.0, 'beta': 0.003930603506363486}, {'delta': 0.0, 'theta': 0.0, 'alpha': 0.0, 'beta': 0.007667445621890155}, {'delta': 0.0, 'theta': 0.0, 'alpha': 0.0, 'beta': 0.011248745684963642}, {'delta': 0.0, 'theta': 0.0, 'alpha': 0.0, 'beta': 0.018747507886162237}, {'delta': 0.0, 'theta': 0.0, 'alpha': 0.0, 'beta': 0.012073266067338006}, {'delta': 0.0, 'theta': 0.0, 'alpha': 0.0, 'beta': 0.0023345396698001833}, {'delta': 0.0, 'theta': 0.0, 'alpha': 0.0, 'beta': 0.005141688317285016}, {'delta': 0.0, 'theta': 0.0, 'alpha': 0.0, 'beta': 0.005778633947910637}, {'delta': 0.0, 'theta': 0.0, 'alpha': 0.0, 'beta': 0.014769598926891333}, {'delta': 0.0, 'theta': 0.0, 'alpha': 0.0, 'beta': 0.015270587655446059}, {'delta': 0.0, 'theta': 0.0, 'alpha': 0.0, 'beta': 0.008278330021702814}, {'delta': 0.0, 'theta': 0.0, 'alpha': 0.0, 'beta': 0.012587446488862262}, {'delta': 0.0, 'theta': 0.0, 'alpha': 0.0, 'beta': 0.006978480757573477}, {'delta': 0.0, 'theta': 0.0, 'alpha': 0.0, 'beta': 0.004239895511479042}, {'delta': 0.0, 'theta': 0.0, 'alpha': 0.0, 'beta': 0.013076872270914142}, {'delta': 0.0, 'theta': 0.0, 'alpha': 0.0, 'beta': 0.0042489246352343385}, {'delta': 0.0, 'theta': 0.0, 'alpha': 0.0, 'beta': 0.005180868808013848}, {'delta': 0.0, 'theta': 0.0, 'alpha': 0.0, 'beta': 0.008288173255908443}, {'delta': 0.0, 'theta': 0.0, 'alpha': 0.0, 'beta': 0.009429358526643259}, {'delta': 0.0, 'theta': 0.0, 'alpha': 0.0, 'beta': 0.0011276449437963333}, {'delta': 0.0, 'theta': 0.0, 'alpha': 0.0, 'beta': 0.010103473040378137}, {'delta': 0.0, 'theta': 0.0, 'alpha': 0.0, 'beta': 0.029115196342478878}, {'delta': 0.0, 'theta': 0.0, 'alpha': 0.0, 'beta': 0.02030842986852789}, {'delta': 0.0, 'theta': 0.0, 'alpha': 0.0, 'beta': 0.001747177061027468}, {'delta': 0.0, 'theta': 0.0, 'alpha': 0.0, 'beta': 0.020319354363481923}, {'delta': 0.0, 'theta': 0.0, 'alpha': 0.0, 'beta': 0.021977066089217224}, {'delta': 0.0, 'theta': 0.0, 'alpha': 0.0, 'beta': 0.013655657397504755}, {'delta': 0.0, 'theta': 0.0, 'alpha': 0.0, 'beta': 0.0033432079239761017}]\n"
          ]
        }
      ]
    },
    {
      "cell_type": "code",
      "source": [
        "def emotion_label(labels, class_label):\n",
        "    em_labels = []\n",
        "    if(class_label == 'valence'):\n",
        "        for i in range(0, labels.shape[0]):\n",
        "            if (labels[i][0]>5): # high valence\n",
        "                em_labels.append(1)\n",
        "            else: # low valence\n",
        "                em_labels.append(0)\n",
        "        return em_labels\n",
        "    elif(class_label == 'arousal'):\n",
        "        for i in range(0, labels.shape[0]):\n",
        "            if (labels[i][1]>5): # high arousal\n",
        "                em_labels.append(1)\n",
        "            else: # low arousal\n",
        "                em_labels.append(0)\n",
        "        return em_labels\n",
        "    elif(class_label == 'all'):\n",
        "        for i in range(0, labels.shape[0]):\n",
        "            if (labels[i][0]>5): # high valence\n",
        "                if(labels[i][1]>5): # high arousal\n",
        "                    em_labels.append(1) # HVHA\n",
        "                else:\n",
        "                    em_labels.append(0) # HVLA\n",
        "            else: # low valence\n",
        "                if(labels[i][1]>5): # high arousal\n",
        "                    em_labels.append(2) # LVHA\n",
        "                else: # low arousal\n",
        "                    em_labels.append(3) # LVLA\n",
        "        return em_labels"
      ],
      "metadata": {
        "id": "hn5jmy5msL-z"
      },
      "execution_count": null,
      "outputs": []
    },
    {
      "cell_type": "code",
      "source": [
        "PFDX=[]\n",
        "PFDX=np.array(eeg.PFD())"
      ],
      "metadata": {
        "id": "5HpCpsXDySuy"
      },
      "execution_count": null,
      "outputs": []
    },
    {
      "cell_type": "code",
      "source": [
        "print(PFDX)"
      ],
      "metadata": {
        "colab": {
          "base_uri": "https://localhost:8080/"
        },
        "id": "zRh6w0KcvjoF",
        "outputId": "7d9738f3-017f-456d-f706-88b063a4cd4a"
      },
      "execution_count": null,
      "outputs": [
        {
          "output_type": "stream",
          "name": "stdout",
          "text": [
            "[1.01823711 1.01878528 1.01933185 1.01953021 1.02115877 1.01972837\n",
            " 1.02046959 1.02274906 1.0198521  1.0180124  1.01960454 1.02056819\n",
            " 1.01900907 1.02108505 1.01945585 1.01690991 1.01826206 1.02078988\n",
            " 1.01806236 1.01856122 1.01821216 1.01910845 1.01913328 1.01868573\n",
            " 1.01940626 1.02130613 1.01773738 1.01778742 1.02125702 1.01933185\n",
            " 1.01846155 1.0180124 ]\n"
          ]
        }
      ]
    },
    {
      "cell_type": "code",
      "source": [
        "PFDX = np.reshape(PFDX, (32,160))\n"
      ],
      "metadata": {
        "id": "zwl-WMfRxBsv"
      },
      "execution_count": null,
      "outputs": []
    },
    {
      "cell_type": "code",
      "source": [
        ""
      ],
      "metadata": {
        "id": "EhTJq-Rqz5Ee"
      },
      "execution_count": null,
      "outputs": []
    },
    {
      "cell_type": "code",
      "source": [
        ""
      ],
      "metadata": {
        "id": "OGjUiWgExBv4"
      },
      "execution_count": null,
      "outputs": []
    },
    {
      "cell_type": "code",
      "source": [
        ""
      ],
      "metadata": {
        "id": "4lRmD0Z0vL9U"
      },
      "execution_count": null,
      "outputs": []
    },
    {
      "cell_type": "code",
      "source": [
        ""
      ],
      "metadata": {
        "id": "vJFEQEkUvMA6"
      },
      "execution_count": null,
      "outputs": []
    },
    {
      "cell_type": "code",
      "source": [
        "def petrosian_fd(data, axis=-1):\n",
        "    # Petrosian fractal dimension\n",
        "    x = np.asarray(data)\n",
        "    N = x.shape[axis]\n",
        "    nzc_deriv = ent.num_zerocross(np.diff(x, axis=axis), axis=axis) # Number of sign changes in the first derivative of the signal\n",
        "    pfd = np.log10(N) / (np.log10(N) + np.log10(N / (N + 0.4 * nzc_deriv)))\n",
        "    return pfd"
      ],
      "metadata": {
        "id": "d67RIcmWi_6b"
      },
      "execution_count": null,
      "outputs": []
    },
    {
      "cell_type": "code",
      "source": [
        "window = 4 # fix window size\n",
        "pfd_features = []\n",
        "for video_no in range(0, 40):\n",
        "    for channel_no in range(0, 32):\n",
        "        input_data = reduced_eeg_data[video_no][channel_no]\n",
        "        no_data_in_each_window = int(input_data.shape[0]/4)\n",
        "        for i in range(window):\n",
        "            pfd = petrosian_fd(input_data[i*window: window*(i+1)])\n",
        "            pfd_features.append(pfd)"
      ],
      "metadata": {
        "id": "SgqdytSSjaTk"
      },
      "execution_count": null,
      "outputs": []
    },
    {
      "cell_type": "code",
      "source": [
        "def emotion_label(labels, class_label):\n",
        "    em_labels = []\n",
        "    if(class_label == 'valence'):\n",
        "        for i in range(0, labels.shape[0]):\n",
        "            if (labels[i][0]>5): # high valence\n",
        "                em_labels.append(1)\n",
        "            else: # low valence\n",
        "                em_labels.append(0)\n",
        "        return em_labels\n",
        "    elif(class_label == 'arousal'):\n",
        "        for i in range(0, labels.shape[0]):\n",
        "            if (labels[i][1]>5): # high arousal\n",
        "                em_labels.append(1)\n",
        "            else: # low arousal\n",
        "                em_labels.append(0)\n",
        "        return em_labels\n",
        "    elif(class_label == 'all'):\n",
        "        for i in range(0, labels.shape[0]):\n",
        "            if (labels[i][0]>5): # high valence\n",
        "                if(labels[i][1]>5): # high arousal\n",
        "                    em_labels.append(1) # HVHA\n",
        "                else:\n",
        "                    em_labels.append(0) # HVLA\n",
        "            else: # low valence\n",
        "                if(labels[i][1]>5): # high arousal\n",
        "                    em_labels.append(2) # LVHA\n",
        "                else: # low arousal\n",
        "                    em_labels.append(3) # LVLA\n",
        "        return em_labels"
      ],
      "metadata": {
        "id": "5-B8mCiKjep5"
      },
      "execution_count": null,
      "outputs": []
    },
    {
      "cell_type": "code",
      "source": [
        "print(pfd_features)"
      ],
      "metadata": {
        "colab": {
          "base_uri": "https://localhost:8080/"
        },
        "id": "9BZF1AdVzUyF",
        "outputId": "93e9e1ab-2bb2-419c-ede5-d387aa5abfb0"
      },
      "execution_count": null,
      "outputs": [
        {
          "output_type": "stream",
          "name": "stdout",
          "text": [
            "[1.0, 1.0, 1.0, 1.0, 1.0738275349797082, 1.0, 1.0, 1.0738275349797082, 1.0738275349797082, 1.0, 1.0, 1.0738275349797082, 1.0, 1.0738275349797082, 1.0, 1.0738275349797082, 1.0, 1.0738275349797082, 1.0738275349797082, 1.0738275349797082, 1.0738275349797082, 1.0738275349797082, 1.0, 1.0, 1.0, 1.0738275349797082, 1.1514332849868898, 1.0738275349797082, 1.0738275349797082, 1.0738275349797082, 1.1514332849868898, 1.0738275349797082, 1.0, 1.0, 1.0, 1.0738275349797082, 1.0, 1.0738275349797082, 1.0738275349797082, 1.0738275349797082, 1.0, 1.0738275349797082, 1.0, 1.0738275349797082, 1.0738275349797082, 1.0, 1.1514332849868898, 1.1514332849868898, 1.0, 1.0, 1.0738275349797082, 1.0738275349797082, 1.0, 1.0, 1.0738275349797082, 1.0738275349797082, 1.0, 1.0, 1.0738275349797082, 1.0738275349797082, 1.0, 1.0738275349797082, 1.0738275349797082, 1.0738275349797082, 1.0, 1.0, 1.0, 1.0738275349797082, 1.0, 1.0, 1.0, 1.0738275349797082, 1.0, 1.0, 1.0, 1.1514332849868898, 1.0, 1.0, 1.0, 1.0738275349797082, 1.0, 1.0738275349797082, 1.0, 1.0738275349797082, 1.0, 1.1514332849868898, 1.0738275349797082, 1.0738275349797082, 1.0, 1.0, 1.0738275349797082, 1.1514332849868898, 1.0738275349797082, 1.1514332849868898, 1.0, 1.0, 1.0, 1.0738275349797082, 1.0738275349797082, 1.0738275349797082, 1.0, 1.0738275349797082, 1.0738275349797082, 1.0738275349797082, 1.0738275349797082, 1.0738275349797082, 1.0738275349797082, 1.0738275349797082, 1.0, 1.0738275349797082, 1.0, 1.0738275349797082, 1.1514332849868898, 1.0738275349797082, 1.0, 1.0738275349797082, 1.0738275349797082, 1.0738275349797082, 1.0738275349797082, 1.0738275349797082, 1.0738275349797082, 1.0, 1.0, 1.1514332849868898, 1.0738275349797082, 1.0, 1.0, 1.1514332849868898, 1.0738275349797082, 1.0738275349797082, 1.0, 1.0, 1.0738275349797082, 1.0738275349797082, 1.0, 1.0, 1.0738275349797082, 1.0738275349797082, 1.0, 1.0, 1.0738275349797082, 1.0738275349797082, 1.0, 1.0, 1.0738275349797082, 1.0738275349797082, 1.0, 1.0738275349797082, 1.0738275349797082, 1.0738275349797082, 1.0738275349797082, 1.0, 1.0738275349797082, 1.0738275349797082, 1.1514332849868898, 1.0738275349797082, 1.0738275349797082, 1.0, 1.0, 1.0, 1.0738275349797082, 1.1514332849868898, 1.0738275349797082, 1.0738275349797082, 1.0738275349797082, 1.0738275349797082, 1.0738275349797082, 1.0, 1.0738275349797082, 1.0738275349797082, 1.0738275349797082, 1.0, 1.0, 1.0738275349797082, 1.0738275349797082, 1.0, 1.0738275349797082, 1.0, 1.0, 1.0738275349797082, 1.0738275349797082, 1.0, 1.0, 1.0738275349797082, 1.0738275349797082, 1.0, 1.0, 1.0738275349797082, 1.0, 1.1514332849868898, 1.0738275349797082, 1.0738275349797082, 1.0738275349797082, 1.0738275349797082, 1.0738275349797082, 1.0, 1.0738275349797082, 1.0738275349797082, 1.0738275349797082, 1.0738275349797082, 1.0, 1.0, 1.0, 1.0, 1.0, 1.0738275349797082, 1.0, 1.0, 1.0, 1.0738275349797082, 1.0, 1.1514332849868898, 1.0, 1.0738275349797082, 1.0, 1.0, 1.0, 1.0738275349797082, 1.0, 1.0, 1.0, 1.0, 1.0, 1.0, 1.0738275349797082, 1.0738275349797082, 1.0, 1.0, 1.1514332849868898, 1.0738275349797082, 1.0738275349797082, 1.1514332849868898, 1.0738275349797082, 1.0738275349797082, 1.0, 1.0738275349797082, 1.0, 1.0738275349797082, 1.0, 1.0, 1.0738275349797082, 1.0738275349797082, 1.1514332849868898, 1.0738275349797082, 1.0738275349797082, 1.0738275349797082, 1.0, 1.0, 1.0738275349797082, 1.0, 1.0738275349797082, 1.0, 1.0738275349797082, 1.0, 1.0738275349797082, 1.0, 1.0738275349797082, 1.0, 1.0738275349797082, 1.0, 1.0738275349797082, 1.0738275349797082, 1.0, 1.0, 1.0738275349797082, 1.0738275349797082, 1.0, 1.0, 1.1514332849868898, 1.0738275349797082, 1.0738275349797082, 1.0738275349797082, 1.0738275349797082, 1.0738275349797082, 1.0738275349797082, 1.0738275349797082, 1.0738275349797082, 1.0738275349797082, 1.0, 1.0738275349797082, 1.0, 1.0738275349797082, 1.0738275349797082, 1.0738275349797082, 1.0, 1.0738275349797082, 1.1514332849868898, 1.0738275349797082, 1.0, 1.0738275349797082, 1.0, 1.0738275349797082, 1.0, 1.0738275349797082, 1.0738275349797082, 1.0738275349797082, 1.0, 1.0738275349797082, 1.0738275349797082, 1.0738275349797082, 1.0738275349797082, 1.0738275349797082, 1.0738275349797082, 1.0, 1.0, 1.0738275349797082, 1.0738275349797082, 1.0738275349797082, 1.0738275349797082, 1.0738275349797082, 1.0, 1.0738275349797082, 1.0738275349797082, 1.0738275349797082, 1.0, 1.0, 1.0, 1.0738275349797082, 1.0738275349797082, 1.0738275349797082, 1.0, 1.0, 1.0, 1.0738275349797082, 1.0, 1.0, 1.0738275349797082, 1.0738275349797082, 1.0, 1.0738275349797082, 1.0, 1.0, 1.0, 1.0738275349797082, 1.0, 1.0, 1.1514332849868898, 1.1514332849868898, 1.0738275349797082, 1.0738275349797082, 1.0, 1.1514332849868898, 1.0, 1.0738275349797082, 1.0, 1.1514332849868898, 1.0738275349797082, 1.0, 1.0, 1.0738275349797082, 1.0738275349797082, 1.0, 1.0738275349797082, 1.0738275349797082, 1.0, 1.0738275349797082, 1.0738275349797082, 1.0738275349797082, 1.0738275349797082, 1.0738275349797082, 1.0738275349797082, 1.0, 1.0, 1.0738275349797082, 1.0738275349797082, 1.0738275349797082, 1.0738275349797082, 1.0738275349797082, 1.0738275349797082, 1.0738275349797082, 1.0, 1.0, 1.0, 1.0738275349797082, 1.0, 1.0738275349797082, 1.0738275349797082, 1.0738275349797082, 1.0, 1.0, 1.0738275349797082, 1.0738275349797082, 1.0, 1.0, 1.0738275349797082, 1.0, 1.0, 1.0738275349797082, 1.0738275349797082, 1.1514332849868898, 1.0738275349797082, 1.0738275349797082, 1.0738275349797082, 1.0, 1.0, 1.0738275349797082, 1.0, 1.1514332849868898, 1.0, 1.0738275349797082, 1.0738275349797082, 1.1514332849868898, 1.0, 1.0738275349797082, 1.0, 1.0738275349797082, 1.0738275349797082, 1.0738275349797082, 1.0, 1.0, 1.0738275349797082, 1.0738275349797082, 1.0738275349797082, 1.1514332849868898, 1.0738275349797082, 1.0738275349797082, 1.0, 1.0738275349797082, 1.0, 1.0738275349797082, 1.0738275349797082, 1.0738275349797082, 1.0738275349797082, 1.0738275349797082, 1.0, 1.0, 1.0, 1.0738275349797082, 1.0, 1.0738275349797082, 1.0738275349797082, 1.0, 1.0738275349797082, 1.0738275349797082, 1.0738275349797082, 1.0738275349797082, 1.0738275349797082, 1.0738275349797082, 1.0738275349797082, 1.0738275349797082, 1.0738275349797082, 1.0738275349797082, 1.0738275349797082, 1.0738275349797082, 1.0738275349797082, 1.0, 1.0, 1.0738275349797082, 1.0, 1.0738275349797082, 1.0738275349797082, 1.0738275349797082, 1.0, 1.0738275349797082, 1.0, 1.0738275349797082, 1.0, 1.0738275349797082, 1.0, 1.1514332849868898, 1.0, 1.0738275349797082, 1.0, 1.0738275349797082, 1.0, 1.0738275349797082, 1.1514332849868898, 1.0738275349797082, 1.0, 1.0738275349797082, 1.0738275349797082, 1.0738275349797082, 1.0, 1.1514332849868898, 1.0, 1.0738275349797082, 1.0738275349797082, 1.0, 1.0738275349797082, 1.0738275349797082, 1.0738275349797082, 1.0738275349797082, 1.0, 1.0738275349797082, 1.1514332849868898, 1.0738275349797082, 1.0, 1.0738275349797082, 1.0738275349797082, 1.0738275349797082, 1.1514332849868898, 1.0738275349797082, 1.0738275349797082, 1.0738275349797082, 1.0, 1.0738275349797082, 1.1514332849868898, 1.0738275349797082, 1.0738275349797082, 1.0738275349797082, 1.0738275349797082, 1.0738275349797082, 1.0, 1.1514332849868898, 1.1514332849868898, 1.0738275349797082, 1.1514332849868898, 1.0738275349797082, 1.0738275349797082, 1.0738275349797082, 1.0, 1.0, 1.0, 1.0738275349797082, 1.1514332849868898, 1.0, 1.0, 1.0738275349797082, 1.1514332849868898, 1.0738275349797082, 1.0, 1.0738275349797082, 1.0, 1.0, 1.0738275349797082, 1.0, 1.0, 1.0738275349797082, 1.0, 1.0738275349797082, 1.0, 1.0738275349797082, 1.0738275349797082, 1.0738275349797082, 1.0738275349797082, 1.0, 1.1514332849868898, 1.0, 1.0738275349797082, 1.1514332849868898, 1.1514332849868898, 1.0738275349797082, 1.1514332849868898, 1.0738275349797082, 1.0, 1.0738275349797082, 1.0, 1.0738275349797082, 1.0, 1.0738275349797082, 1.0738275349797082, 1.0738275349797082, 1.0738275349797082, 1.0, 1.0, 1.0738275349797082, 1.0738275349797082, 1.0738275349797082, 1.0738275349797082, 1.1514332849868898, 1.0, 1.0, 1.0, 1.0738275349797082, 1.0, 1.0738275349797082, 1.0738275349797082, 1.0738275349797082, 1.0, 1.0, 1.0, 1.0, 1.0, 1.0738275349797082, 1.0738275349797082, 1.0, 1.0738275349797082, 1.0738275349797082, 1.0738275349797082, 1.0738275349797082, 1.0, 1.0738275349797082, 1.0738275349797082, 1.0738275349797082, 1.0738275349797082, 1.0, 1.0738275349797082, 1.0738275349797082, 1.0738275349797082, 1.0, 1.0738275349797082, 1.0738275349797082, 1.0, 1.0, 1.0, 1.0738275349797082, 1.1514332849868898, 1.0738275349797082, 1.0738275349797082, 1.0738275349797082, 1.0738275349797082, 1.0, 1.0738275349797082, 1.0, 1.0738275349797082, 1.0, 1.0738275349797082, 1.0, 1.0738275349797082, 1.0738275349797082, 1.0, 1.0, 1.0738275349797082, 1.0, 1.0738275349797082, 1.0738275349797082, 1.0738275349797082, 1.0738275349797082, 1.0, 1.0738275349797082, 1.0738275349797082, 1.0, 1.0738275349797082, 1.0, 1.0738275349797082, 1.0, 1.0738275349797082, 1.0738275349797082, 1.0738275349797082, 1.0738275349797082, 1.1514332849868898, 1.0738275349797082, 1.1514332849868898, 1.0, 1.0738275349797082, 1.0, 1.0738275349797082, 1.0, 1.0, 1.0, 1.0738275349797082, 1.0738275349797082, 1.1514332849868898, 1.0738275349797082, 1.0738275349797082, 1.0738275349797082, 1.1514332849868898, 1.0738275349797082, 1.0738275349797082, 1.0738275349797082, 1.0, 1.0738275349797082, 1.0738275349797082, 1.0, 1.1514332849868898, 1.0738275349797082, 1.0738275349797082, 1.0, 1.0738275349797082, 1.0738275349797082, 1.0, 1.0738275349797082, 1.0738275349797082, 1.0738275349797082, 1.0738275349797082, 1.0738275349797082, 1.0, 1.0, 1.0738275349797082, 1.0738275349797082, 1.0, 1.0738275349797082, 1.0, 1.0738275349797082, 1.0, 1.1514332849868898, 1.0738275349797082, 1.0, 1.0, 1.0, 1.0, 1.0738275349797082, 1.0, 1.0738275349797082, 1.0, 1.0738275349797082, 1.0738275349797082, 1.0738275349797082, 1.0, 1.0738275349797082, 1.0, 1.0738275349797082, 1.0, 1.0, 1.0738275349797082, 1.0738275349797082, 1.0, 1.0, 1.0, 1.0738275349797082, 1.0, 1.0, 1.1514332849868898, 1.0738275349797082, 1.0, 1.0738275349797082, 1.1514332849868898, 1.0738275349797082, 1.0, 1.0, 1.0, 1.0738275349797082, 1.0, 1.0738275349797082, 1.0738275349797082, 1.0738275349797082, 1.0, 1.0, 1.0738275349797082, 1.0738275349797082, 1.0, 1.0, 1.0, 1.0738275349797082, 1.0738275349797082, 1.0, 1.0, 1.0, 1.0738275349797082, 1.0, 1.0738275349797082, 1.0738275349797082, 1.0738275349797082, 1.0, 1.0, 1.0738275349797082, 1.0738275349797082, 1.0738275349797082, 1.0738275349797082, 1.0738275349797082, 1.0738275349797082, 1.0, 1.0, 1.1514332849868898, 1.0, 1.1514332849868898, 1.0, 1.1514332849868898, 1.0, 1.0738275349797082, 1.0, 1.0, 1.1514332849868898, 1.1514332849868898, 1.0738275349797082, 1.0738275349797082, 1.0, 1.1514332849868898, 1.0, 1.1514332849868898, 1.1514332849868898, 1.0, 1.0738275349797082, 1.0738275349797082, 1.1514332849868898, 1.0, 1.1514332849868898, 1.0738275349797082, 1.0, 1.0738275349797082, 1.0, 1.0738275349797082, 1.0, 1.0738275349797082, 1.0738275349797082, 1.0738275349797082, 1.0, 1.0738275349797082, 1.0738275349797082, 1.0738275349797082, 1.0, 1.0, 1.0, 1.0738275349797082, 1.0738275349797082, 1.0738275349797082, 1.0738275349797082, 1.0, 1.0738275349797082, 1.0738275349797082, 1.0738275349797082, 1.0, 1.0, 1.0, 1.0738275349797082, 1.0, 1.0, 1.0, 1.0738275349797082, 1.0738275349797082, 1.0738275349797082, 1.0, 1.0738275349797082, 1.0, 1.0738275349797082, 1.0, 1.0, 1.0, 1.0, 1.0738275349797082, 1.0738275349797082, 1.0, 1.0738275349797082, 1.0738275349797082, 1.1514332849868898, 1.0, 1.0738275349797082, 1.0738275349797082, 1.0738275349797082, 1.0, 1.0738275349797082, 1.0738275349797082, 1.0, 1.0, 1.0738275349797082, 1.0, 1.0, 1.0738275349797082, 1.0738275349797082, 1.0738275349797082, 1.0, 1.0738275349797082, 1.0, 1.0738275349797082, 1.0, 1.0, 1.0738275349797082, 1.0, 1.0738275349797082, 1.1514332849868898, 1.0, 1.0, 1.0738275349797082, 1.0, 1.0, 1.0, 1.0738275349797082, 1.0, 1.0738275349797082, 1.0, 1.0738275349797082, 1.0738275349797082, 1.0738275349797082, 1.0, 1.0738275349797082, 1.0738275349797082, 1.0, 1.0, 1.0738275349797082, 1.0738275349797082, 1.0738275349797082, 1.0738275349797082, 1.1514332849868898, 1.0738275349797082, 1.0, 1.0, 1.0738275349797082, 1.0, 1.0, 1.0, 1.0738275349797082, 1.0738275349797082, 1.0, 1.0738275349797082, 1.0, 1.0, 1.0, 1.0738275349797082, 1.0, 1.0, 1.0, 1.0, 1.0738275349797082, 1.0738275349797082, 1.0738275349797082, 1.0738275349797082, 1.0, 1.0, 1.0, 1.0738275349797082, 1.0, 1.0738275349797082, 1.0, 1.0738275349797082, 1.0, 1.0738275349797082, 1.0738275349797082, 1.0738275349797082, 1.0738275349797082, 1.0738275349797082, 1.0738275349797082, 1.0738275349797082, 1.0738275349797082, 1.0738275349797082, 1.0738275349797082, 1.0738275349797082, 1.0738275349797082, 1.0738275349797082, 1.0738275349797082, 1.0, 1.0738275349797082, 1.0738275349797082, 1.0738275349797082, 1.0738275349797082, 1.0, 1.0, 1.0738275349797082, 1.0738275349797082, 1.0738275349797082, 1.0738275349797082, 1.1514332849868898, 1.0, 1.0, 1.0738275349797082, 1.0, 1.0738275349797082, 1.0, 1.0738275349797082, 1.0, 1.0738275349797082, 1.0, 1.0, 1.0, 1.0, 1.0, 1.0, 1.0, 1.0, 1.0, 1.0, 1.0, 1.0738275349797082, 1.0, 1.0, 1.0, 1.0, 1.0, 1.0738275349797082, 1.0738275349797082, 1.0, 1.0, 1.0738275349797082, 1.1514332849868898, 1.0, 1.0, 1.0, 1.0738275349797082, 1.0, 1.0, 1.0, 1.0, 1.0, 1.0, 1.0, 1.0738275349797082, 1.0, 1.0738275349797082, 1.0, 1.0, 1.0, 1.0, 1.0, 1.0, 1.0, 1.0, 1.0738275349797082, 1.0, 1.0738275349797082, 1.0, 1.0738275349797082, 1.0, 1.0, 1.0, 1.0738275349797082, 1.0, 1.0, 1.0738275349797082, 1.0, 1.0738275349797082, 1.0738275349797082, 1.0738275349797082, 1.0, 1.0738275349797082, 1.0, 1.0, 1.0738275349797082, 1.0738275349797082, 1.0, 1.0, 1.0738275349797082, 1.0738275349797082, 1.0738275349797082, 1.0, 1.0, 1.0738275349797082, 1.0738275349797082, 1.0738275349797082, 1.0738275349797082, 1.0, 1.0738275349797082, 1.0, 1.0, 1.0738275349797082, 1.0738275349797082, 1.0, 1.0, 1.0, 1.0, 1.0, 1.0, 1.0, 1.0, 1.0, 1.0, 1.0738275349797082, 1.0738275349797082, 1.0738275349797082, 1.0738275349797082, 1.0738275349797082, 1.0738275349797082, 1.0738275349797082, 1.0738275349797082, 1.0738275349797082, 1.0738275349797082, 1.0738275349797082, 1.0738275349797082, 1.0738275349797082, 1.0738275349797082, 1.0738275349797082, 1.0, 1.0738275349797082, 1.0738275349797082, 1.0738275349797082, 1.0738275349797082, 1.0738275349797082, 1.0738275349797082, 1.0738275349797082, 1.0738275349797082, 1.0738275349797082, 1.0, 1.0738275349797082, 1.0738275349797082, 1.1514332849868898, 1.0738275349797082, 1.0738275349797082, 1.1514332849868898, 1.0738275349797082, 1.0738275349797082, 1.0, 1.0738275349797082, 1.0738275349797082, 1.0738275349797082, 1.0738275349797082, 1.0738275349797082, 1.0738275349797082, 1.0738275349797082, 1.0, 1.0738275349797082, 1.0738275349797082, 1.0738275349797082, 1.0738275349797082, 1.0738275349797082, 1.0738275349797082, 1.0738275349797082, 1.0, 1.0738275349797082, 1.0, 1.0738275349797082, 1.0738275349797082, 1.0738275349797082, 1.0738275349797082, 1.0738275349797082, 1.0738275349797082, 1.0738275349797082, 1.0738275349797082, 1.0738275349797082, 1.0738275349797082, 1.0738275349797082, 1.0738275349797082, 1.0738275349797082, 1.0738275349797082, 1.0738275349797082, 1.0738275349797082, 1.0738275349797082, 1.0738275349797082, 1.0738275349797082, 1.0738275349797082, 1.0738275349797082, 1.0738275349797082, 1.0738275349797082, 1.0738275349797082, 1.0738275349797082, 1.0738275349797082, 1.0738275349797082, 1.0738275349797082, 1.0738275349797082, 1.0738275349797082, 1.0738275349797082, 1.0738275349797082, 1.0738275349797082, 1.0738275349797082, 1.0738275349797082, 1.0738275349797082, 1.0738275349797082, 1.0738275349797082, 1.0738275349797082, 1.0738275349797082, 1.0738275349797082, 1.0, 1.0738275349797082, 1.0, 1.0, 1.0, 1.0738275349797082, 1.0738275349797082, 1.0, 1.0738275349797082, 1.0738275349797082, 1.0738275349797082, 1.0738275349797082, 1.0738275349797082, 1.0738275349797082, 1.0738275349797082, 1.0, 1.0738275349797082, 1.0, 1.0738275349797082, 1.0738275349797082, 1.0738275349797082, 1.0, 1.0738275349797082, 1.0738275349797082, 1.0738275349797082, 1.0738275349797082, 1.0738275349797082, 1.0738275349797082, 1.0738275349797082, 1.0738275349797082, 1.0738275349797082, 1.0738275349797082, 1.0738275349797082, 1.0738275349797082, 1.0, 1.0738275349797082, 1.0738275349797082, 1.0, 1.0, 1.0738275349797082, 1.0738275349797082, 1.0, 1.0, 1.0738275349797082, 1.0738275349797082, 1.0738275349797082, 1.0738275349797082, 1.0738275349797082, 1.0738275349797082, 1.0, 1.1514332849868898, 1.0738275349797082, 1.0, 1.1514332849868898, 1.0, 1.0738275349797082, 1.0738275349797082, 1.0738275349797082, 1.0738275349797082, 1.0, 1.0, 1.0, 1.0738275349797082, 1.1514332849868898, 1.0, 1.0, 1.0, 1.0, 1.0, 1.0, 1.0, 1.0, 1.0, 1.0, 1.0, 1.0, 1.0738275349797082, 1.0, 1.0, 1.0, 1.0, 1.0, 1.0, 1.0, 1.0738275349797082, 1.0, 1.0, 1.0738275349797082, 1.0738275349797082, 1.0, 1.0, 1.0738275349797082, 1.0, 1.0, 1.0, 1.0738275349797082, 1.0, 1.0, 1.0, 1.0738275349797082, 1.0738275349797082, 1.0738275349797082, 1.0, 1.0738275349797082, 1.0738275349797082, 1.0738275349797082, 1.0, 1.0738275349797082, 1.0738275349797082, 1.0738275349797082, 1.0, 1.0738275349797082, 1.0, 1.0738275349797082, 1.0, 1.0738275349797082, 1.0738275349797082, 1.0, 1.0, 1.0, 1.0738275349797082, 1.0, 1.0, 1.0738275349797082, 1.0, 1.0738275349797082, 1.0738275349797082, 1.0738275349797082, 1.0, 1.0738275349797082, 1.0, 1.1514332849868898, 1.0738275349797082, 1.0738275349797082, 1.0738275349797082, 1.0, 1.1514332849868898, 1.0, 1.0738275349797082, 1.0, 1.0738275349797082, 1.0738275349797082, 1.0, 1.0738275349797082, 1.0738275349797082, 1.0738275349797082, 1.0738275349797082, 1.0738275349797082, 1.0, 1.0738275349797082, 1.0738275349797082, 1.0, 1.0, 1.0738275349797082, 1.0, 1.0738275349797082, 1.0, 1.0738275349797082, 1.0, 1.0738275349797082, 1.0, 1.1514332849868898, 1.0, 1.0, 1.0738275349797082, 1.0738275349797082, 1.0, 1.0, 1.0738275349797082, 1.1514332849868898, 1.0, 1.0738275349797082, 1.0738275349797082, 1.1514332849868898, 1.0738275349797082, 1.0738275349797082, 1.0738275349797082, 1.0738275349797082, 1.0, 1.0738275349797082, 1.0, 1.0, 1.0738275349797082, 1.0738275349797082, 1.0738275349797082, 1.0738275349797082, 1.0, 1.0738275349797082, 1.0738275349797082, 1.0, 1.0, 1.0738275349797082, 1.0738275349797082, 1.0738275349797082, 1.0738275349797082, 1.0, 1.0, 1.0738275349797082, 1.0, 1.0, 1.0738275349797082, 1.0, 1.0, 1.0, 1.0738275349797082, 1.0, 1.0, 1.0, 1.0, 1.0, 1.0, 1.0, 1.0738275349797082, 1.0738275349797082, 1.0, 1.0, 1.0, 1.0738275349797082, 1.0, 1.0, 1.0738275349797082, 1.0738275349797082, 1.0, 1.0738275349797082, 1.0, 1.0, 1.0, 1.0, 1.0738275349797082, 1.0738275349797082, 1.0, 1.0, 1.0738275349797082, 1.0738275349797082, 1.0, 1.0, 1.0738275349797082, 1.0, 1.0, 1.0, 1.0, 1.0, 1.0738275349797082, 1.0738275349797082, 1.0, 1.0738275349797082, 1.0, 1.0738275349797082, 1.0738275349797082, 1.1514332849868898, 1.0, 1.0, 1.0, 1.0, 1.0738275349797082, 1.0738275349797082, 1.0738275349797082, 1.1514332849868898, 1.0, 1.0, 1.0738275349797082, 1.0, 1.0738275349797082, 1.0738275349797082, 1.0, 1.0, 1.0738275349797082, 1.0, 1.0, 1.0738275349797082, 1.1514332849868898, 1.0, 1.0, 1.0738275349797082, 1.0, 1.0738275349797082, 1.0738275349797082, 1.0738275349797082, 1.0738275349797082, 1.0738275349797082, 1.0738275349797082, 1.0738275349797082, 1.0, 1.0, 1.0738275349797082, 1.0738275349797082, 1.0, 1.0, 1.0738275349797082, 1.0738275349797082, 1.0, 1.0, 1.0738275349797082, 1.0738275349797082, 1.0738275349797082, 1.0, 1.0738275349797082, 1.0, 1.0738275349797082, 1.0, 1.0738275349797082, 1.1514332849868898, 1.0738275349797082, 1.0, 1.0738275349797082, 1.0738275349797082, 1.0738275349797082, 1.0, 1.0738275349797082, 1.0738275349797082, 1.0738275349797082, 1.0, 1.0738275349797082, 1.0738275349797082, 1.0738275349797082, 1.0738275349797082, 1.0738275349797082, 1.0738275349797082, 1.0, 1.0738275349797082, 1.0738275349797082, 1.0738275349797082, 1.0738275349797082, 1.0738275349797082, 1.0, 1.0738275349797082, 1.0, 1.0738275349797082, 1.0738275349797082, 1.0, 1.0738275349797082, 1.0, 1.0, 1.0738275349797082, 1.0, 1.0738275349797082, 1.0, 1.0738275349797082, 1.0738275349797082, 1.0, 1.0, 1.0738275349797082, 1.0, 1.0, 1.0, 1.0, 1.0738275349797082, 1.0, 1.0738275349797082, 1.0738275349797082, 1.0, 1.0, 1.0, 1.0, 1.0, 1.0738275349797082, 1.0738275349797082, 1.1514332849868898, 1.0, 1.0738275349797082, 1.0738275349797082, 1.0738275349797082, 1.0738275349797082, 1.0738275349797082, 1.0738275349797082, 1.0738275349797082, 1.0, 1.0738275349797082, 1.0738275349797082, 1.1514332849868898, 1.0, 1.0738275349797082, 1.0738275349797082, 1.0738275349797082, 1.0, 1.0738275349797082, 1.0738275349797082, 1.0738275349797082, 1.0738275349797082, 1.0738275349797082, 1.0, 1.0738275349797082, 1.1514332849868898, 1.0, 1.1514332849868898, 1.0738275349797082, 1.0, 1.0738275349797082, 1.0738275349797082, 1.0738275349797082, 1.0738275349797082, 1.0738275349797082, 1.0738275349797082, 1.0738275349797082, 1.0, 1.0, 1.0, 1.0738275349797082, 1.0, 1.0, 1.0, 1.0738275349797082, 1.0, 1.0, 1.0, 1.0738275349797082, 1.0, 1.1514332849868898, 1.0, 1.0, 1.0, 1.0, 1.0, 1.0, 1.0, 1.0, 1.0738275349797082, 1.0, 1.0738275349797082, 1.0, 1.0, 1.0738275349797082, 1.0, 1.0, 1.0738275349797082, 1.0, 1.0, 1.0, 1.0, 1.0738275349797082, 1.0738275349797082, 1.0738275349797082, 1.1514332849868898, 1.0738275349797082, 1.0738275349797082, 1.0, 1.0, 1.0738275349797082, 1.0738275349797082, 1.0738275349797082, 1.0, 1.0738275349797082, 1.1514332849868898, 1.0, 1.0738275349797082, 1.0738275349797082, 1.0738275349797082, 1.1514332849868898, 1.0738275349797082, 1.0738275349797082, 1.0738275349797082, 1.0738275349797082, 1.0738275349797082, 1.0738275349797082, 1.0738275349797082, 1.0738275349797082, 1.0738275349797082, 1.0738275349797082, 1.0, 1.0738275349797082, 1.0, 1.0738275349797082, 1.0, 1.0738275349797082, 1.0738275349797082, 1.0738275349797082, 1.0738275349797082, 1.0738275349797082, 1.0738275349797082, 1.0738275349797082, 1.0738275349797082, 1.0738275349797082, 1.0738275349797082, 1.0738275349797082, 1.0738275349797082, 1.0, 1.0738275349797082, 1.0738275349797082, 1.0738275349797082, 1.0, 1.1514332849868898, 1.0738275349797082, 1.0738275349797082, 1.0738275349797082, 1.0738275349797082, 1.0738275349797082, 1.0738275349797082, 1.0738275349797082, 1.0738275349797082, 1.0738275349797082, 1.0, 1.0, 1.0738275349797082, 1.0, 1.0, 1.0738275349797082, 1.0738275349797082, 1.0738275349797082, 1.0738275349797082, 1.0738275349797082, 1.0738275349797082, 1.0738275349797082, 1.0738275349797082, 1.0738275349797082, 1.0738275349797082, 1.0738275349797082, 1.0, 1.0, 1.0738275349797082, 1.0738275349797082, 1.0, 1.0, 1.0, 1.0738275349797082, 1.0738275349797082, 1.0738275349797082, 1.0738275349797082, 1.0738275349797082, 1.0, 1.1514332849868898, 1.0, 1.0738275349797082, 1.0, 1.0738275349797082, 1.0, 1.0738275349797082, 1.0738275349797082, 1.0738275349797082, 1.0, 1.1514332849868898, 1.0, 1.0, 1.0, 1.0738275349797082, 1.0, 1.1514332849868898, 1.1514332849868898, 1.1514332849868898, 1.0, 1.0, 1.0738275349797082, 1.0738275349797082, 1.0738275349797082, 1.0, 1.0738275349797082, 1.0738275349797082, 1.0738275349797082, 1.0738275349797082, 1.1514332849868898, 1.0738275349797082, 1.0, 1.0738275349797082, 1.0, 1.0, 1.0738275349797082, 1.0738275349797082, 1.0, 1.0, 1.1514332849868898, 1.0738275349797082, 1.0738275349797082, 1.0, 1.1514332849868898, 1.0738275349797082, 1.0738275349797082, 1.0738275349797082, 1.0738275349797082, 1.0, 1.0, 1.0, 1.1514332849868898, 1.0, 1.0, 1.0738275349797082, 1.0738275349797082, 1.0738275349797082, 1.0, 1.0738275349797082, 1.0738275349797082, 1.0, 1.0, 1.0, 1.0, 1.0, 1.0738275349797082, 1.1514332849868898, 1.0738275349797082, 1.0738275349797082, 1.0, 1.0, 1.0, 1.0738275349797082, 1.0, 1.0, 1.0, 1.0738275349797082, 1.0, 1.0738275349797082, 1.0, 1.1514332849868898, 1.0, 1.0738275349797082, 1.0, 1.1514332849868898, 1.0, 1.0738275349797082, 1.0738275349797082, 1.0738275349797082, 1.0738275349797082, 1.0738275349797082, 1.0, 1.0738275349797082, 1.0, 1.0, 1.0738275349797082, 1.0738275349797082, 1.0738275349797082, 1.0, 1.0738275349797082, 1.1514332849868898, 1.0, 1.0, 1.0738275349797082, 1.0738275349797082, 1.0, 1.0, 1.0, 1.0, 1.0738275349797082, 1.0, 1.0, 1.0, 1.0738275349797082, 1.0, 1.0738275349797082, 1.1514332849868898, 1.0, 1.0, 1.0738275349797082, 1.0, 1.0, 1.0738275349797082, 1.0, 1.1514332849868898, 1.0738275349797082, 1.0, 1.0738275349797082, 1.0738275349797082, 1.1514332849868898, 1.0738275349797082, 1.1514332849868898, 1.0738275349797082, 1.0738275349797082, 1.0738275349797082, 1.0738275349797082, 1.0, 1.0, 1.0738275349797082, 1.1514332849868898, 1.0, 1.0738275349797082, 1.0, 1.0738275349797082, 1.0738275349797082, 1.0, 1.0738275349797082, 1.0738275349797082, 1.0, 1.0738275349797082, 1.0, 1.0, 1.0738275349797082, 1.0, 1.0, 1.0738275349797082, 1.0738275349797082, 1.0738275349797082, 1.0738275349797082, 1.0738275349797082, 1.0738275349797082, 1.0738275349797082, 1.0738275349797082, 1.0738275349797082, 1.0738275349797082, 1.0738275349797082, 1.0, 1.0738275349797082, 1.0, 1.1514332849868898, 1.0738275349797082, 1.0738275349797082, 1.0, 1.0, 1.0, 1.0738275349797082, 1.0738275349797082, 1.0738275349797082, 1.0738275349797082, 1.0, 1.0, 1.0, 1.0, 1.1514332849868898, 1.0, 1.0738275349797082, 1.0738275349797082, 1.0738275349797082, 1.0738275349797082, 1.0738275349797082, 1.0, 1.0738275349797082, 1.0738275349797082, 1.0, 1.0738275349797082, 1.0738275349797082, 1.0738275349797082, 1.0738275349797082, 1.0, 1.0, 1.0, 1.0738275349797082, 1.0, 1.0738275349797082, 1.0738275349797082, 1.0738275349797082, 1.0738275349797082, 1.0738275349797082, 1.0, 1.1514332849868898, 1.0738275349797082, 1.0738275349797082, 1.0, 1.1514332849868898, 1.0738275349797082, 1.0738275349797082, 1.0738275349797082, 1.0, 1.0, 1.0738275349797082, 1.0738275349797082, 1.1514332849868898, 1.0, 1.0, 1.0, 1.0738275349797082, 1.0738275349797082, 1.0738275349797082, 1.0738275349797082, 1.0, 1.0738275349797082, 1.0738275349797082, 1.0, 1.0738275349797082, 1.0, 1.0, 1.0738275349797082, 1.0738275349797082, 1.0, 1.0, 1.0, 1.0738275349797082, 1.1514332849868898, 1.0738275349797082, 1.0738275349797082, 1.0738275349797082, 1.0738275349797082, 1.0738275349797082, 1.0738275349797082, 1.0738275349797082, 1.0738275349797082, 1.0, 1.0, 1.1514332849868898, 1.0, 1.0738275349797082, 1.0738275349797082, 1.1514332849868898, 1.0738275349797082, 1.0, 1.0, 1.0738275349797082, 1.0, 1.0738275349797082, 1.0, 1.0, 1.0, 1.0738275349797082, 1.1514332849868898, 1.0738275349797082, 1.0, 1.0738275349797082, 1.0738275349797082, 1.0738275349797082, 1.0738275349797082, 1.0738275349797082, 1.0738275349797082, 1.0, 1.0, 1.0738275349797082, 1.0738275349797082, 1.1514332849868898, 1.0, 1.0738275349797082, 1.0738275349797082, 1.0, 1.0738275349797082, 1.0738275349797082, 1.0, 1.0738275349797082, 1.0738275349797082, 1.0738275349797082, 1.0, 1.0738275349797082, 1.0, 1.0, 1.0738275349797082, 1.0738275349797082, 1.0738275349797082, 1.0738275349797082, 1.0738275349797082, 1.0738275349797082, 1.0, 1.0738275349797082, 1.0738275349797082, 1.0738275349797082, 1.0738275349797082, 1.1514332849868898, 1.0738275349797082, 1.0738275349797082, 1.0738275349797082, 1.1514332849868898, 1.0, 1.0738275349797082, 1.0738275349797082, 1.1514332849868898, 1.0, 1.0738275349797082, 1.0, 1.1514332849868898, 1.0738275349797082, 1.0738275349797082, 1.0738275349797082, 1.0, 1.0738275349797082, 1.0738275349797082, 1.0, 1.0738275349797082, 1.0738275349797082, 1.0, 1.0738275349797082, 1.0, 1.0738275349797082, 1.0, 1.0, 1.1514332849868898, 1.0738275349797082, 1.0, 1.0738275349797082, 1.0738275349797082, 1.0, 1.0738275349797082, 1.0738275349797082, 1.0738275349797082, 1.0738275349797082, 1.0738275349797082, 1.0738275349797082, 1.0738275349797082, 1.0738275349797082, 1.0738275349797082, 1.0738275349797082, 1.0738275349797082, 1.0738275349797082, 1.0738275349797082, 1.0738275349797082, 1.0, 1.0, 1.0738275349797082, 1.0, 1.0738275349797082, 1.0738275349797082, 1.0738275349797082, 1.0738275349797082, 1.0738275349797082, 1.0738275349797082, 1.0738275349797082, 1.0738275349797082, 1.0, 1.0738275349797082, 1.0738275349797082, 1.0738275349797082, 1.0738275349797082, 1.0738275349797082, 1.0738275349797082, 1.0, 1.0738275349797082, 1.0, 1.0738275349797082, 1.0738275349797082, 1.0, 1.0738275349797082, 1.0738275349797082, 1.0738275349797082, 1.0, 1.0738275349797082, 1.0738275349797082, 1.0738275349797082, 1.0, 1.0738275349797082, 1.0738275349797082, 1.0738275349797082, 1.0738275349797082, 1.1514332849868898, 1.0, 1.0, 1.0, 1.0738275349797082, 1.0738275349797082, 1.0738275349797082, 1.0, 1.0738275349797082, 1.0738275349797082, 1.0738275349797082, 1.0, 1.0738275349797082, 1.0738275349797082, 1.0738275349797082, 1.0, 1.0, 1.0738275349797082, 1.0738275349797082, 1.1514332849868898, 1.0738275349797082, 1.0738275349797082, 1.0738275349797082, 1.0738275349797082, 1.1514332849868898, 1.0738275349797082, 1.0, 1.0738275349797082, 1.0738275349797082, 1.0738275349797082, 1.0738275349797082, 1.0, 1.0738275349797082, 1.0738275349797082, 1.0738275349797082, 1.0, 1.0738275349797082, 1.0, 1.0738275349797082, 1.0, 1.0738275349797082, 1.0, 1.1514332849868898, 1.0, 1.0738275349797082, 1.0, 1.0738275349797082, 1.0738275349797082, 1.0738275349797082, 1.0738275349797082, 1.0, 1.0, 1.0738275349797082, 1.0, 1.0738275349797082, 1.0738275349797082, 1.0738275349797082, 1.0, 1.0738275349797082, 1.0738275349797082, 1.0738275349797082, 1.0, 1.0738275349797082, 1.1514332849868898, 1.0, 1.0738275349797082, 1.0738275349797082, 1.0738275349797082, 1.0, 1.0738275349797082, 1.0738275349797082, 1.0738275349797082, 1.0738275349797082, 1.0738275349797082, 1.0738275349797082, 1.0738275349797082, 1.0738275349797082, 1.0738275349797082, 1.0738275349797082, 1.0738275349797082, 1.1514332849868898, 1.0738275349797082, 1.0738275349797082, 1.0738275349797082, 1.0738275349797082, 1.0738275349797082, 1.0738275349797082, 1.0738275349797082, 1.0, 1.0, 1.0738275349797082, 1.0, 1.0, 1.0, 1.0738275349797082, 1.0738275349797082, 1.0, 1.0, 1.0738275349797082, 1.0738275349797082, 1.0738275349797082, 1.0, 1.0738275349797082, 1.0738275349797082, 1.0738275349797082, 1.0738275349797082, 1.0738275349797082, 1.0738275349797082, 1.0, 1.0738275349797082, 1.0738275349797082, 1.0738275349797082, 1.0, 1.0, 1.0738275349797082, 1.1514332849868898, 1.0738275349797082, 1.0, 1.0738275349797082, 1.0738275349797082, 1.0738275349797082, 1.0738275349797082, 1.0738275349797082, 1.0738275349797082, 1.0738275349797082, 1.0, 1.0738275349797082, 1.0738275349797082, 1.0738275349797082, 1.0, 1.0738275349797082, 1.0738275349797082, 1.1514332849868898, 1.0738275349797082, 1.0, 1.0738275349797082, 1.0738275349797082, 1.0738275349797082, 1.0738275349797082, 1.0738275349797082, 1.1514332849868898, 1.0738275349797082, 1.0738275349797082, 1.0, 1.0, 1.0738275349797082, 1.0, 1.0, 1.0738275349797082, 1.0738275349797082, 1.0738275349797082, 1.0738275349797082, 1.0738275349797082, 1.0, 1.1514332849868898, 1.0738275349797082, 1.0738275349797082, 1.0, 1.1514332849868898, 1.0738275349797082, 1.0738275349797082, 1.0738275349797082, 1.0, 1.0738275349797082, 1.1514332849868898, 1.0738275349797082, 1.0738275349797082, 1.0738275349797082, 1.0, 1.0, 1.0, 1.0738275349797082, 1.0, 1.0, 1.0, 1.0738275349797082, 1.0738275349797082, 1.0, 1.0738275349797082, 1.0738275349797082, 1.0738275349797082, 1.0738275349797082, 1.0, 1.0, 1.0738275349797082, 1.0738275349797082, 1.0738275349797082, 1.0738275349797082, 1.0738275349797082, 1.0, 1.1514332849868898, 1.0738275349797082, 1.0738275349797082, 1.0738275349797082, 1.0, 1.0, 1.0738275349797082, 1.0, 1.0, 1.0738275349797082, 1.0738275349797082, 1.0, 1.0, 1.0738275349797082, 1.0, 1.0, 1.0738275349797082, 1.0738275349797082, 1.0738275349797082, 1.0, 1.0738275349797082, 1.0, 1.0738275349797082, 1.0, 1.1514332849868898, 1.0, 1.0738275349797082, 1.0738275349797082, 1.0738275349797082, 1.0738275349797082, 1.0738275349797082, 1.0, 1.0, 1.0738275349797082, 1.0738275349797082, 1.0, 1.1514332849868898, 1.0738275349797082, 1.0738275349797082, 1.0, 1.0738275349797082, 1.0738275349797082, 1.0738275349797082, 1.1514332849868898, 1.0738275349797082, 1.0738275349797082, 1.0738275349797082, 1.0, 1.0, 1.0, 1.0738275349797082, 1.0, 1.0, 1.0738275349797082, 1.1514332849868898, 1.0738275349797082, 1.0, 1.0738275349797082, 1.0738275349797082, 1.0, 1.0738275349797082, 1.0738275349797082, 1.0, 1.0, 1.0738275349797082, 1.0738275349797082, 1.0738275349797082, 1.0, 1.0738275349797082, 1.0738275349797082, 1.0, 1.0, 1.1514332849868898, 1.0738275349797082, 1.0, 1.0, 1.0738275349797082, 1.0738275349797082, 1.0, 1.0, 1.1514332849868898, 1.0, 1.0, 1.0, 1.0738275349797082, 1.0, 1.0738275349797082, 1.0, 1.0, 1.0, 1.0738275349797082, 1.0738275349797082, 1.0, 1.0, 1.0738275349797082, 1.0738275349797082, 1.0, 1.0, 1.0738275349797082, 1.0738275349797082, 1.0, 1.1514332849868898, 1.0, 1.0, 1.1514332849868898, 1.0738275349797082, 1.0738275349797082, 1.0, 1.0, 1.0, 1.0, 1.1514332849868898, 1.0, 1.0, 1.0738275349797082, 1.0738275349797082, 1.0, 1.0738275349797082, 1.0, 1.0, 1.0, 1.0, 1.0, 1.0, 1.0, 1.0, 1.1514332849868898, 1.0738275349797082, 1.1514332849868898, 1.0738275349797082, 1.1514332849868898, 1.0738275349797082, 1.0738275349797082, 1.0738275349797082, 1.0738275349797082, 1.0738275349797082, 1.0738275349797082, 1.0738275349797082, 1.0738275349797082, 1.0738275349797082, 1.0738275349797082, 1.0738275349797082, 1.0738275349797082, 1.0, 1.0738275349797082, 1.0, 1.0, 1.0, 1.0738275349797082, 1.0, 1.1514332849868898, 1.0, 1.0, 1.0738275349797082, 1.0, 1.0738275349797082, 1.0, 1.0, 1.0738275349797082, 1.0, 1.0738275349797082, 1.0, 1.1514332849868898, 1.0738275349797082, 1.0738275349797082, 1.0738275349797082, 1.0738275349797082, 1.0738275349797082, 1.1514332849868898, 1.0738275349797082, 1.0738275349797082, 1.0738275349797082, 1.0, 1.0, 1.0738275349797082, 1.1514332849868898, 1.0738275349797082, 1.1514332849868898, 1.0738275349797082, 1.1514332849868898, 1.0738275349797082, 1.0738275349797082, 1.0738275349797082, 1.0738275349797082, 1.0, 1.0, 1.0738275349797082, 1.0738275349797082, 1.0, 1.0, 1.0738275349797082, 1.0738275349797082, 1.1514332849868898, 1.1514332849868898, 1.0738275349797082, 1.0738275349797082, 1.0738275349797082, 1.0, 1.0738275349797082, 1.0738275349797082, 1.0, 1.0738275349797082, 1.0738275349797082, 1.0, 1.0738275349797082, 1.0, 1.0738275349797082, 1.0, 1.0, 1.0, 1.0738275349797082, 1.0738275349797082, 1.1514332849868898, 1.0, 1.0738275349797082, 1.0, 1.0, 1.0, 1.0738275349797082, 1.0, 1.0, 1.0738275349797082, 1.0738275349797082, 1.0, 1.0738275349797082, 1.0, 1.0738275349797082, 1.0, 1.0738275349797082, 1.0738275349797082, 1.0, 1.0, 1.0738275349797082, 1.0738275349797082, 1.0738275349797082, 1.0, 1.0738275349797082, 1.0, 1.0738275349797082, 1.0, 1.0, 1.0738275349797082, 1.0738275349797082, 1.1514332849868898, 1.0738275349797082, 1.0, 1.0738275349797082, 1.0, 1.0, 1.0, 1.0738275349797082, 1.0, 1.0, 1.0, 1.0, 1.0738275349797082, 1.0, 1.0, 1.1514332849868898, 1.0, 1.0, 1.0, 1.0738275349797082, 1.0738275349797082, 1.0, 1.0, 1.0738275349797082, 1.0, 1.0, 1.0, 1.0738275349797082, 1.0, 1.0, 1.0738275349797082, 1.1514332849868898, 1.0738275349797082, 1.0, 1.0738275349797082, 1.0, 1.0738275349797082, 1.0, 1.0738275349797082, 1.0738275349797082, 1.0738275349797082, 1.0, 1.0738275349797082, 1.0738275349797082, 1.0, 1.0738275349797082, 1.0, 1.0738275349797082, 1.0, 1.0, 1.0, 1.0738275349797082, 1.0738275349797082, 1.0, 1.0, 1.0738275349797082, 1.0738275349797082, 1.0, 1.0, 1.0738275349797082, 1.0, 1.0, 1.0738275349797082, 1.0738275349797082, 1.0, 1.0738275349797082, 1.0, 1.0738275349797082, 1.0738275349797082, 1.0, 1.0738275349797082, 1.0738275349797082, 1.0, 1.0, 1.0, 1.0, 1.0, 1.0, 1.0738275349797082, 1.0, 1.0738275349797082, 1.0, 1.0, 1.0738275349797082, 1.0, 1.0, 1.0, 1.0, 1.0738275349797082, 1.0, 1.0738275349797082, 1.0738275349797082, 1.0, 1.1514332849868898, 1.0738275349797082, 1.0738275349797082, 1.0, 1.1514332849868898, 1.0, 1.0738275349797082, 1.0738275349797082, 1.0738275349797082, 1.0738275349797082, 1.0738275349797082, 1.0738275349797082, 1.0738275349797082, 1.0738275349797082, 1.0738275349797082, 1.0738275349797082, 1.0738275349797082, 1.0738275349797082, 1.1514332849868898, 1.0738275349797082, 1.0738275349797082, 1.0738275349797082, 1.0738275349797082, 1.0738275349797082, 1.0738275349797082, 1.0738275349797082, 1.0738275349797082, 1.0738275349797082, 1.0738275349797082, 1.0738275349797082, 1.0738275349797082, 1.0738275349797082, 1.0738275349797082, 1.0738275349797082, 1.0738275349797082, 1.0738275349797082, 1.0738275349797082, 1.0738275349797082, 1.0738275349797082, 1.0738275349797082, 1.0738275349797082, 1.0738275349797082, 1.0738275349797082, 1.0, 1.0738275349797082, 1.0738275349797082, 1.0738275349797082, 1.0, 1.0738275349797082, 1.0, 1.0738275349797082, 1.1514332849868898, 1.0738275349797082, 1.0738275349797082, 1.0738275349797082, 1.0738275349797082, 1.0738275349797082, 1.0738275349797082, 1.0738275349797082, 1.0738275349797082, 1.0738275349797082, 1.0738275349797082, 1.0738275349797082, 1.0, 1.0738275349797082, 1.0738275349797082, 1.0, 1.0738275349797082, 1.0738275349797082, 1.0738275349797082, 1.0, 1.0738275349797082, 1.0738275349797082, 1.0738275349797082, 1.0738275349797082, 1.0738275349797082, 1.0738275349797082, 1.0738275349797082, 1.0738275349797082, 1.0738275349797082, 1.0738275349797082, 1.0, 1.0738275349797082, 1.0738275349797082, 1.0738275349797082, 1.0738275349797082, 1.0738275349797082, 1.0738275349797082, 1.0738275349797082, 1.0738275349797082, 1.0, 1.0, 1.0, 1.0738275349797082, 1.0738275349797082, 1.0738275349797082, 1.0, 1.0738275349797082, 1.0738275349797082, 1.0738275349797082, 1.0, 1.0738275349797082, 1.0738275349797082, 1.0738275349797082, 1.0, 1.0738275349797082, 1.0738275349797082, 1.0738275349797082, 1.0738275349797082, 1.0738275349797082, 1.0738275349797082, 1.0738275349797082, 1.0738275349797082, 1.0738275349797082, 1.0738275349797082, 1.0738275349797082, 1.0738275349797082, 1.0, 1.0738275349797082, 1.0738275349797082, 1.0738275349797082, 1.0738275349797082, 1.0738275349797082, 1.0738275349797082, 1.0738275349797082, 1.0, 1.0, 1.0, 1.0738275349797082, 1.0738275349797082, 1.0, 1.0, 1.0738275349797082, 1.0, 1.0, 1.0, 1.0738275349797082, 1.0738275349797082, 1.0, 1.0, 1.0738275349797082, 1.0, 1.0, 1.0, 1.1514332849868898, 1.0738275349797082, 1.0, 1.0, 1.0738275349797082, 1.0738275349797082, 1.0738275349797082, 1.1514332849868898, 1.0738275349797082, 1.0, 1.0, 1.0, 1.0738275349797082, 1.0, 1.1514332849868898, 1.0, 1.0738275349797082, 1.0738275349797082, 1.0738275349797082, 1.1514332849868898, 1.0738275349797082, 1.0, 1.0, 1.0, 1.0738275349797082, 1.0, 1.0, 1.0, 1.0738275349797082, 1.0, 1.0, 1.0, 1.1514332849868898, 1.0738275349797082, 1.0, 1.0, 1.0, 1.0, 1.0, 1.0, 1.0, 1.0738275349797082, 1.0, 1.0, 1.0, 1.0738275349797082, 1.0, 1.0738275349797082, 1.0, 1.0, 1.0, 1.0, 1.0738275349797082, 1.0, 1.0, 1.0, 1.0738275349797082, 1.0738275349797082, 1.0, 1.0, 1.0738275349797082, 1.0738275349797082, 1.0, 1.0, 1.0738275349797082, 1.0738275349797082, 1.0, 1.0, 1.0, 1.0738275349797082, 1.0738275349797082, 1.0738275349797082, 1.0738275349797082, 1.0738275349797082, 1.1514332849868898, 1.0, 1.0738275349797082, 1.0738275349797082, 1.0, 1.0, 1.0738275349797082, 1.0738275349797082, 1.0, 1.0, 1.0738275349797082, 1.0738275349797082, 1.0738275349797082, 1.0, 1.0738275349797082, 1.0738275349797082, 1.0738275349797082, 1.0, 1.0, 1.0738275349797082, 1.0738275349797082, 1.0, 1.0, 1.0738275349797082, 1.0738275349797082, 1.0738275349797082, 1.0738275349797082, 1.0738275349797082, 1.0738275349797082, 1.0738275349797082, 1.0738275349797082, 1.0738275349797082, 1.0738275349797082, 1.1514332849868898, 1.0738275349797082, 1.1514332849868898, 1.0738275349797082, 1.0738275349797082, 1.0738275349797082, 1.1514332849868898, 1.0738275349797082, 1.0738275349797082, 1.0738275349797082, 1.0738275349797082, 1.0738275349797082, 1.0738275349797082, 1.0738275349797082, 1.0, 1.0, 1.0738275349797082, 1.0738275349797082, 1.0738275349797082, 1.0738275349797082, 1.0738275349797082, 1.0738275349797082, 1.0, 1.0, 1.0738275349797082, 1.0738275349797082, 1.0738275349797082, 1.0738275349797082, 1.0738275349797082, 1.0738275349797082, 1.0738275349797082, 1.0738275349797082, 1.0738275349797082, 1.1514332849868898, 1.0, 1.0738275349797082, 1.0738275349797082, 1.0738275349797082, 1.0738275349797082, 1.0738275349797082, 1.1514332849868898, 1.0738275349797082, 1.0, 1.0738275349797082, 1.0738275349797082, 1.0738275349797082, 1.0, 1.0738275349797082, 1.0, 1.0738275349797082, 1.0, 1.0, 1.0738275349797082, 1.0738275349797082, 1.0738275349797082, 1.0738275349797082, 1.0738275349797082, 1.0, 1.0738275349797082, 1.0, 1.0738275349797082, 1.0738275349797082, 1.0738275349797082, 1.0, 1.0738275349797082, 1.0, 1.0738275349797082, 1.0738275349797082, 1.1514332849868898, 1.0738275349797082, 1.0, 1.0, 1.0, 1.0738275349797082, 1.0, 1.0738275349797082, 1.0738275349797082, 1.0738275349797082, 1.0738275349797082, 1.0738275349797082, 1.0, 1.0738275349797082, 1.0738275349797082, 1.0, 1.0, 1.0738275349797082, 1.0738275349797082, 1.0738275349797082, 1.0738275349797082, 1.0738275349797082, 1.0738275349797082, 1.0738275349797082, 1.0, 1.0738275349797082, 1.0, 1.0738275349797082, 1.0738275349797082, 1.0738275349797082, 1.0738275349797082, 1.0, 1.0738275349797082, 1.0738275349797082, 1.0738275349797082, 1.1514332849868898, 1.0, 1.0738275349797082, 1.0, 1.0738275349797082, 1.0738275349797082, 1.0738275349797082, 1.0738275349797082, 1.0738275349797082, 1.0738275349797082, 1.0738275349797082, 1.0, 1.0738275349797082, 1.0, 1.0738275349797082, 1.0, 1.1514332849868898, 1.0738275349797082, 1.0738275349797082, 1.0738275349797082, 1.0738275349797082, 1.0738275349797082, 1.0, 1.0738275349797082, 1.0738275349797082, 1.0738275349797082, 1.0, 1.0738275349797082, 1.0738275349797082, 1.0738275349797082, 1.0738275349797082, 1.0, 1.0738275349797082, 1.0, 1.0738275349797082, 1.1514332849868898, 1.0, 1.0738275349797082, 1.0738275349797082, 1.0, 1.0, 1.1514332849868898, 1.0, 1.0738275349797082, 1.0, 1.0, 1.0738275349797082, 1.0738275349797082, 1.0738275349797082, 1.1514332849868898, 1.0738275349797082, 1.0, 1.1514332849868898, 1.0738275349797082, 1.0, 1.0, 1.0, 1.0738275349797082, 1.1514332849868898, 1.0738275349797082, 1.0738275349797082, 1.0738275349797082, 1.0738275349797082, 1.0738275349797082, 1.0738275349797082, 1.0, 1.0738275349797082, 1.0, 1.0738275349797082, 1.0738275349797082, 1.0738275349797082, 1.0, 1.0, 1.0, 1.0738275349797082, 1.0, 1.0, 1.0, 1.0, 1.0738275349797082, 1.0, 1.0, 1.0738275349797082, 1.0738275349797082, 1.0, 1.0, 1.0738275349797082, 1.0738275349797082, 1.0, 1.0, 1.0738275349797082, 1.0738275349797082, 1.0, 1.0, 1.0738275349797082, 1.0, 1.0, 1.0, 1.0738275349797082, 1.0738275349797082, 1.0, 1.0, 1.0738275349797082, 1.0, 1.0, 1.0, 1.0738275349797082, 1.0738275349797082, 1.0, 1.0, 1.0, 1.0, 1.0, 1.0, 1.0, 1.0738275349797082, 1.0, 1.0, 1.0738275349797082, 1.0738275349797082, 1.0738275349797082, 1.0738275349797082, 1.0738275349797082, 1.0738275349797082, 1.0, 1.0, 1.0, 1.0738275349797082, 1.0738275349797082, 1.0738275349797082, 1.1514332849868898, 1.0738275349797082, 1.0, 1.0738275349797082, 1.0738275349797082, 1.0738275349797082, 1.0738275349797082, 1.0738275349797082, 1.0738275349797082, 1.0738275349797082, 1.0, 1.0738275349797082, 1.0738275349797082, 1.0738275349797082, 1.0738275349797082, 1.0738275349797082, 1.0, 1.0, 1.0, 1.0738275349797082, 1.0738275349797082, 1.1514332849868898, 1.0, 1.0738275349797082, 1.0738275349797082, 1.0738275349797082, 1.0, 1.0, 1.0738275349797082, 1.0738275349797082, 1.0, 1.0, 1.1514332849868898, 1.0738275349797082, 1.0, 1.0738275349797082, 1.0738275349797082, 1.0, 1.0738275349797082, 1.0, 1.1514332849868898, 1.0, 1.0738275349797082, 1.0, 1.0, 1.0, 1.0738275349797082, 1.0738275349797082, 1.0738275349797082, 1.0738275349797082, 1.1514332849868898, 1.0738275349797082, 1.0, 1.0738275349797082, 1.0738275349797082, 1.0, 1.0738275349797082, 1.0, 1.0738275349797082, 1.0738275349797082, 1.0738275349797082, 1.0, 1.0738275349797082, 1.0738275349797082, 1.0738275349797082, 1.0, 1.0738275349797082, 1.0738275349797082, 1.0, 1.0, 1.0, 1.0738275349797082, 1.0738275349797082, 1.0, 1.0, 1.0, 1.0, 1.0, 1.0, 1.0, 1.0, 1.0, 1.0, 1.0738275349797082, 1.0738275349797082, 1.0, 1.0, 1.1514332849868898, 1.0, 1.0, 1.0, 1.1514332849868898, 1.0, 1.0, 1.0738275349797082, 1.0738275349797082, 1.0, 1.0738275349797082, 1.0, 1.0738275349797082, 1.0738275349797082, 1.0, 1.0738275349797082, 1.0738275349797082, 1.0, 1.0, 1.0738275349797082, 1.0, 1.0, 1.0, 1.0, 1.0, 1.0, 1.0738275349797082, 1.0, 1.0738275349797082, 1.0738275349797082, 1.0, 1.0, 1.0738275349797082, 1.0738275349797082, 1.0, 1.0738275349797082, 1.0, 1.0, 1.0, 1.0738275349797082, 1.0, 1.0, 1.0, 1.0738275349797082, 1.0, 1.0738275349797082, 1.0, 1.0738275349797082, 1.0738275349797082, 1.0, 1.0, 1.0738275349797082, 1.1514332849868898, 1.0, 1.0, 1.0738275349797082, 1.0, 1.0, 1.0738275349797082, 1.0738275349797082, 1.0738275349797082, 1.1514332849868898, 1.0, 1.0738275349797082, 1.1514332849868898, 1.0738275349797082, 1.1514332849868898, 1.0738275349797082, 1.1514332849868898, 1.1514332849868898, 1.0, 1.0738275349797082, 1.1514332849868898, 1.1514332849868898, 1.0, 1.0738275349797082, 1.0738275349797082, 1.0, 1.0, 1.0, 1.0, 1.0, 1.0, 1.0, 1.0, 1.0, 1.0, 1.0738275349797082, 1.0738275349797082, 1.0738275349797082, 1.0, 1.0738275349797082, 1.0738275349797082, 1.0, 1.0, 1.0738275349797082, 1.0, 1.0, 1.0, 1.0, 1.0, 1.0, 1.0738275349797082, 1.0, 1.0738275349797082, 1.0738275349797082, 1.0, 1.0, 1.0, 1.0738275349797082, 1.1514332849868898, 1.0, 1.0, 1.0738275349797082, 1.0738275349797082, 1.0, 1.0, 1.0738275349797082, 1.0738275349797082, 1.1514332849868898, 1.0738275349797082, 1.0738275349797082, 1.0738275349797082, 1.0, 1.0738275349797082, 1.0, 1.0738275349797082, 1.0, 1.0738275349797082, 1.0, 1.0, 1.0, 1.0738275349797082, 1.0, 1.0, 1.0, 1.0, 1.0, 1.0, 1.0, 1.1514332849868898, 1.0, 1.0, 1.0, 1.0738275349797082, 1.0, 1.0, 1.0, 1.0, 1.0, 1.0, 1.0, 1.0, 1.0, 1.0, 1.0, 1.0738275349797082, 1.0, 1.0738275349797082, 1.0, 1.0, 1.0, 1.0, 1.0, 1.0, 1.0, 1.0738275349797082, 1.0738275349797082, 1.0738275349797082, 1.0, 1.0, 1.0738275349797082, 1.0, 1.0738275349797082, 1.0, 1.0, 1.0, 1.0, 1.0, 1.1514332849868898, 1.0, 1.0, 1.0, 1.0738275349797082, 1.0, 1.0738275349797082, 1.0, 1.0, 1.0, 1.0, 1.0738275349797082, 1.1514332849868898, 1.0, 1.0, 1.0, 1.0, 1.0, 1.0, 1.0, 1.0, 1.0, 1.0, 1.0738275349797082, 1.0, 1.0, 1.0738275349797082, 1.1514332849868898, 1.0738275349797082, 1.0738275349797082, 1.0738275349797082, 1.0, 1.0738275349797082, 1.0738275349797082, 1.0738275349797082, 1.0738275349797082, 1.0738275349797082, 1.0738275349797082, 1.0738275349797082, 1.0, 1.1514332849868898, 1.0738275349797082, 1.1514332849868898, 1.0738275349797082, 1.0, 1.0, 1.0738275349797082, 1.0738275349797082, 1.0738275349797082, 1.0738275349797082, 1.0738275349797082, 1.0738275349797082, 1.0738275349797082, 1.0738275349797082, 1.0738275349797082, 1.0738275349797082, 1.0, 1.0738275349797082, 1.0738275349797082, 1.0738275349797082, 1.0738275349797082, 1.0, 1.0738275349797082, 1.0738275349797082, 1.0, 1.0, 1.0738275349797082, 1.0738275349797082, 1.0, 1.0, 1.0738275349797082, 1.0, 1.0, 1.0, 1.0, 1.0, 1.0738275349797082, 1.0, 1.0738275349797082, 1.0738275349797082, 1.0738275349797082, 1.0738275349797082, 1.0738275349797082, 1.0, 1.0, 1.0, 1.0, 1.1514332849868898, 1.0, 1.0, 1.0738275349797082, 1.0738275349797082, 1.0738275349797082, 1.0, 1.0, 1.0, 1.0, 1.0, 1.0738275349797082, 1.0, 1.0, 1.0, 1.1514332849868898, 1.0738275349797082, 1.0, 1.0, 1.0738275349797082, 1.0, 1.0, 1.0, 1.0738275349797082, 1.0, 1.0, 1.0738275349797082, 1.0738275349797082, 1.0738275349797082, 1.0, 1.0738275349797082, 1.0, 1.0, 1.0, 1.0, 1.0738275349797082, 1.0, 1.0738275349797082, 1.0, 1.0738275349797082, 1.0, 1.0738275349797082, 1.1514332849868898, 1.0738275349797082, 1.0738275349797082, 1.0738275349797082, 1.0738275349797082, 1.1514332849868898, 1.0738275349797082, 1.0738275349797082, 1.0738275349797082, 1.0738275349797082, 1.0, 1.0738275349797082, 1.0738275349797082, 1.0738275349797082, 1.0738275349797082, 1.0738275349797082, 1.0738275349797082, 1.0738275349797082, 1.1514332849868898, 1.0, 1.0738275349797082, 1.0738275349797082, 1.0738275349797082, 1.0, 1.0, 1.0, 1.0738275349797082, 1.0, 1.0, 1.0, 1.0738275349797082, 1.0, 1.0738275349797082, 1.0, 1.0738275349797082, 1.0738275349797082, 1.0, 1.0738275349797082, 1.0738275349797082, 1.0738275349797082, 1.0738275349797082, 1.0738275349797082, 1.0, 1.0, 1.0, 1.0, 1.0738275349797082, 1.0738275349797082, 1.0738275349797082, 1.0738275349797082, 1.0738275349797082, 1.0738275349797082, 1.0738275349797082, 1.0738275349797082, 1.0738275349797082, 1.0738275349797082, 1.0738275349797082, 1.0, 1.0738275349797082, 1.0, 1.0, 1.0, 1.0738275349797082, 1.0, 1.0, 1.0, 1.0738275349797082, 1.0738275349797082, 1.0738275349797082, 1.0738275349797082, 1.0738275349797082, 1.0, 1.0, 1.0, 1.0738275349797082, 1.0, 1.0738275349797082, 1.0, 1.0, 1.0, 1.0738275349797082, 1.0, 1.0, 1.0, 1.0, 1.0, 1.0738275349797082, 1.0, 1.0, 1.0, 1.0738275349797082, 1.0, 1.0, 1.0, 1.0738275349797082, 1.0, 1.0, 1.0, 1.0738275349797082, 1.0, 1.0, 1.0, 1.0738275349797082, 1.0, 1.0, 1.0, 1.0738275349797082, 1.0, 1.0738275349797082, 1.0, 1.0738275349797082, 1.0, 1.0, 1.0, 1.1514332849868898, 1.0, 1.0738275349797082, 1.0, 1.0738275349797082, 1.0, 1.0738275349797082, 1.0738275349797082, 1.0738275349797082, 1.0738275349797082, 1.0, 1.0738275349797082, 1.0, 1.0738275349797082, 1.0, 1.1514332849868898, 1.0738275349797082, 1.0738275349797082, 1.0, 1.0, 1.0738275349797082, 1.0, 1.0738275349797082, 1.0, 1.0738275349797082, 1.0, 1.0738275349797082, 1.0, 1.0, 1.0, 1.0738275349797082, 1.0, 1.0738275349797082, 1.0, 1.0738275349797082, 1.0, 1.0738275349797082, 1.0738275349797082, 1.0, 1.0738275349797082, 1.0738275349797082, 1.0738275349797082, 1.0738275349797082, 1.0738275349797082, 1.0738275349797082, 1.0738275349797082, 1.0738275349797082, 1.0738275349797082, 1.0738275349797082, 1.0738275349797082, 1.0738275349797082, 1.0, 1.0738275349797082, 1.1514332849868898, 1.0, 1.0, 1.1514332849868898, 1.0, 1.0738275349797082, 1.1514332849868898, 1.0738275349797082, 1.0, 1.0738275349797082, 1.0738275349797082, 1.0738275349797082, 1.0738275349797082, 1.0738275349797082, 1.0738275349797082, 1.0738275349797082, 1.0738275349797082, 1.0738275349797082, 1.0738275349797082, 1.0738275349797082, 1.0, 1.0738275349797082, 1.0, 1.0, 1.0738275349797082, 1.0, 1.0, 1.0738275349797082, 1.0738275349797082, 1.0, 1.0738275349797082, 1.0, 1.0738275349797082, 1.0, 1.0738275349797082, 1.0, 1.0738275349797082, 1.0738275349797082, 1.0738275349797082, 1.0738275349797082, 1.0, 1.0738275349797082, 1.0738275349797082, 1.0, 1.0738275349797082, 1.0, 1.0738275349797082, 1.0738275349797082, 1.0, 1.0738275349797082, 1.0738275349797082, 1.0, 1.1514332849868898, 1.0, 1.0738275349797082, 1.0738275349797082, 1.1514332849868898, 1.0738275349797082, 1.0738275349797082, 1.0738275349797082, 1.0738275349797082, 1.0738275349797082, 1.0738275349797082, 1.0, 1.0738275349797082, 1.0738275349797082, 1.0738275349797082, 1.0, 1.0738275349797082, 1.0, 1.1514332849868898, 1.0738275349797082, 1.0, 1.0738275349797082, 1.0738275349797082, 1.0738275349797082, 1.0, 1.0738275349797082, 1.0738275349797082, 1.0738275349797082, 1.0, 1.0738275349797082, 1.0738275349797082, 1.0, 1.0738275349797082, 1.0738275349797082, 1.0738275349797082, 1.0738275349797082, 1.0, 1.0738275349797082, 1.1514332849868898, 1.0, 1.0, 1.0, 1.1514332849868898, 1.0738275349797082, 1.0, 1.0738275349797082, 1.0738275349797082, 1.0738275349797082, 1.0, 1.0738275349797082, 1.0, 1.0738275349797082, 1.0, 1.0738275349797082, 1.0, 1.0738275349797082, 1.0, 1.0738275349797082, 1.0738275349797082, 1.0, 1.0738275349797082, 1.0738275349797082, 1.0, 1.0738275349797082, 1.1514332849868898, 1.0738275349797082, 1.0, 1.0738275349797082, 1.0738275349797082, 1.0738275349797082, 1.0, 1.0738275349797082, 1.0738275349797082, 1.0738275349797082, 1.0738275349797082, 1.0, 1.0738275349797082, 1.0738275349797082, 1.0738275349797082, 1.0, 1.0738275349797082, 1.0738275349797082, 1.0738275349797082, 1.0, 1.0, 1.0738275349797082, 1.0, 1.0738275349797082, 1.0, 1.0738275349797082, 1.0738275349797082, 1.0, 1.0, 1.0, 1.0, 1.0738275349797082, 1.0, 1.0738275349797082, 1.0, 1.0, 1.0, 1.0, 1.0, 1.0738275349797082, 1.0, 1.0738275349797082, 1.0, 1.0738275349797082, 1.0738275349797082, 1.0738275349797082, 1.0738275349797082, 1.0738275349797082, 1.0, 1.0738275349797082, 1.0738275349797082, 1.0738275349797082, 1.0738275349797082, 1.0738275349797082, 1.0, 1.0738275349797082, 1.0, 1.0, 1.0, 1.0, 1.0738275349797082, 1.0, 1.0, 1.0738275349797082, 1.0, 1.0738275349797082, 1.0, 1.0738275349797082, 1.0738275349797082, 1.0738275349797082, 1.0, 1.0738275349797082, 1.0738275349797082, 1.0, 1.0738275349797082, 1.0, 1.0, 1.0, 1.0738275349797082, 1.0738275349797082, 1.0, 1.0738275349797082, 1.0738275349797082, 1.0738275349797082, 1.0, 1.0738275349797082, 1.0738275349797082, 1.0738275349797082, 1.0738275349797082, 1.0, 1.1514332849868898, 1.0738275349797082, 1.0, 1.0, 1.0, 1.0, 1.0, 1.1514332849868898, 1.0738275349797082, 1.0738275349797082, 1.0, 1.0738275349797082, 1.0738275349797082, 1.0738275349797082, 1.0738275349797082, 1.0, 1.0, 1.0, 1.0, 1.0, 1.1514332849868898, 1.0, 1.0, 1.0, 1.0, 1.0, 1.0, 1.1514332849868898, 1.0, 1.0738275349797082, 1.0738275349797082, 1.1514332849868898, 1.0, 1.0738275349797082, 1.0738275349797082, 1.1514332849868898, 1.0738275349797082, 1.0738275349797082, 1.0738275349797082, 1.0, 1.0, 1.0738275349797082, 1.0738275349797082, 1.0, 1.0738275349797082, 1.0738275349797082, 1.1514332849868898, 1.0738275349797082, 1.0, 1.0738275349797082, 1.0738275349797082, 1.0738275349797082, 1.0738275349797082, 1.0738275349797082, 1.0738275349797082, 1.0, 1.0738275349797082, 1.0738275349797082, 1.0738275349797082, 1.0738275349797082, 1.0738275349797082, 1.1514332849868898, 1.0738275349797082, 1.0738275349797082, 1.0, 1.0738275349797082, 1.0738275349797082, 1.0738275349797082, 1.0, 1.0, 1.0, 1.0738275349797082, 1.0, 1.0, 1.0, 1.0738275349797082, 1.0, 1.0, 1.0738275349797082, 1.0738275349797082, 1.0, 1.0, 1.0738275349797082, 1.0, 1.0, 1.0, 1.0738275349797082, 1.0738275349797082, 1.0, 1.0, 1.0, 1.0, 1.0738275349797082, 1.1514332849868898, 1.1514332849868898, 1.0, 1.0, 1.0, 1.0, 1.0738275349797082, 1.0738275349797082, 1.0738275349797082, 1.0, 1.0738275349797082, 1.0, 1.0738275349797082, 1.0, 1.0, 1.0738275349797082, 1.0, 1.0, 1.0738275349797082, 1.0738275349797082, 1.0, 1.0, 1.0738275349797082, 1.0738275349797082, 1.0, 1.0, 1.0738275349797082, 1.0, 1.0738275349797082, 1.0, 1.0, 1.0738275349797082, 1.0, 1.0738275349797082, 1.0738275349797082, 1.0738275349797082, 1.0, 1.0738275349797082, 1.0738275349797082, 1.0738275349797082, 1.0738275349797082, 1.0738275349797082, 1.0738275349797082, 1.0, 1.0738275349797082, 1.0738275349797082, 1.0, 1.0, 1.0, 1.0738275349797082, 1.0, 1.0738275349797082, 1.0738275349797082, 1.0738275349797082, 1.0, 1.0738275349797082, 1.1514332849868898, 1.0738275349797082, 1.0, 1.0, 1.1514332849868898, 1.0, 1.0, 1.0738275349797082, 1.1514332849868898, 1.0, 1.0, 1.0, 1.0738275349797082, 1.0, 1.0738275349797082, 1.0, 1.0, 1.0738275349797082, 1.0738275349797082, 1.0, 1.1514332849868898, 1.0, 1.0738275349797082, 1.0, 1.0738275349797082, 1.0738275349797082, 1.0, 1.0738275349797082, 1.0, 1.0738275349797082, 1.0738275349797082, 1.0738275349797082, 1.1514332849868898, 1.0738275349797082, 1.0738275349797082, 1.0, 1.0738275349797082, 1.0, 1.0, 1.0, 1.0, 1.0738275349797082, 1.0738275349797082, 1.0, 1.0738275349797082, 1.0, 1.0, 1.0, 1.0738275349797082, 1.1514332849868898, 1.0738275349797082, 1.0738275349797082, 1.0, 1.0, 1.0738275349797082, 1.0, 1.0738275349797082, 1.0738275349797082, 1.0, 1.1514332849868898, 1.0, 1.0738275349797082, 1.0738275349797082, 1.0, 1.0, 1.1514332849868898, 1.0738275349797082, 1.0, 1.1514332849868898, 1.0738275349797082, 1.0, 1.0, 1.1514332849868898, 1.0738275349797082, 1.0738275349797082, 1.0, 1.0, 1.0738275349797082, 1.0738275349797082, 1.0, 1.0, 1.0, 1.0, 1.0, 1.0, 1.0738275349797082, 1.0, 1.0, 1.0, 1.0738275349797082, 1.0, 1.0, 1.0738275349797082, 1.0, 1.0, 1.0, 1.0738275349797082, 1.0738275349797082, 1.1514332849868898, 1.0, 1.0, 1.0738275349797082, 1.0, 1.0, 1.1514332849868898, 1.0, 1.1514332849868898, 1.1514332849868898, 1.0738275349797082, 1.0738275349797082, 1.0738275349797082, 1.1514332849868898, 1.0, 1.1514332849868898, 1.0738275349797082, 1.0738275349797082, 1.0738275349797082, 1.0, 1.0, 1.0, 1.0738275349797082, 1.0738275349797082, 1.0738275349797082, 1.0, 1.0, 1.1514332849868898, 1.0, 1.0, 1.0738275349797082, 1.0738275349797082, 1.0738275349797082, 1.0, 1.1514332849868898, 1.0, 1.0, 1.0, 1.0738275349797082, 1.0, 1.0, 1.0, 1.0738275349797082, 1.0738275349797082, 1.0738275349797082, 1.1514332849868898, 1.0738275349797082, 1.0, 1.1514332849868898, 1.1514332849868898, 1.1514332849868898, 1.0738275349797082, 1.1514332849868898, 1.0738275349797082, 1.0738275349797082, 1.0738275349797082, 1.0, 1.0738275349797082, 1.0, 1.0, 1.0738275349797082, 1.0738275349797082, 1.0738275349797082, 1.0738275349797082, 1.0738275349797082, 1.0, 1.1514332849868898, 1.0738275349797082, 1.0738275349797082, 1.0738275349797082, 1.0738275349797082, 1.1514332849868898, 1.0, 1.0738275349797082, 1.1514332849868898, 1.0, 1.0738275349797082, 1.0738275349797082, 1.0, 1.0738275349797082, 1.0738275349797082, 1.0738275349797082, 1.0738275349797082, 1.0, 1.1514332849868898, 1.0738275349797082, 1.0738275349797082, 1.0738275349797082, 1.1514332849868898, 1.0738275349797082, 1.0738275349797082, 1.0, 1.1514332849868898, 1.0, 1.0738275349797082, 1.0, 1.1514332849868898, 1.0738275349797082, 1.1514332849868898, 1.0738275349797082, 1.0738275349797082, 1.0, 1.0738275349797082, 1.0, 1.0738275349797082, 1.0, 1.0738275349797082, 1.0738275349797082, 1.0738275349797082, 1.0, 1.0738275349797082, 1.0738275349797082, 1.0738275349797082, 1.0, 1.0, 1.0738275349797082, 1.1514332849868898, 1.0738275349797082, 1.0738275349797082, 1.0, 1.0738275349797082, 1.0, 1.0738275349797082, 1.0, 1.0738275349797082, 1.0, 1.0, 1.0738275349797082, 1.0738275349797082, 1.1514332849868898, 1.1514332849868898, 1.0738275349797082, 1.0, 1.0738275349797082, 1.0, 1.0738275349797082, 1.0, 1.0738275349797082, 1.0, 1.0738275349797082, 1.0738275349797082, 1.0738275349797082, 1.0, 1.0738275349797082, 1.0738275349797082, 1.0738275349797082, 1.0738275349797082, 1.1514332849868898, 1.0738275349797082, 1.0738275349797082, 1.0738275349797082, 1.0738275349797082, 1.0738275349797082, 1.0738275349797082, 1.0738275349797082, 1.0, 1.1514332849868898, 1.0, 1.1514332849868898, 1.0, 1.0738275349797082, 1.1514332849868898, 1.1514332849868898, 1.0, 1.0738275349797082, 1.0, 1.1514332849868898, 1.0738275349797082, 1.0738275349797082, 1.0738275349797082, 1.0738275349797082, 1.0738275349797082, 1.0738275349797082, 1.0738275349797082, 1.0738275349797082, 1.1514332849868898, 1.0738275349797082, 1.0738275349797082, 1.0, 1.1514332849868898, 1.0738275349797082, 1.0, 1.1514332849868898, 1.1514332849868898, 1.0, 1.0738275349797082, 1.0738275349797082, 1.1514332849868898, 1.0738275349797082, 1.1514332849868898, 1.0, 1.0738275349797082, 1.0738275349797082, 1.0, 1.0738275349797082, 1.1514332849868898, 1.0, 1.0738275349797082, 1.0738275349797082, 1.0738275349797082, 1.0, 1.0738275349797082, 1.0, 1.0, 1.0, 1.0, 1.1514332849868898, 1.0, 1.1514332849868898, 1.0738275349797082, 1.1514332849868898, 1.0, 1.0738275349797082, 1.1514332849868898, 1.0, 1.0, 1.0738275349797082, 1.0, 1.0, 1.0, 1.0, 1.0738275349797082, 1.0738275349797082, 1.0, 1.0738275349797082, 1.0, 1.0738275349797082, 1.0738275349797082, 1.0738275349797082, 1.0, 1.0, 1.0, 1.0738275349797082, 1.0738275349797082, 1.0738275349797082, 1.0738275349797082, 1.0, 1.1514332849868898, 1.0738275349797082, 1.0, 1.0738275349797082, 1.0738275349797082, 1.0738275349797082, 1.0738275349797082, 1.0738275349797082, 1.0, 1.0738275349797082, 1.0738275349797082, 1.0738275349797082, 1.0738275349797082, 1.0738275349797082, 1.0, 1.0738275349797082, 1.0738275349797082, 1.0738275349797082, 1.0, 1.0, 1.0738275349797082, 1.0738275349797082, 1.0738275349797082, 1.0738275349797082, 1.0, 1.0738275349797082, 1.0738275349797082, 1.0738275349797082, 1.0738275349797082, 1.0738275349797082, 1.0, 1.0, 1.0738275349797082, 1.0738275349797082, 1.0, 1.0, 1.0, 1.0738275349797082, 1.0, 1.0, 1.0, 1.0, 1.0, 1.0, 1.0738275349797082, 1.1514332849868898, 1.0738275349797082, 1.0738275349797082, 1.0738275349797082, 1.0, 1.0, 1.0, 1.0738275349797082, 1.0, 1.0738275349797082, 1.0738275349797082, 1.0738275349797082, 1.1514332849868898, 1.0738275349797082, 1.0738275349797082, 1.0, 1.0, 1.0738275349797082, 1.0738275349797082, 1.0738275349797082, 1.0738275349797082, 1.0738275349797082, 1.1514332849868898, 1.0738275349797082, 1.1514332849868898, 1.0, 1.0738275349797082, 1.0738275349797082, 1.1514332849868898, 1.0, 1.0738275349797082, 1.1514332849868898, 1.1514332849868898, 1.1514332849868898, 1.0, 1.0738275349797082, 1.0, 1.0738275349797082, 1.0, 1.0, 1.1514332849868898, 1.0, 1.0738275349797082, 1.0738275349797082, 1.0738275349797082, 1.0738275349797082, 1.0, 1.0738275349797082, 1.0738275349797082, 1.1514332849868898, 1.0738275349797082, 1.0738275349797082, 1.0738275349797082, 1.0738275349797082, 1.0738275349797082, 1.0, 1.0738275349797082, 1.0, 1.0738275349797082, 1.1514332849868898, 1.0738275349797082, 1.1514332849868898, 1.0738275349797082, 1.0738275349797082, 1.0738275349797082, 1.0738275349797082, 1.0738275349797082, 1.0738275349797082, 1.0738275349797082, 1.0, 1.0738275349797082, 1.0738275349797082, 1.0738275349797082, 1.0, 1.0738275349797082, 1.0738275349797082, 1.0738275349797082, 1.0, 1.0, 1.0, 1.0738275349797082, 1.0, 1.0738275349797082, 1.0, 1.0738275349797082, 1.1514332849868898, 1.0738275349797082, 1.0738275349797082, 1.0, 1.0, 1.0738275349797082, 1.0, 1.0738275349797082, 1.0, 1.0738275349797082, 1.0738275349797082, 1.0738275349797082, 1.0738275349797082, 1.0738275349797082, 1.0738275349797082, 1.0738275349797082, 1.0738275349797082, 1.0738275349797082, 1.0738275349797082, 1.0, 1.0738275349797082, 1.0, 1.0, 1.0, 1.0738275349797082, 1.0738275349797082, 1.1514332849868898, 1.1514332849868898, 1.0, 1.0738275349797082, 1.0738275349797082, 1.0, 1.0, 1.0738275349797082, 1.0738275349797082, 1.0738275349797082, 1.0, 1.0, 1.0738275349797082, 1.0, 1.0, 1.0738275349797082, 1.0738275349797082, 1.1514332849868898, 1.0, 1.1514332849868898, 1.0738275349797082, 1.0, 1.0, 1.1514332849868898, 1.0738275349797082, 1.0, 1.0, 1.0, 1.1514332849868898, 1.0, 1.0, 1.0738275349797082, 1.0, 1.0, 1.0738275349797082, 1.0, 1.0738275349797082, 1.0738275349797082, 1.0738275349797082, 1.0, 1.0738275349797082, 1.0738275349797082, 1.0, 1.0, 1.0, 1.1514332849868898, 1.0, 1.1514332849868898, 1.1514332849868898, 1.0738275349797082, 1.0738275349797082, 1.0738275349797082, 1.1514332849868898, 1.1514332849868898, 1.0, 1.0738275349797082, 1.0, 1.1514332849868898, 1.0, 1.0738275349797082, 1.0738275349797082, 1.0738275349797082, 1.0, 1.0738275349797082, 1.0, 1.0738275349797082, 1.0, 1.0738275349797082, 1.0738275349797082, 1.0738275349797082, 1.0, 1.0738275349797082, 1.0738275349797082, 1.1514332849868898, 1.0, 1.0738275349797082, 1.0738275349797082, 1.0738275349797082, 1.0738275349797082, 1.0, 1.0738275349797082, 1.0738275349797082, 1.0738275349797082, 1.0, 1.0738275349797082, 1.0738275349797082, 1.1514332849868898, 1.0, 1.0, 1.0, 1.0738275349797082, 1.0, 1.0, 1.0, 1.0738275349797082, 1.0, 1.1514332849868898, 1.0738275349797082, 1.0738275349797082, 1.0738275349797082, 1.0738275349797082, 1.1514332849868898, 1.0, 1.0, 1.0738275349797082, 1.0738275349797082, 1.0, 1.0, 1.0, 1.0738275349797082, 1.0, 1.0738275349797082, 1.0738275349797082, 1.0738275349797082, 1.0, 1.0738275349797082, 1.0738275349797082, 1.0738275349797082, 1.0, 1.0738275349797082, 1.0738275349797082, 1.0738275349797082, 1.0738275349797082, 1.0738275349797082, 1.0738275349797082, 1.0738275349797082, 1.0, 1.0, 1.0, 1.0738275349797082, 1.0, 1.0738275349797082, 1.0738275349797082, 1.0738275349797082, 1.1514332849868898, 1.0738275349797082, 1.0738275349797082, 1.0738275349797082, 1.1514332849868898, 1.0738275349797082, 1.0738275349797082, 1.0738275349797082, 1.0738275349797082, 1.0738275349797082, 1.0738275349797082, 1.1514332849868898, 1.0, 1.0, 1.0738275349797082, 1.0738275349797082, 1.0738275349797082, 1.0738275349797082, 1.0738275349797082, 1.0738275349797082, 1.0, 1.0, 1.0738275349797082, 1.0, 1.0738275349797082, 1.0, 1.0, 1.0, 1.0, 1.0738275349797082, 1.0738275349797082, 1.0, 1.0, 1.0738275349797082, 1.0738275349797082, 1.0, 1.0, 1.0738275349797082, 1.1514332849868898, 1.0, 1.1514332849868898, 1.0, 1.0, 1.0, 1.0738275349797082, 1.0, 1.0, 1.0738275349797082, 1.0738275349797082, 1.0738275349797082, 1.0, 1.0, 1.0738275349797082, 1.0, 1.0, 1.0, 1.1514332849868898, 1.0, 1.0, 1.0, 1.0, 1.0, 1.0, 1.1514332849868898, 1.0, 1.0, 1.0, 1.0, 1.0, 1.1514332849868898, 1.0738275349797082, 1.0, 1.0, 1.0, 1.0738275349797082, 1.0, 1.0, 1.0, 1.0738275349797082, 1.0, 1.0, 1.0738275349797082, 1.0, 1.0, 1.0, 1.0, 1.0, 1.0, 1.0738275349797082, 1.0, 1.0738275349797082, 1.0, 1.0738275349797082, 1.0, 1.0738275349797082, 1.0, 1.1514332849868898, 1.0, 1.0, 1.0, 1.0738275349797082, 1.0, 1.0, 1.0738275349797082, 1.1514332849868898, 1.1514332849868898, 1.0738275349797082, 1.0738275349797082, 1.0, 1.0738275349797082, 1.0738275349797082, 1.0738275349797082, 1.0, 1.0, 1.0738275349797082, 1.0, 1.0, 1.0738275349797082, 1.0738275349797082, 1.0738275349797082, 1.0, 1.0, 1.0, 1.0738275349797082, 1.0, 1.0, 1.0738275349797082, 1.0, 1.0, 1.0, 1.0, 1.0, 1.0, 1.0, 1.0738275349797082, 1.0738275349797082, 1.0, 1.0, 1.0738275349797082, 1.0, 1.1514332849868898, 1.0, 1.0, 1.0, 1.0, 1.1514332849868898, 1.1514332849868898, 1.0, 1.0, 1.0, 1.0, 1.0, 1.0, 1.0, 1.0, 1.0738275349797082, 1.0, 1.0, 1.0738275349797082, 1.0738275349797082, 1.0738275349797082, 1.0, 1.0, 1.0, 1.0738275349797082, 1.0738275349797082, 1.0, 1.0738275349797082, 1.0, 1.0, 1.0, 1.0738275349797082, 1.0738275349797082, 1.0738275349797082, 1.0, 1.0738275349797082, 1.0738275349797082, 1.0738275349797082, 1.0, 1.0738275349797082, 1.0, 1.0738275349797082, 1.0738275349797082, 1.0738275349797082, 1.0738275349797082, 1.0738275349797082, 1.1514332849868898, 1.0738275349797082, 1.0738275349797082, 1.1514332849868898, 1.0738275349797082, 1.0738275349797082, 1.0738275349797082, 1.0738275349797082, 1.0, 1.0738275349797082, 1.0738275349797082, 1.0738275349797082, 1.0, 1.0738275349797082, 1.0738275349797082, 1.1514332849868898, 1.0738275349797082, 1.0738275349797082, 1.1514332849868898, 1.0738275349797082, 1.0, 1.0738275349797082, 1.0738275349797082, 1.0, 1.0, 1.0738275349797082, 1.0738275349797082, 1.0, 1.0, 1.0, 1.1514332849868898, 1.0738275349797082, 1.0738275349797082, 1.0738275349797082, 1.0738275349797082, 1.0738275349797082, 1.0, 1.0738275349797082, 1.0738275349797082, 1.0738275349797082, 1.0, 1.0738275349797082, 1.0, 1.1514332849868898, 1.0, 1.0738275349797082, 1.0, 1.0, 1.0, 1.0738275349797082, 1.0738275349797082, 1.0738275349797082, 1.0738275349797082, 1.0738275349797082, 1.0738275349797082, 1.0738275349797082, 1.0, 1.0738275349797082, 1.0, 1.0738275349797082, 1.0738275349797082, 1.0738275349797082, 1.0, 1.0738275349797082, 1.0738275349797082, 1.0, 1.0738275349797082, 1.1514332849868898, 1.0738275349797082, 1.0738275349797082, 1.0738275349797082, 1.0738275349797082, 1.0738275349797082, 1.0738275349797082, 1.0738275349797082, 1.0738275349797082, 1.0738275349797082, 1.0738275349797082, 1.0738275349797082, 1.0738275349797082, 1.0738275349797082, 1.0738275349797082, 1.0, 1.1514332849868898, 1.0, 1.0738275349797082, 1.1514332849868898, 1.0738275349797082, 1.0738275349797082, 1.0738275349797082, 1.0738275349797082, 1.0738275349797082, 1.0, 1.0738275349797082, 1.0738275349797082, 1.0738275349797082, 1.0, 1.0738275349797082, 1.0, 1.0, 1.0738275349797082, 1.1514332849868898, 1.0, 1.0, 1.0, 1.0738275349797082, 1.0, 1.0, 1.0, 1.0738275349797082, 1.0, 1.0, 1.1514332849868898, 1.0738275349797082, 1.0, 1.0738275349797082, 1.0, 1.0738275349797082, 1.0, 1.0738275349797082, 1.0, 1.0, 1.0, 1.0738275349797082, 1.0, 1.0, 1.0, 1.1514332849868898, 1.0738275349797082, 1.0, 1.0, 1.0, 1.0, 1.0, 1.0738275349797082, 1.0738275349797082, 1.1514332849868898, 1.0, 1.0, 1.0738275349797082, 1.0738275349797082, 1.0, 1.0, 1.0738275349797082, 1.0, 1.0, 1.0, 1.0, 1.0738275349797082, 1.0, 1.0, 1.0738275349797082, 1.0, 1.0738275349797082, 1.0, 1.0, 1.0, 1.0738275349797082, 1.0, 1.0, 1.0, 1.0, 1.0, 1.0, 1.0, 1.0738275349797082, 1.0, 1.0738275349797082, 1.0, 1.0738275349797082, 1.0, 1.0738275349797082, 1.0, 1.0, 1.0, 1.0738275349797082, 1.0, 1.0, 1.0, 1.0738275349797082, 1.0738275349797082, 1.0738275349797082, 1.0738275349797082, 1.0738275349797082, 1.0738275349797082, 1.0, 1.0, 1.0738275349797082, 1.0, 1.0738275349797082, 1.0738275349797082, 1.0738275349797082, 1.0738275349797082, 1.0738275349797082, 1.0, 1.0738275349797082, 1.0738275349797082, 1.0, 1.0, 1.0738275349797082, 1.0738275349797082, 1.0, 1.0, 1.0738275349797082, 1.0, 1.0, 1.0, 1.0738275349797082, 1.0, 1.0, 1.0, 1.0738275349797082, 1.0, 1.0, 1.0, 1.0738275349797082, 1.0, 1.0, 1.0, 1.0738275349797082, 1.0, 1.0, 1.0, 1.0738275349797082, 1.0, 1.0738275349797082, 1.0738275349797082, 1.0738275349797082, 1.1514332849868898, 1.0738275349797082, 1.0738275349797082, 1.0738275349797082, 1.0738275349797082, 1.0738275349797082, 1.0, 1.0, 1.0738275349797082, 1.1514332849868898, 1.0738275349797082, 1.1514332849868898, 1.0, 1.1514332849868898, 1.0738275349797082, 1.0738275349797082, 1.0738275349797082, 1.0738275349797082, 1.0, 1.0738275349797082, 1.0738275349797082, 1.0738275349797082, 1.0, 1.0, 1.0738275349797082, 1.0, 1.0738275349797082, 1.0738275349797082, 1.0, 1.0738275349797082, 1.0738275349797082, 1.0, 1.0, 1.0738275349797082, 1.1514332849868898, 1.0, 1.0738275349797082, 1.0, 1.0738275349797082, 1.0, 1.0738275349797082, 1.0, 1.0738275349797082, 1.0, 1.0, 1.0, 1.0738275349797082, 1.0738275349797082, 1.0738275349797082, 1.0, 1.0738275349797082, 1.0738275349797082, 1.0, 1.0, 1.0, 1.0738275349797082, 1.0738275349797082, 1.0, 1.0738275349797082, 1.0738275349797082, 1.0738275349797082, 1.0738275349797082, 1.0738275349797082, 1.0, 1.0, 1.0, 1.0738275349797082, 1.0738275349797082, 1.0, 1.0, 1.0, 1.0, 1.0738275349797082, 1.0738275349797082, 1.0738275349797082, 1.1514332849868898, 1.0738275349797082, 1.0, 1.0738275349797082, 1.0738275349797082, 1.0, 1.0, 1.0738275349797082, 1.0738275349797082, 1.0, 1.0, 1.0, 1.1514332849868898, 1.0738275349797082, 1.0738275349797082, 1.1514332849868898, 1.1514332849868898, 1.0738275349797082, 1.0, 1.0, 1.0, 1.0, 1.0738275349797082, 1.0738275349797082, 1.0, 1.0738275349797082, 1.0738275349797082, 1.0, 1.0738275349797082, 1.0738275349797082, 1.0, 1.0, 1.0738275349797082, 1.0738275349797082, 1.0738275349797082, 1.0, 1.0, 1.0738275349797082, 1.0738275349797082, 1.0, 1.0738275349797082, 1.0, 1.0738275349797082, 1.0, 1.0, 1.0738275349797082, 1.0738275349797082, 1.0, 1.0, 1.0738275349797082]\n"
          ]
        }
      ]
    },
    {
      "cell_type": "code",
      "source": [
        "type(pfd_features)"
      ],
      "metadata": {
        "colab": {
          "base_uri": "https://localhost:8080/"
        },
        "id": "A4LbkYbQ31GL",
        "outputId": "50048045-0579-4bb5-a07c-6080c64a3243"
      },
      "execution_count": null,
      "outputs": [
        {
          "output_type": "execute_result",
          "data": {
            "text/plain": [
              "list"
            ]
          },
          "metadata": {},
          "execution_count": 124
        }
      ]
    },
    {
      "cell_type": "code",
      "source": [
        "len(pfd_features)"
      ],
      "metadata": {
        "colab": {
          "base_uri": "https://localhost:8080/"
        },
        "id": "ZJRsmDVK3_J5",
        "outputId": "25b15892-0f0e-4d30-8543-d519e7d99ae2"
      },
      "execution_count": null,
      "outputs": [
        {
          "output_type": "execute_result",
          "data": {
            "text/plain": [
              "5120"
            ]
          },
          "metadata": {},
          "execution_count": 125
        }
      ]
    },
    {
      "cell_type": "code",
      "source": [
        "# # Method-2\n",
        "\n",
        "pfd_m2 = np.array(pfd_features)\n",
        "pfd_m2 = np.reshape(pfd_m2, (160, 32))\n",
        "print(pfd_m2.shape)\n",
        "valence_label2 = emotion_label(labels, \"valence\")\n",
        "x = pfd_m2\n",
        "y = []\n",
        "for i in range(len(valence_label2)):\n",
        "    for j in range(window):\n",
        "        y.append(valence_label2[i])\n",
        "y = np.array(y)\n",
        "valence_label2 = y\n"
      ],
      "metadata": {
        "colab": {
          "base_uri": "https://localhost:8080/"
        },
        "id": "Dm7Oc3qLjevl",
        "outputId": "1f61d2d4-68a3-4e5f-ac02-ce60141219cd"
      },
      "execution_count": null,
      "outputs": [
        {
          "output_type": "stream",
          "name": "stdout",
          "text": [
            "(160, 32)\n"
          ]
        }
      ]
    },
    {
      "cell_type": "code",
      "source": [
        "print(pfd_m2.shape)"
      ],
      "metadata": {
        "colab": {
          "base_uri": "https://localhost:8080/"
        },
        "id": "tzJIu9JPzhz_",
        "outputId": "213f18f9-1e6a-4602-b4d5-434ee3734778"
      },
      "execution_count": null,
      "outputs": [
        {
          "output_type": "stream",
          "name": "stdout",
          "text": [
            "(160, 32)\n"
          ]
        }
      ]
    },
    {
      "cell_type": "code",
      "source": [
        "columns_name2 = []\n",
        "for i in range(32):\n",
        "    columns_name2.append('ch' + str(i))\n",
        "\n",
        "\n",
        "df2 = pd.DataFrame(pfd_m2, columns = columns_name2)\n",
        "\n",
        "\n",
        "tot_features = len(df2.columns)-1\n",
        "total_features = tot_features\n",
        "x = df2\n",
        "x, y = shuffle(x, valence_label2 , random_state = 40)\n",
        "x_train, x_test, y_train, y_test = train_test_split(x, y, test_size = 0.2, stratify = y)\n"
      ],
      "metadata": {
        "id": "ZImD-W9UkEGD"
      },
      "execution_count": null,
      "outputs": []
    },
    {
      "cell_type": "code",
      "source": [
        "print(pfd_m2)"
      ],
      "metadata": {
        "colab": {
          "base_uri": "https://localhost:8080/"
        },
        "id": "IvAawImekLKY",
        "outputId": "3450580c-af08-4f79-cab0-c96d5d1da8e6"
      },
      "execution_count": null,
      "outputs": [
        {
          "output_type": "stream",
          "name": "stdout",
          "text": [
            "[[1.         1.         1.         ... 1.07382753 1.15143328 1.07382753]\n",
            " [1.         1.         1.         ... 1.07382753 1.07382753 1.07382753]\n",
            " [1.         1.         1.         ... 1.15143328 1.         1.        ]\n",
            " ...\n",
            " [1.07382753 1.07382753 1.         ... 1.07382753 1.07382753 1.07382753]\n",
            " [1.07382753 1.07382753 1.         ... 1.15143328 1.15143328 1.07382753]\n",
            " [1.         1.         1.         ... 1.         1.         1.07382753]]\n"
          ]
        }
      ]
    },
    {
      "cell_type": "code",
      "source": [
        "print(x)"
      ],
      "metadata": {
        "colab": {
          "base_uri": "https://localhost:8080/"
        },
        "id": "E4Z5U8aZxeEb",
        "outputId": "0a26dc68-b2aa-4658-b0e7-a6f6c0867b7b"
      },
      "execution_count": null,
      "outputs": [
        {
          "output_type": "stream",
          "name": "stdout",
          "text": [
            "          ch0       ch1       ch2       ch3       ch4       ch5       ch6  \\\n",
            "23   1.073828  1.073828  1.073828  1.073828  1.073828  1.000000  1.000000   \n",
            "18   1.073828  1.073828  1.073828  1.073828  1.000000  1.073828  1.073828   \n",
            "5    1.073828  1.151433  1.073828  1.073828  1.073828  1.073828  1.073828   \n",
            "103  1.000000  1.073828  1.000000  1.073828  1.000000  1.000000  1.000000   \n",
            "142  1.073828  1.073828  1.073828  1.073828  1.151433  1.000000  1.000000   \n",
            "..        ...       ...       ...       ...       ...       ...       ...   \n",
            "71   1.073828  1.151433  1.073828  1.000000  1.073828  1.073828  1.000000   \n",
            "12   1.073828  1.000000  1.000000  1.073828  1.073828  1.151433  1.073828   \n",
            "50   1.073828  1.073828  1.073828  1.073828  1.073828  1.073828  1.073828   \n",
            "7    1.073828  1.073828  1.000000  1.000000  1.151433  1.073828  1.073828   \n",
            "70   1.000000  1.073828  1.000000  1.151433  1.000000  1.073828  1.073828   \n",
            "\n",
            "          ch7       ch8       ch9  ...      ch22      ch23      ch24  \\\n",
            "23   1.151433  1.000000  1.151433  ...  1.000000  1.151433  1.151433   \n",
            "18   1.073828  1.073828  1.000000  ...  1.073828  1.073828  1.073828   \n",
            "5    1.000000  1.073828  1.073828  ...  1.000000  1.073828  1.073828   \n",
            "103  1.000000  1.000000  1.151433  ...  1.000000  1.000000  1.000000   \n",
            "142  1.073828  1.073828  1.000000  ...  1.073828  1.073828  1.073828   \n",
            "..        ...       ...       ...  ...       ...       ...       ...   \n",
            "71   1.073828  1.073828  1.000000  ...  1.000000  1.073828  1.073828   \n",
            "12   1.073828  1.073828  1.000000  ...  1.073828  1.073828  1.000000   \n",
            "50   1.073828  1.000000  1.000000  ...  1.073828  1.073828  1.000000   \n",
            "7    1.151433  1.073828  1.073828  ...  1.000000  1.000000  1.073828   \n",
            "70   1.073828  1.073828  1.073828  ...  1.151433  1.073828  1.073828   \n",
            "\n",
            "         ch25      ch26      ch27      ch28      ch29      ch30      ch31  \n",
            "23   1.000000  1.073828  1.073828  1.151433  1.000000  1.151433  1.073828  \n",
            "18   1.000000  1.073828  1.000000  1.073828  1.000000  1.073828  1.000000  \n",
            "5    1.000000  1.000000  1.073828  1.000000  1.151433  1.073828  1.073828  \n",
            "103  1.000000  1.000000  1.000000  1.000000  1.000000  1.000000  1.000000  \n",
            "142  1.073828  1.073828  1.073828  1.073828  1.000000  1.000000  1.000000  \n",
            "..        ...       ...       ...       ...       ...       ...       ...  \n",
            "71   1.000000  1.000000  1.151433  1.000000  1.000000  1.000000  1.073828  \n",
            "12   1.000000  1.073828  1.073828  1.073828  1.151433  1.073828  1.073828  \n",
            "50   1.000000  1.073828  1.073828  1.000000  1.000000  1.000000  1.073828  \n",
            "7    1.000000  1.073828  1.000000  1.073828  1.000000  1.073828  1.000000  \n",
            "70   1.073828  1.000000  1.000000  1.000000  1.073828  1.000000  1.000000  \n",
            "\n",
            "[160 rows x 32 columns]\n"
          ]
        }
      ]
    },
    {
      "cell_type": "code",
      "source": [
        "print(x_train)"
      ],
      "metadata": {
        "colab": {
          "base_uri": "https://localhost:8080/"
        },
        "id": "OpGMCg_fkQp7",
        "outputId": "251382d4-59fc-439b-f1b5-b79102d7ee73"
      },
      "execution_count": null,
      "outputs": [
        {
          "output_type": "stream",
          "name": "stdout",
          "text": [
            "          ch0       ch1       ch2       ch3       ch4       ch5       ch6  \\\n",
            "50   1.073828  1.073828  1.073828  1.073828  1.073828  1.073828  1.073828   \n",
            "114  1.073828  1.000000  1.073828  1.073828  1.000000  1.151433  1.000000   \n",
            "120  1.073828  1.073828  1.151433  1.073828  1.073828  1.073828  1.000000   \n",
            "69   1.073828  1.073828  1.073828  1.000000  1.000000  1.073828  1.073828   \n",
            "39   1.000000  1.151433  1.073828  1.073828  1.073828  1.000000  1.151433   \n",
            "..        ...       ...       ...       ...       ...       ...       ...   \n",
            "141  1.073828  1.000000  1.073828  1.073828  1.073828  1.000000  1.073828   \n",
            "156  1.073828  1.073828  1.073828  1.151433  1.073828  1.073828  1.073828   \n",
            "132  1.073828  1.073828  1.073828  1.073828  1.073828  1.151433  1.073828   \n",
            "151  1.000000  1.073828  1.151433  1.073828  1.073828  1.073828  1.073828   \n",
            "79   1.000000  1.073828  1.073828  1.000000  1.073828  1.073828  1.000000   \n",
            "\n",
            "          ch7       ch8       ch9  ...      ch22      ch23      ch24  \\\n",
            "50   1.073828  1.000000  1.000000  ...  1.073828  1.073828  1.000000   \n",
            "114  1.073828  1.073828  1.151433  ...  1.000000  1.151433  1.073828   \n",
            "120  1.000000  1.073828  1.073828  ...  1.000000  1.073828  1.073828   \n",
            "69   1.073828  1.073828  1.073828  ...  1.000000  1.000000  1.073828   \n",
            "39   1.000000  1.073828  1.000000  ...  1.000000  1.073828  1.000000   \n",
            "..        ...       ...       ...  ...       ...       ...       ...   \n",
            "141  1.073828  1.151433  1.000000  ...  1.000000  1.000000  1.000000   \n",
            "156  1.073828  1.073828  1.000000  ...  1.073828  1.073828  1.073828   \n",
            "132  1.073828  1.000000  1.151433  ...  1.073828  1.000000  1.073828   \n",
            "151  1.073828  1.073828  1.073828  ...  1.073828  1.073828  1.073828   \n",
            "79   1.000000  1.000000  1.000000  ...  1.073828  1.000000  1.073828   \n",
            "\n",
            "         ch25      ch26      ch27      ch28      ch29      ch30      ch31  \n",
            "50   1.000000  1.073828  1.073828  1.000000  1.000000  1.000000  1.073828  \n",
            "114  1.000000  1.073828  1.073828  1.073828  1.000000  1.073828  1.073828  \n",
            "120  1.073828  1.073828  1.073828  1.151433  1.073828  1.073828  1.000000  \n",
            "69   1.000000  1.000000  1.073828  1.073828  1.073828  1.000000  1.073828  \n",
            "39   1.073828  1.000000  1.073828  1.000000  1.073828  1.000000  1.151433  \n",
            "..        ...       ...       ...       ...       ...       ...       ...  \n",
            "141  1.073828  1.000000  1.000000  1.000000  1.073828  1.000000  1.151433  \n",
            "156  1.000000  1.000000  1.073828  1.000000  1.073828  1.073828  1.000000  \n",
            "132  1.151433  1.000000  1.073828  1.073828  1.073828  1.000000  1.073828  \n",
            "151  1.073828  1.073828  1.000000  1.073828  1.073828  1.073828  1.000000  \n",
            "79   1.073828  1.000000  1.151433  1.073828  1.073828  1.000000  1.151433  \n",
            "\n",
            "[128 rows x 32 columns]\n"
          ]
        }
      ]
    },
    {
      "cell_type": "code",
      "source": [
        ""
      ],
      "metadata": {
        "id": "hBTLKBQmkQtD"
      },
      "execution_count": null,
      "outputs": []
    },
    {
      "cell_type": "code",
      "source": [
        "from Py_FS.wrapper.nature_inspired.MA import MA as FS\n",
        "solution = FS(num_agents=30, max_iter=10, train_data=x, train_label=y, save_conv_graph=True)"
      ],
      "metadata": {
        "colab": {
          "base_uri": "https://localhost:8080/",
          "height": 1000
        },
        "id": "0i04jJpVhOgN",
        "outputId": "17ad6b55-3671-415e-d2ae-d7e5fe629905"
      },
      "execution_count": null,
      "outputs": [
        {
          "output_type": "stream",
          "name": "stdout",
          "text": [
            "Weight for the classification accuracy [0-1]: 1\n",
            "Enter the percentage of data wanted for valdiation [0, 100]: 50\n",
            "\n",
            "================================================================================\n",
            "                          Iteration - 1\n",
            "================================================================================\n",
            "\n",
            "\n",
            "Number of agents: 30\n",
            "\n",
            "------------- Best Agent ---------------\n",
            "Fitness: 0.5625\n",
            "Number of Features: 21\n",
            "----------------------------------------\n",
            "\n",
            "Mayfly 1 - Fitness: 0.5625, Number of Features: 21\n",
            "Mayfly 2 - Fitness: 0.5625, Number of Features: 21\n",
            "Mayfly 3 - Fitness: 0.5625, Number of Features: 21\n",
            "Mayfly 4 - Fitness: 0.5625, Number of Features: 21\n",
            "Mayfly 5 - Fitness: 0.55, Number of Features: 18\n",
            "Mayfly 6 - Fitness: 0.55, Number of Features: 18\n",
            "Mayfly 7 - Fitness: 0.55, Number of Features: 18\n",
            "Mayfly 8 - Fitness: 0.55, Number of Features: 18\n",
            "Mayfly 9 - Fitness: 0.55, Number of Features: 22\n",
            "Mayfly 10 - Fitness: 0.55, Number of Features: 18\n",
            "Mayfly 11 - Fitness: 0.55, Number of Features: 22\n",
            "Mayfly 12 - Fitness: 0.55, Number of Features: 22\n",
            "Mayfly 13 - Fitness: 0.55, Number of Features: 22\n",
            "Mayfly 14 - Fitness: 0.55, Number of Features: 25\n",
            "Mayfly 15 - Fitness: 0.55, Number of Features: 22\n",
            "Mayfly 16 - Fitness: 0.5375, Number of Features: 22\n",
            "Mayfly 17 - Fitness: 0.5375, Number of Features: 22\n",
            "Mayfly 18 - Fitness: 0.5375, Number of Features: 22\n",
            "Mayfly 19 - Fitness: 0.5375, Number of Features: 22\n",
            "Mayfly 20 - Fitness: 0.5375, Number of Features: 22\n",
            "Mayfly 21 - Fitness: 0.525, Number of Features: 20\n",
            "Mayfly 22 - Fitness: 0.525, Number of Features: 19\n",
            "Mayfly 23 - Fitness: 0.5125, Number of Features: 22\n",
            "Mayfly 24 - Fitness: 0.5125, Number of Features: 22\n",
            "Mayfly 25 - Fitness: 0.5, Number of Features: 21\n",
            "Mayfly 26 - Fitness: 0.5, Number of Features: 26\n",
            "Mayfly 27 - Fitness: 0.5, Number of Features: 24\n",
            "Mayfly 28 - Fitness: 0.4875, Number of Features: 21\n",
            "Mayfly 29 - Fitness: 0.4875, Number of Features: 22\n",
            "Mayfly 30 - Fitness: 0.4875, Number of Features: 25\n",
            "================================================================================\n",
            "\n",
            "\n",
            "================================================================================\n",
            "                          Iteration - 2\n",
            "================================================================================\n",
            "\n",
            "\n",
            "Number of agents: 30\n",
            "\n",
            "------------- Best Agent ---------------\n",
            "Fitness: 0.575\n",
            "Number of Features: 23\n",
            "----------------------------------------\n",
            "\n",
            "Mayfly 1 - Fitness: 0.575, Number of Features: 23\n",
            "Mayfly 2 - Fitness: 0.575, Number of Features: 23\n",
            "Mayfly 3 - Fitness: 0.575, Number of Features: 23\n",
            "Mayfly 4 - Fitness: 0.5625, Number of Features: 25\n",
            "Mayfly 5 - Fitness: 0.5625, Number of Features: 18\n",
            "Mayfly 6 - Fitness: 0.5625, Number of Features: 21\n",
            "Mayfly 7 - Fitness: 0.5625, Number of Features: 21\n",
            "Mayfly 8 - Fitness: 0.5625, Number of Features: 21\n",
            "Mayfly 9 - Fitness: 0.55, Number of Features: 22\n",
            "Mayfly 10 - Fitness: 0.55, Number of Features: 22\n",
            "Mayfly 11 - Fitness: 0.55, Number of Features: 22\n",
            "Mayfly 12 - Fitness: 0.55, Number of Features: 22\n",
            "Mayfly 13 - Fitness: 0.55, Number of Features: 24\n",
            "Mayfly 14 - Fitness: 0.55, Number of Features: 22\n",
            "Mayfly 15 - Fitness: 0.5375, Number of Features: 23\n",
            "Mayfly 16 - Fitness: 0.5375, Number of Features: 21\n",
            "Mayfly 17 - Fitness: 0.5375, Number of Features: 21\n",
            "Mayfly 18 - Fitness: 0.5375, Number of Features: 21\n",
            "Mayfly 19 - Fitness: 0.5375, Number of Features: 21\n",
            "Mayfly 20 - Fitness: 0.5375, Number of Features: 21\n",
            "Mayfly 21 - Fitness: 0.5375, Number of Features: 21\n",
            "Mayfly 22 - Fitness: 0.525, Number of Features: 20\n",
            "Mayfly 23 - Fitness: 0.525, Number of Features: 19\n",
            "Mayfly 24 - Fitness: 0.525, Number of Features: 27\n",
            "Mayfly 25 - Fitness: 0.525, Number of Features: 20\n",
            "Mayfly 26 - Fitness: 0.525, Number of Features: 20\n",
            "Mayfly 27 - Fitness: 0.525, Number of Features: 20\n",
            "Mayfly 28 - Fitness: 0.5, Number of Features: 23\n",
            "Mayfly 29 - Fitness: 0.5, Number of Features: 29\n",
            "Mayfly 30 - Fitness: 0.4875, Number of Features: 22\n",
            "================================================================================\n",
            "\n",
            "\n",
            "================================================================================\n",
            "                          Iteration - 3\n",
            "================================================================================\n",
            "\n",
            "\n",
            "Number of agents: 30\n",
            "\n",
            "------------- Best Agent ---------------\n",
            "Fitness: 0.55\n",
            "Number of Features: 23\n",
            "----------------------------------------\n",
            "\n",
            "Mayfly 1 - Fitness: 0.55, Number of Features: 23\n",
            "Mayfly 2 - Fitness: 0.55, Number of Features: 23\n",
            "Mayfly 3 - Fitness: 0.55, Number of Features: 23\n",
            "Mayfly 4 - Fitness: 0.55, Number of Features: 23\n",
            "Mayfly 5 - Fitness: 0.55, Number of Features: 18\n",
            "Mayfly 6 - Fitness: 0.55, Number of Features: 17\n",
            "Mayfly 7 - Fitness: 0.55, Number of Features: 22\n",
            "Mayfly 8 - Fitness: 0.55, Number of Features: 22\n",
            "Mayfly 9 - Fitness: 0.525, Number of Features: 24\n",
            "Mayfly 10 - Fitness: 0.525, Number of Features: 26\n",
            "Mayfly 11 - Fitness: 0.5125, Number of Features: 25\n",
            "Mayfly 12 - Fitness: 0.5125, Number of Features: 25\n",
            "Mayfly 13 - Fitness: 0.5125, Number of Features: 25\n",
            "Mayfly 14 - Fitness: 0.5125, Number of Features: 23\n",
            "Mayfly 15 - Fitness: 0.5125, Number of Features: 25\n",
            "Mayfly 16 - Fitness: 0.5125, Number of Features: 21\n",
            "Mayfly 17 - Fitness: 0.5, Number of Features: 18\n",
            "Mayfly 18 - Fitness: 0.5, Number of Features: 18\n",
            "Mayfly 19 - Fitness: 0.5, Number of Features: 18\n",
            "Mayfly 20 - Fitness: 0.5, Number of Features: 22\n",
            "Mayfly 21 - Fitness: 0.5, Number of Features: 21\n",
            "Mayfly 22 - Fitness: 0.5, Number of Features: 23\n",
            "Mayfly 23 - Fitness: 0.4875, Number of Features: 21\n",
            "Mayfly 24 - Fitness: 0.4875, Number of Features: 23\n",
            "Mayfly 25 - Fitness: 0.4875, Number of Features: 24\n",
            "Mayfly 26 - Fitness: 0.4875, Number of Features: 24\n",
            "Mayfly 27 - Fitness: 0.4875, Number of Features: 21\n",
            "Mayfly 28 - Fitness: 0.4875, Number of Features: 21\n",
            "Mayfly 29 - Fitness: 0.4875, Number of Features: 21\n",
            "Mayfly 30 - Fitness: 0.475, Number of Features: 23\n",
            "================================================================================\n",
            "\n",
            "\n",
            "================================================================================\n",
            "                          Iteration - 4\n",
            "================================================================================\n",
            "\n",
            "\n",
            "Number of agents: 30\n",
            "\n",
            "------------- Best Agent ---------------\n",
            "Fitness: 0.575\n",
            "Number of Features: 19\n",
            "----------------------------------------\n",
            "\n",
            "Mayfly 1 - Fitness: 0.575, Number of Features: 19\n",
            "Mayfly 2 - Fitness: 0.575, Number of Features: 19\n",
            "Mayfly 3 - Fitness: 0.575, Number of Features: 19\n",
            "Mayfly 4 - Fitness: 0.575, Number of Features: 19\n",
            "Mayfly 5 - Fitness: 0.5375, Number of Features: 21\n",
            "Mayfly 6 - Fitness: 0.5375, Number of Features: 21\n",
            "Mayfly 7 - Fitness: 0.5375, Number of Features: 22\n",
            "Mayfly 8 - Fitness: 0.5375, Number of Features: 24\n",
            "Mayfly 9 - Fitness: 0.525, Number of Features: 24\n",
            "Mayfly 10 - Fitness: 0.5125, Number of Features: 23\n",
            "Mayfly 11 - Fitness: 0.5125, Number of Features: 22\n",
            "Mayfly 12 - Fitness: 0.5125, Number of Features: 27\n",
            "Mayfly 13 - Fitness: 0.5125, Number of Features: 21\n",
            "Mayfly 14 - Fitness: 0.5, Number of Features: 23\n",
            "Mayfly 15 - Fitness: 0.5, Number of Features: 23\n",
            "Mayfly 16 - Fitness: 0.5, Number of Features: 23\n",
            "Mayfly 17 - Fitness: 0.5, Number of Features: 23\n",
            "Mayfly 18 - Fitness: 0.5, Number of Features: 21\n",
            "Mayfly 19 - Fitness: 0.5, Number of Features: 21\n",
            "Mayfly 20 - Fitness: 0.5, Number of Features: 21\n",
            "Mayfly 21 - Fitness: 0.5, Number of Features: 21\n",
            "Mayfly 22 - Fitness: 0.5, Number of Features: 21\n",
            "Mayfly 23 - Fitness: 0.4875, Number of Features: 23\n",
            "Mayfly 24 - Fitness: 0.4875, Number of Features: 20\n",
            "Mayfly 25 - Fitness: 0.475, Number of Features: 26\n",
            "Mayfly 26 - Fitness: 0.475, Number of Features: 23\n",
            "Mayfly 27 - Fitness: 0.475, Number of Features: 22\n",
            "Mayfly 28 - Fitness: 0.475, Number of Features: 21\n",
            "Mayfly 29 - Fitness: 0.475, Number of Features: 26\n",
            "Mayfly 30 - Fitness: 0.475, Number of Features: 26\n",
            "================================================================================\n",
            "\n",
            "\n",
            "================================================================================\n",
            "                          Iteration - 5\n",
            "================================================================================\n",
            "\n",
            "\n",
            "Number of agents: 30\n",
            "\n",
            "------------- Best Agent ---------------\n",
            "Fitness: 0.55\n",
            "Number of Features: 15\n",
            "----------------------------------------\n",
            "\n",
            "Mayfly 1 - Fitness: 0.55, Number of Features: 15\n",
            "Mayfly 2 - Fitness: 0.55, Number of Features: 15\n",
            "Mayfly 3 - Fitness: 0.55, Number of Features: 15\n",
            "Mayfly 4 - Fitness: 0.55, Number of Features: 15\n",
            "Mayfly 5 - Fitness: 0.55, Number of Features: 15\n",
            "Mayfly 6 - Fitness: 0.55, Number of Features: 13\n",
            "Mayfly 7 - Fitness: 0.55, Number of Features: 13\n",
            "Mayfly 8 - Fitness: 0.55, Number of Features: 13\n",
            "Mayfly 9 - Fitness: 0.55, Number of Features: 13\n",
            "Mayfly 10 - Fitness: 0.55, Number of Features: 23\n",
            "Mayfly 11 - Fitness: 0.5375, Number of Features: 21\n",
            "Mayfly 12 - Fitness: 0.5375, Number of Features: 21\n",
            "Mayfly 13 - Fitness: 0.5375, Number of Features: 21\n",
            "Mayfly 14 - Fitness: 0.5375, Number of Features: 21\n",
            "Mayfly 15 - Fitness: 0.525, Number of Features: 23\n",
            "Mayfly 16 - Fitness: 0.525, Number of Features: 18\n",
            "Mayfly 17 - Fitness: 0.5125, Number of Features: 21\n",
            "Mayfly 18 - Fitness: 0.5, Number of Features: 22\n",
            "Mayfly 19 - Fitness: 0.5, Number of Features: 24\n",
            "Mayfly 20 - Fitness: 0.5, Number of Features: 27\n",
            "Mayfly 21 - Fitness: 0.5, Number of Features: 24\n",
            "Mayfly 22 - Fitness: 0.5, Number of Features: 24\n",
            "Mayfly 23 - Fitness: 0.5, Number of Features: 29\n",
            "Mayfly 24 - Fitness: 0.5, Number of Features: 23\n",
            "Mayfly 25 - Fitness: 0.5, Number of Features: 22\n",
            "Mayfly 26 - Fitness: 0.5, Number of Features: 22\n",
            "Mayfly 27 - Fitness: 0.5, Number of Features: 22\n",
            "Mayfly 28 - Fitness: 0.5, Number of Features: 22\n",
            "Mayfly 29 - Fitness: 0.5, Number of Features: 22\n",
            "Mayfly 30 - Fitness: 0.4875, Number of Features: 25\n",
            "================================================================================\n",
            "\n",
            "\n",
            "================================================================================\n",
            "                          Iteration - 6\n",
            "================================================================================\n",
            "\n",
            "\n",
            "Number of agents: 30\n",
            "\n",
            "------------- Best Agent ---------------\n",
            "Fitness: 0.6\n",
            "Number of Features: 20\n",
            "----------------------------------------\n",
            "\n",
            "Mayfly 1 - Fitness: 0.6, Number of Features: 20\n",
            "Mayfly 2 - Fitness: 0.5875, Number of Features: 23\n",
            "Mayfly 3 - Fitness: 0.55, Number of Features: 26\n",
            "Mayfly 4 - Fitness: 0.55, Number of Features: 26\n",
            "Mayfly 5 - Fitness: 0.5375, Number of Features: 22\n",
            "Mayfly 6 - Fitness: 0.5375, Number of Features: 23\n",
            "Mayfly 7 - Fitness: 0.525, Number of Features: 21\n",
            "Mayfly 8 - Fitness: 0.525, Number of Features: 21\n",
            "Mayfly 9 - Fitness: 0.525, Number of Features: 21\n",
            "Mayfly 10 - Fitness: 0.525, Number of Features: 24\n",
            "Mayfly 11 - Fitness: 0.525, Number of Features: 24\n",
            "Mayfly 12 - Fitness: 0.525, Number of Features: 21\n",
            "Mayfly 13 - Fitness: 0.5125, Number of Features: 27\n",
            "Mayfly 14 - Fitness: 0.5125, Number of Features: 22\n",
            "Mayfly 15 - Fitness: 0.5125, Number of Features: 26\n",
            "Mayfly 16 - Fitness: 0.5125, Number of Features: 20\n",
            "Mayfly 17 - Fitness: 0.5125, Number of Features: 23\n",
            "Mayfly 18 - Fitness: 0.5125, Number of Features: 17\n",
            "Mayfly 19 - Fitness: 0.5, Number of Features: 26\n",
            "Mayfly 20 - Fitness: 0.5, Number of Features: 18\n",
            "Mayfly 21 - Fitness: 0.4875, Number of Features: 24\n",
            "Mayfly 22 - Fitness: 0.4875, Number of Features: 24\n",
            "Mayfly 23 - Fitness: 0.4875, Number of Features: 24\n",
            "Mayfly 24 - Fitness: 0.4875, Number of Features: 25\n",
            "Mayfly 25 - Fitness: 0.4875, Number of Features: 25\n",
            "Mayfly 26 - Fitness: 0.4875, Number of Features: 25\n",
            "Mayfly 27 - Fitness: 0.4875, Number of Features: 25\n",
            "Mayfly 28 - Fitness: 0.4875, Number of Features: 25\n",
            "Mayfly 29 - Fitness: 0.4875, Number of Features: 25\n",
            "Mayfly 30 - Fitness: 0.4875, Number of Features: 21\n",
            "================================================================================\n",
            "\n",
            "\n",
            "================================================================================\n",
            "                          Iteration - 7\n",
            "================================================================================\n",
            "\n",
            "\n",
            "Number of agents: 30\n",
            "\n",
            "------------- Best Agent ---------------\n",
            "Fitness: 0.55\n",
            "Number of Features: 20\n",
            "----------------------------------------\n",
            "\n",
            "Mayfly 1 - Fitness: 0.55, Number of Features: 20\n",
            "Mayfly 2 - Fitness: 0.55, Number of Features: 20\n",
            "Mayfly 3 - Fitness: 0.55, Number of Features: 20\n",
            "Mayfly 4 - Fitness: 0.5375, Number of Features: 25\n",
            "Mayfly 5 - Fitness: 0.5375, Number of Features: 24\n",
            "Mayfly 6 - Fitness: 0.5375, Number of Features: 18\n",
            "Mayfly 7 - Fitness: 0.5375, Number of Features: 18\n",
            "Mayfly 8 - Fitness: 0.5375, Number of Features: 18\n",
            "Mayfly 9 - Fitness: 0.525, Number of Features: 20\n",
            "Mayfly 10 - Fitness: 0.525, Number of Features: 20\n",
            "Mayfly 11 - Fitness: 0.525, Number of Features: 20\n",
            "Mayfly 12 - Fitness: 0.525, Number of Features: 24\n",
            "Mayfly 13 - Fitness: 0.525, Number of Features: 23\n",
            "Mayfly 14 - Fitness: 0.525, Number of Features: 23\n",
            "Mayfly 15 - Fitness: 0.5125, Number of Features: 21\n",
            "Mayfly 16 - Fitness: 0.5125, Number of Features: 21\n",
            "Mayfly 17 - Fitness: 0.5125, Number of Features: 21\n",
            "Mayfly 18 - Fitness: 0.5125, Number of Features: 21\n",
            "Mayfly 19 - Fitness: 0.5125, Number of Features: 17\n",
            "Mayfly 20 - Fitness: 0.5125, Number of Features: 21\n",
            "Mayfly 21 - Fitness: 0.5125, Number of Features: 21\n",
            "Mayfly 22 - Fitness: 0.5125, Number of Features: 21\n",
            "Mayfly 23 - Fitness: 0.5, Number of Features: 21\n",
            "Mayfly 24 - Fitness: 0.5, Number of Features: 21\n",
            "Mayfly 25 - Fitness: 0.5, Number of Features: 21\n",
            "Mayfly 26 - Fitness: 0.5, Number of Features: 21\n",
            "Mayfly 27 - Fitness: 0.4875, Number of Features: 23\n",
            "Mayfly 28 - Fitness: 0.4875, Number of Features: 23\n",
            "Mayfly 29 - Fitness: 0.4875, Number of Features: 23\n",
            "Mayfly 30 - Fitness: 0.4875, Number of Features: 23\n",
            "================================================================================\n",
            "\n",
            "\n",
            "================================================================================\n",
            "                          Iteration - 8\n",
            "================================================================================\n",
            "\n",
            "\n",
            "Number of agents: 30\n",
            "\n",
            "------------- Best Agent ---------------\n",
            "Fitness: 0.575\n",
            "Number of Features: 19\n",
            "----------------------------------------\n",
            "\n",
            "Mayfly 1 - Fitness: 0.575, Number of Features: 19\n",
            "Mayfly 2 - Fitness: 0.575, Number of Features: 19\n",
            "Mayfly 3 - Fitness: 0.575, Number of Features: 19\n",
            "Mayfly 4 - Fitness: 0.55, Number of Features: 24\n",
            "Mayfly 5 - Fitness: 0.55, Number of Features: 25\n",
            "Mayfly 6 - Fitness: 0.55, Number of Features: 23\n",
            "Mayfly 7 - Fitness: 0.5375, Number of Features: 22\n",
            "Mayfly 8 - Fitness: 0.5375, Number of Features: 22\n",
            "Mayfly 9 - Fitness: 0.5375, Number of Features: 22\n",
            "Mayfly 10 - Fitness: 0.5375, Number of Features: 23\n",
            "Mayfly 11 - Fitness: 0.5375, Number of Features: 17\n",
            "Mayfly 12 - Fitness: 0.5375, Number of Features: 20\n",
            "Mayfly 13 - Fitness: 0.5375, Number of Features: 24\n",
            "Mayfly 14 - Fitness: 0.5375, Number of Features: 23\n",
            "Mayfly 15 - Fitness: 0.5375, Number of Features: 23\n",
            "Mayfly 16 - Fitness: 0.5375, Number of Features: 23\n",
            "Mayfly 17 - Fitness: 0.5375, Number of Features: 23\n",
            "Mayfly 18 - Fitness: 0.5375, Number of Features: 23\n",
            "Mayfly 19 - Fitness: 0.5375, Number of Features: 23\n",
            "Mayfly 20 - Fitness: 0.5375, Number of Features: 23\n",
            "Mayfly 21 - Fitness: 0.525, Number of Features: 22\n",
            "Mayfly 22 - Fitness: 0.525, Number of Features: 16\n",
            "Mayfly 23 - Fitness: 0.525, Number of Features: 16\n",
            "Mayfly 24 - Fitness: 0.5125, Number of Features: 26\n",
            "Mayfly 25 - Fitness: 0.5125, Number of Features: 20\n",
            "Mayfly 26 - Fitness: 0.5125, Number of Features: 21\n",
            "Mayfly 27 - Fitness: 0.5, Number of Features: 25\n",
            "Mayfly 28 - Fitness: 0.4875, Number of Features: 21\n",
            "Mayfly 29 - Fitness: 0.4875, Number of Features: 24\n",
            "Mayfly 30 - Fitness: 0.4875, Number of Features: 23\n",
            "================================================================================\n",
            "\n",
            "\n",
            "================================================================================\n",
            "                          Iteration - 9\n",
            "================================================================================\n",
            "\n",
            "\n",
            "Number of agents: 30\n",
            "\n",
            "------------- Best Agent ---------------\n",
            "Fitness: 0.5875\n",
            "Number of Features: 16\n",
            "----------------------------------------\n",
            "\n",
            "Mayfly 1 - Fitness: 0.5875, Number of Features: 16\n",
            "Mayfly 2 - Fitness: 0.5875, Number of Features: 22\n",
            "Mayfly 3 - Fitness: 0.5625, Number of Features: 24\n",
            "Mayfly 4 - Fitness: 0.5625, Number of Features: 24\n",
            "Mayfly 5 - Fitness: 0.5625, Number of Features: 24\n",
            "Mayfly 6 - Fitness: 0.5625, Number of Features: 21\n",
            "Mayfly 7 - Fitness: 0.5625, Number of Features: 18\n",
            "Mayfly 8 - Fitness: 0.5625, Number of Features: 22\n",
            "Mayfly 9 - Fitness: 0.5625, Number of Features: 22\n",
            "Mayfly 10 - Fitness: 0.5625, Number of Features: 22\n",
            "Mayfly 11 - Fitness: 0.5375, Number of Features: 19\n",
            "Mayfly 12 - Fitness: 0.525, Number of Features: 21\n",
            "Mayfly 13 - Fitness: 0.525, Number of Features: 21\n",
            "Mayfly 14 - Fitness: 0.5125, Number of Features: 20\n",
            "Mayfly 15 - Fitness: 0.5125, Number of Features: 19\n",
            "Mayfly 16 - Fitness: 0.5, Number of Features: 20\n",
            "Mayfly 17 - Fitness: 0.5, Number of Features: 27\n",
            "Mayfly 18 - Fitness: 0.5, Number of Features: 21\n",
            "Mayfly 19 - Fitness: 0.5, Number of Features: 23\n",
            "Mayfly 20 - Fitness: 0.5, Number of Features: 23\n",
            "Mayfly 21 - Fitness: 0.5, Number of Features: 23\n",
            "Mayfly 22 - Fitness: 0.4875, Number of Features: 19\n",
            "Mayfly 23 - Fitness: 0.4875, Number of Features: 19\n",
            "Mayfly 24 - Fitness: 0.4875, Number of Features: 22\n",
            "Mayfly 25 - Fitness: 0.4875, Number of Features: 21\n",
            "Mayfly 26 - Fitness: 0.475, Number of Features: 21\n",
            "Mayfly 27 - Fitness: 0.475, Number of Features: 24\n",
            "Mayfly 28 - Fitness: 0.475, Number of Features: 21\n",
            "Mayfly 29 - Fitness: 0.475, Number of Features: 27\n",
            "Mayfly 30 - Fitness: 0.475, Number of Features: 21\n",
            "================================================================================\n",
            "\n",
            "\n",
            "================================================================================\n",
            "                          Iteration - 10\n",
            "================================================================================\n",
            "\n",
            "\n",
            "Number of agents: 30\n",
            "\n",
            "------------- Best Agent ---------------\n",
            "Fitness: 0.5375\n",
            "Number of Features: 22\n",
            "----------------------------------------\n",
            "\n",
            "Mayfly 1 - Fitness: 0.5375, Number of Features: 22\n",
            "Mayfly 2 - Fitness: 0.5375, Number of Features: 22\n",
            "Mayfly 3 - Fitness: 0.5375, Number of Features: 22\n",
            "Mayfly 4 - Fitness: 0.525, Number of Features: 20\n",
            "Mayfly 5 - Fitness: 0.525, Number of Features: 22\n",
            "Mayfly 6 - Fitness: 0.525, Number of Features: 22\n",
            "Mayfly 7 - Fitness: 0.5125, Number of Features: 21\n",
            "Mayfly 8 - Fitness: 0.5125, Number of Features: 21\n",
            "Mayfly 9 - Fitness: 0.5125, Number of Features: 27\n",
            "Mayfly 10 - Fitness: 0.5125, Number of Features: 21\n",
            "Mayfly 11 - Fitness: 0.5, Number of Features: 20\n",
            "Mayfly 12 - Fitness: 0.5, Number of Features: 20\n",
            "Mayfly 13 - Fitness: 0.5, Number of Features: 20\n",
            "Mayfly 14 - Fitness: 0.5, Number of Features: 20\n",
            "Mayfly 15 - Fitness: 0.5, Number of Features: 27\n",
            "Mayfly 16 - Fitness: 0.5, Number of Features: 26\n",
            "Mayfly 17 - Fitness: 0.5, Number of Features: 24\n",
            "Mayfly 18 - Fitness: 0.5, Number of Features: 24\n",
            "Mayfly 19 - Fitness: 0.5, Number of Features: 24\n",
            "Mayfly 20 - Fitness: 0.5, Number of Features: 24\n",
            "Mayfly 21 - Fitness: 0.5, Number of Features: 24\n",
            "Mayfly 22 - Fitness: 0.5, Number of Features: 24\n",
            "Mayfly 23 - Fitness: 0.5, Number of Features: 27\n",
            "Mayfly 24 - Fitness: 0.4875, Number of Features: 24\n",
            "Mayfly 25 - Fitness: 0.4875, Number of Features: 27\n",
            "Mayfly 26 - Fitness: 0.4875, Number of Features: 26\n",
            "Mayfly 27 - Fitness: 0.4875, Number of Features: 23\n",
            "Mayfly 28 - Fitness: 0.4875, Number of Features: 22\n",
            "Mayfly 29 - Fitness: 0.4875, Number of Features: 23\n",
            "Mayfly 30 - Fitness: 0.4875, Number of Features: 24\n",
            "================================================================================\n",
            "\n",
            "\n",
            "================================================================================\n",
            "                                    Final Result                                  \n",
            "================================================================================\n",
            "\n",
            "Leader Mayfly Dimension : 23\n",
            "Leader Mayfly Fitness : 0.6125\n",
            "Leader Mayfly Classification Accuracy : 0.4125\n",
            "\n",
            "================================================================================\n",
            "\n"
          ]
        },
        {
          "output_type": "display_data",
          "data": {
            "text/plain": [
              "<Figure size 432x288 with 1 Axes>"
            ],
            "image/png": "[encoded data removed]"
          },
          "metadata": {
            "needs_background": "light"
          }
        }
      ]
    },
    {
      "cell_type": "code",
      "source": [
        "solution.best_agent"
      ],
      "metadata": {
        "colab": {
          "base_uri": "https://localhost:8080/"
        },
        "id": "Mpis18MVlo6N",
        "outputId": "f4b1faae-a015-4eaf-a769-c0e588f20fed"
      },
      "execution_count": null,
      "outputs": [
        {
          "output_type": "execute_result",
          "data": {
            "text/plain": [
              "array([0., 1., 1., 1., 1., 1., 0., 1., 0., 0., 1., 1., 1., 1., 1., 0., 0.,\n",
              "       0., 1., 1., 1., 1., 1., 1., 1., 1., 1., 0., 1., 1., 0., 1.])"
            ]
          },
          "metadata": {},
          "execution_count": 41
        }
      ]
    },
    {
      "cell_type": "code",
      "source": [
        "solution.best_agent.shape"
      ],
      "metadata": {
        "colab": {
          "base_uri": "https://localhost:8080/"
        },
        "id": "K0xRCB-PXz2z",
        "outputId": "4d6fdba9-cc22-4792-c562-3645c69cca8c"
      },
      "execution_count": null,
      "outputs": [
        {
          "output_type": "execute_result",
          "data": {
            "text/plain": [
              "(32,)"
            ]
          },
          "metadata": {},
          "execution_count": 42
        }
      ]
    },
    {
      "cell_type": "code",
      "source": [
        "solution.best_accuracy"
      ],
      "metadata": {
        "colab": {
          "base_uri": "https://localhost:8080/"
        },
        "id": "N-UGZw-spguv",
        "outputId": "3bd485cd-aa22-48a3-e949-76b26ac18b9e"
      },
      "execution_count": null,
      "outputs": [
        {
          "output_type": "execute_result",
          "data": {
            "text/plain": [
              "0.4125"
            ]
          },
          "metadata": {},
          "execution_count": 43
        }
      ]
    },
    {
      "cell_type": "code",
      "source": [
        "solution.final_population"
      ],
      "metadata": {
        "colab": {
          "base_uri": "https://localhost:8080/"
        },
        "id": "SRBa2eT8pkNS",
        "outputId": "5970d2f9-e117-48b0-c134-be69553f1def"
      },
      "execution_count": null,
      "outputs": [
        {
          "output_type": "execute_result",
          "data": {
            "text/plain": [
              "array([[1., 0., 0., 0., 1., 1., 1., 1., 1., 1., 1., 0., 0., 1., 1., 1.,\n",
              "        1., 1., 1., 1., 1., 1., 1., 1., 1., 0., 1., 0., 0., 0., 0., 1.],\n",
              "       [1., 0., 0., 0., 1., 1., 1., 1., 1., 1., 1., 0., 0., 1., 1., 1.,\n",
              "        1., 1., 1., 1., 1., 1., 1., 1., 1., 0., 1., 0., 0., 0., 0., 1.],\n",
              "       [1., 0., 0., 0., 1., 1., 1., 1., 1., 1., 1., 0., 0., 1., 1., 1.,\n",
              "        1., 1., 1., 1., 1., 1., 1., 1., 1., 0., 1., 0., 0., 0., 0., 1.],\n",
              "       [1., 1., 0., 0., 1., 1., 1., 1., 0., 1., 0., 1., 1., 1., 0., 0.,\n",
              "        1., 0., 0., 0., 1., 1., 1., 1., 0., 1., 1., 0., 1., 1., 0., 1.],\n",
              "       [0., 1., 1., 0., 1., 0., 0., 1., 1., 0., 1., 1., 0., 1., 1., 1.,\n",
              "        1., 1., 0., 1., 1., 1., 1., 0., 1., 1., 1., 1., 0., 1., 0., 1.],\n",
              "       [1., 0., 0., 0., 1., 1., 1., 1., 1., 1., 1., 0., 0., 1., 1., 1.,\n",
              "        1., 1., 1., 1., 1., 1., 1., 0., 0., 1., 0., 1., 1., 0., 0., 1.],\n",
              "       [0., 0., 1., 1., 0., 0., 1., 1., 1., 1., 1., 0., 1., 1., 0., 0.,\n",
              "        0., 1., 1., 1., 1., 1., 0., 0., 1., 1., 1., 1., 1., 1., 0., 1.],\n",
              "       [0., 0., 1., 1., 0., 0., 1., 1., 1., 1., 1., 0., 1., 1., 0., 0.,\n",
              "        0., 1., 1., 1., 1., 1., 0., 0., 1., 1., 1., 1., 1., 1., 0., 1.],\n",
              "       [1., 1., 1., 1., 1., 1., 1., 1., 1., 1., 1., 0., 1., 1., 0., 0.,\n",
              "        1., 0., 1., 1., 1., 1., 1., 1., 1., 1., 1., 0., 1., 1., 1., 1.],\n",
              "       [0., 1., 1., 1., 1., 1., 1., 0., 1., 0., 0., 1., 0., 1., 0., 0.,\n",
              "        0., 1., 1., 1., 0., 1., 1., 1., 1., 1., 1., 0., 0., 1., 1., 1.],\n",
              "       [1., 0., 1., 1., 1., 0., 1., 1., 1., 1., 1., 1., 1., 1., 1., 1.,\n",
              "        1., 1., 0., 1., 1., 1., 1., 1., 1., 1., 0., 1., 1., 1., 1., 0.],\n",
              "       [1., 0., 0., 1., 0., 1., 1., 1., 1., 1., 0., 1., 1., 0., 1., 1.,\n",
              "        1., 1., 1., 1., 1., 1., 1., 1., 1., 1., 0., 0., 1., 0., 1., 1.],\n",
              "       [1., 0., 0., 1., 0., 1., 1., 1., 1., 1., 0., 1., 1., 0., 1., 1.,\n",
              "        1., 1., 1., 1., 1., 1., 1., 1., 1., 1., 0., 0., 1., 0., 1., 1.],\n",
              "       [1., 0., 0., 1., 0., 1., 1., 1., 1., 1., 0., 1., 1., 0., 1., 1.,\n",
              "        1., 1., 1., 1., 1., 1., 1., 1., 1., 1., 0., 0., 1., 0., 1., 1.],\n",
              "       [1., 0., 0., 1., 0., 1., 1., 1., 1., 1., 0., 1., 1., 0., 1., 1.,\n",
              "        1., 1., 1., 1., 1., 1., 1., 1., 1., 1., 0., 0., 1., 0., 1., 1.],\n",
              "       [1., 0., 0., 1., 0., 1., 1., 1., 1., 1., 0., 1., 1., 0., 1., 1.,\n",
              "        1., 1., 1., 1., 1., 1., 1., 1., 1., 1., 0., 0., 1., 0., 1., 1.],\n",
              "       [1., 0., 1., 1., 1., 1., 1., 1., 1., 0., 1., 1., 1., 1., 1., 1.,\n",
              "        1., 1., 0., 1., 1., 1., 1., 1., 0., 1., 1., 1., 1., 1., 0., 1.],\n",
              "       [1., 1., 1., 1., 1., 1., 0., 1., 1., 1., 1., 1., 1., 1., 1., 1.,\n",
              "        1., 1., 1., 1., 1., 0., 0., 0., 0., 1., 1., 1., 0., 1., 1., 1.],\n",
              "       [0., 1., 0., 1., 1., 0., 0., 0., 0., 1., 0., 1., 1., 1., 1., 1.,\n",
              "        0., 1., 0., 1., 1., 0., 1., 0., 0., 1., 1., 1., 1., 1., 1., 1.],\n",
              "       [0., 1., 0., 1., 1., 0., 0., 0., 0., 1., 0., 1., 1., 1., 1., 1.,\n",
              "        0., 1., 0., 1., 1., 0., 1., 0., 0., 1., 1., 1., 1., 1., 1., 1.],\n",
              "       [0., 1., 0., 1., 1., 0., 0., 0., 0., 1., 0., 1., 1., 1., 1., 1.,\n",
              "        0., 1., 0., 1., 1., 0., 1., 0., 0., 1., 1., 1., 1., 1., 1., 1.],\n",
              "       [0., 1., 0., 1., 1., 0., 0., 0., 0., 1., 0., 1., 1., 1., 1., 1.,\n",
              "        0., 1., 0., 1., 1., 0., 1., 0., 0., 1., 1., 1., 1., 1., 1., 1.],\n",
              "       [1., 0., 0., 1., 0., 1., 1., 1., 1., 1., 0., 1., 1., 0., 1., 1.,\n",
              "        1., 1., 1., 1., 1., 1., 1., 1., 1., 1., 0., 0., 1., 0., 1., 1.],\n",
              "       [1., 1., 1., 1., 1., 1., 1., 0., 0., 0., 0., 1., 0., 1., 0., 1.,\n",
              "        0., 1., 0., 1., 1., 1., 1., 1., 0., 1., 1., 1., 1., 1., 1., 1.],\n",
              "       [1., 1., 1., 1., 1., 1., 1., 1., 1., 0., 0., 1., 1., 1., 1., 1.,\n",
              "        1., 1., 1., 0., 1., 0., 1., 0., 1., 1., 0., 1., 1., 0., 0., 1.],\n",
              "       [1., 1., 1., 0., 1., 1., 1., 1., 0., 1., 1., 0., 1., 1., 1., 0.,\n",
              "        1., 1., 1., 1., 1., 1., 1., 1., 1., 1., 1., 1., 1., 0., 1., 1.],\n",
              "       [1., 1., 1., 1., 1., 0., 0., 1., 1., 0., 1., 1., 0., 1., 1., 1.,\n",
              "        0., 1., 0., 1., 1., 1., 1., 1., 1., 1., 1., 1., 1., 1., 1., 1.],\n",
              "       [1., 1., 1., 1., 1., 0., 1., 1., 1., 0., 1., 1., 0., 1., 0., 1.,\n",
              "        1., 1., 1., 1., 0., 1., 0., 0., 1., 1., 0., 1., 1., 0., 1., 1.],\n",
              "       [1., 1., 1., 1., 1., 1., 0., 0., 1., 1., 1., 0., 0., 0., 1., 1.,\n",
              "        1., 0., 1., 1., 1., 1., 1., 1., 0., 1., 1., 0., 1., 0., 0., 1.],\n",
              "       [1., 1., 1., 1., 1., 1., 1., 1., 1., 0., 0., 1., 1., 1., 1., 1.,\n",
              "        1., 1., 1., 0., 1., 0., 1., 0., 1., 1., 0., 1., 1., 0., 0., 1.]])"
            ]
          },
          "metadata": {},
          "execution_count": 44
        }
      ]
    },
    {
      "cell_type": "code",
      "source": [
        "solution.final_fitness"
      ],
      "metadata": {
        "colab": {
          "base_uri": "https://localhost:8080/"
        },
        "id": "j97urHHgppNe",
        "outputId": "c656b2e6-9f41-4d4f-b50b-9a3535c0966f"
      },
      "execution_count": null,
      "outputs": [
        {
          "output_type": "execute_result",
          "data": {
            "text/plain": [
              "array([0.5375, 0.5375, 0.5375, 0.525 , 0.525 , 0.525 , 0.5125, 0.5125,\n",
              "       0.5125, 0.5125, 0.5   , 0.5   , 0.5   , 0.5   , 0.5   , 0.5   ,\n",
              "       0.5   , 0.5   , 0.5   , 0.5   , 0.5   , 0.5   , 0.5   , 0.4875,\n",
              "       0.4875, 0.4875, 0.4875, 0.4875, 0.4875, 0.4875])"
            ]
          },
          "metadata": {},
          "execution_count": 45
        }
      ]
    },
    {
      "cell_type": "code",
      "source": [
        "solution.final_accuracy"
      ],
      "metadata": {
        "colab": {
          "base_uri": "https://localhost:8080/"
        },
        "id": "AuJBmAlrpt-L",
        "outputId": "11704b39-b6a9-4aec-88d3-2478e383d839"
      },
      "execution_count": null,
      "outputs": [
        {
          "output_type": "execute_result",
          "data": {
            "text/plain": [
              "array([0.5375, 0.5375, 0.5375, 0.525 , 0.525 , 0.525 , 0.5125, 0.5125,\n",
              "       0.5125, 0.5125, 0.5   , 0.5   , 0.5   , 0.5   , 0.5   , 0.5   ,\n",
              "       0.5   , 0.5   , 0.5   , 0.5   , 0.5   , 0.5   , 0.5   , 0.4875,\n",
              "       0.4875, 0.4875, 0.4875, 0.4875, 0.4875, 0.4875])"
            ]
          },
          "metadata": {},
          "execution_count": 46
        }
      ]
    },
    {
      "cell_type": "code",
      "source": [
        "train_X, test_X, train_Y, test_Y = train_test_split(x, y, stratify=y, test_size=0.2, random_state=2)"
      ],
      "metadata": {
        "id": "16-Dzl27px8G"
      },
      "execution_count": null,
      "outputs": []
    },
    {
      "cell_type": "code",
      "source": [
        "from  Py_FS.evaluation import evaluate"
      ],
      "metadata": {
        "id": "Oka2Bc0Dp9t-"
      },
      "execution_count": null,
      "outputs": []
    },
    {
      "cell_type": "code",
      "source": [
        "print(train_X)"
      ],
      "metadata": {
        "colab": {
          "base_uri": "https://localhost:8080/"
        },
        "id": "09GV3eOhqdT5",
        "outputId": "52947197-9097-4182-d22d-8f4e9de6cc5d"
      },
      "execution_count": null,
      "outputs": [
        {
          "output_type": "stream",
          "name": "stdout",
          "text": [
            "          ch0       ch1       ch2       ch3       ch4       ch5       ch6  \\\n",
            "138  1.073828  1.000000  1.073828  1.000000  1.073828  1.151433  1.073828   \n",
            "62   1.073828  1.073828  1.073828  1.073828  1.073828  1.073828  1.073828   \n",
            "63   1.000000  1.073828  1.073828  1.073828  1.000000  1.073828  1.073828   \n",
            "6    1.073828  1.073828  1.073828  1.000000  1.073828  1.073828  1.073828   \n",
            "96   1.073828  1.000000  1.073828  1.073828  1.000000  1.073828  1.000000   \n",
            "..        ...       ...       ...       ...       ...       ...       ...   \n",
            "43   1.000000  1.000000  1.073828  1.000000  1.073828  1.073828  1.000000   \n",
            "34   1.073828  1.073828  1.073828  1.073828  1.073828  1.073828  1.073828   \n",
            "133  1.000000  1.000000  1.000000  1.000000  1.151433  1.000000  1.151433   \n",
            "119  1.073828  1.000000  1.000000  1.000000  1.000000  1.000000  1.151433   \n",
            "94   1.073828  1.000000  1.000000  1.073828  1.000000  1.000000  1.000000   \n",
            "\n",
            "          ch7       ch8       ch9  ...      ch22      ch23      ch24  \\\n",
            "138  1.073828  1.000000  1.000000  ...  1.073828  1.073828  1.000000   \n",
            "62   1.073828  1.000000  1.000000  ...  1.073828  1.073828  1.073828   \n",
            "63   1.073828  1.000000  1.073828  ...  1.073828  1.073828  1.000000   \n",
            "6    1.073828  1.000000  1.000000  ...  1.000000  1.000000  1.000000   \n",
            "96   1.151433  1.000000  1.073828  ...  1.000000  1.073828  1.000000   \n",
            "..        ...       ...       ...  ...       ...       ...       ...   \n",
            "43   1.000000  1.073828  1.000000  ...  1.073828  1.073828  1.000000   \n",
            "34   1.073828  1.073828  1.073828  ...  1.073828  1.073828  1.073828   \n",
            "133  1.073828  1.151433  1.000000  ...  1.073828  1.000000  1.073828   \n",
            "119  1.073828  1.073828  1.000000  ...  1.000000  1.000000  1.000000   \n",
            "94   1.073828  1.073828  1.000000  ...  1.073828  1.073828  1.073828   \n",
            "\n",
            "         ch25      ch26      ch27      ch28      ch29      ch30      ch31  \n",
            "138  1.073828  1.000000  1.000000  1.000000  1.073828  1.073828  1.151433  \n",
            "62   1.073828  1.073828  1.000000  1.073828  1.000000  1.073828  1.073828  \n",
            "63   1.073828  1.073828  1.073828  1.000000  1.000000  1.073828  1.073828  \n",
            "6    1.073828  1.000000  1.000000  1.000000  1.000000  1.000000  1.000000  \n",
            "96   1.073828  1.073828  1.073828  1.000000  1.073828  1.073828  1.073828  \n",
            "..        ...       ...       ...       ...       ...       ...       ...  \n",
            "43   1.000000  1.073828  1.073828  1.000000  1.000000  1.073828  1.073828  \n",
            "34   1.073828  1.073828  1.073828  1.073828  1.073828  1.000000  1.073828  \n",
            "133  1.073828  1.073828  1.000000  1.000000  1.000000  1.073828  1.073828  \n",
            "119  1.000000  1.151433  1.000000  1.073828  1.073828  1.151433  1.000000  \n",
            "94   1.000000  1.000000  1.000000  1.073828  1.073828  1.073828  1.151433  \n",
            "\n",
            "[128 rows x 32 columns]\n"
          ]
        }
      ]
    },
    {
      "cell_type": "code",
      "source": [
        "type(train_X)"
      ],
      "metadata": {
        "colab": {
          "base_uri": "https://localhost:8080/"
        },
        "id": "w2N6GL75rrDs",
        "outputId": "54e06a7b-f17d-419b-9c57-84a34b269373"
      },
      "execution_count": null,
      "outputs": [
        {
          "output_type": "execute_result",
          "data": {
            "text/plain": [
              "pandas.core.frame.DataFrame"
            ]
          },
          "metadata": {},
          "execution_count": 50
        }
      ]
    },
    {
      "cell_type": "code",
      "source": [
        "type(x)"
      ],
      "metadata": {
        "colab": {
          "base_uri": "https://localhost:8080/"
        },
        "id": "Xrsv3ZVVryKq",
        "outputId": "c8f7d547-8310-4389-8df9-074c3ae9a738"
      },
      "execution_count": null,
      "outputs": [
        {
          "output_type": "execute_result",
          "data": {
            "text/plain": [
              "pandas.core.frame.DataFrame"
            ]
          },
          "metadata": {},
          "execution_count": 51
        }
      ]
    },
    {
      "cell_type": "code",
      "source": [
        "X_train = train_X.to_numpy()"
      ],
      "metadata": {
        "id": "UeHcTk0tr1nG"
      },
      "execution_count": null,
      "outputs": []
    },
    {
      "cell_type": "code",
      "source": [
        "type(test_X)"
      ],
      "metadata": {
        "colab": {
          "base_uri": "https://localhost:8080/"
        },
        "id": "DAJNnwEws1it",
        "outputId": "73675efd-ddbe-4af7-cc77-7ed5750cc9d3"
      },
      "execution_count": null,
      "outputs": [
        {
          "output_type": "execute_result",
          "data": {
            "text/plain": [
              "pandas.core.frame.DataFrame"
            ]
          },
          "metadata": {},
          "execution_count": 53
        }
      ]
    },
    {
      "cell_type": "code",
      "source": [
        "type(train_Y)"
      ],
      "metadata": {
        "colab": {
          "base_uri": "https://localhost:8080/"
        },
        "id": "oI3hsFIMtQhh",
        "outputId": "398b9408-368a-4be6-a139-f9e64d257eb7"
      },
      "execution_count": null,
      "outputs": [
        {
          "output_type": "execute_result",
          "data": {
            "text/plain": [
              "numpy.ndarray"
            ]
          },
          "metadata": {},
          "execution_count": 54
        }
      ]
    },
    {
      "cell_type": "code",
      "source": [
        "X_test = test_X.to_numpy()"
      ],
      "metadata": {
        "id": "-ispzU6QtDgu"
      },
      "execution_count": null,
      "outputs": []
    },
    {
      "cell_type": "code",
      "source": [
        "X=x.to_numpy()"
      ],
      "metadata": {
        "id": "BWOS0-rDsYyt"
      },
      "execution_count": null,
      "outputs": []
    },
    {
      "cell_type": "code",
      "source": [
        "print(x)"
      ],
      "metadata": {
        "colab": {
          "base_uri": "https://localhost:8080/"
        },
        "id": "3E2N_wzNqlwP",
        "outputId": "f0dc40a2-50ef-4b22-d343-90d66a1152e8"
      },
      "execution_count": null,
      "outputs": [
        {
          "output_type": "stream",
          "name": "stdout",
          "text": [
            "          ch0       ch1       ch2       ch3       ch4       ch5       ch6  \\\n",
            "23   1.073828  1.073828  1.073828  1.073828  1.073828  1.000000  1.000000   \n",
            "18   1.073828  1.073828  1.073828  1.073828  1.000000  1.073828  1.073828   \n",
            "5    1.073828  1.151433  1.073828  1.073828  1.073828  1.073828  1.073828   \n",
            "103  1.000000  1.073828  1.000000  1.073828  1.000000  1.000000  1.000000   \n",
            "142  1.073828  1.073828  1.073828  1.073828  1.151433  1.000000  1.000000   \n",
            "..        ...       ...       ...       ...       ...       ...       ...   \n",
            "71   1.073828  1.151433  1.073828  1.000000  1.073828  1.073828  1.000000   \n",
            "12   1.073828  1.000000  1.000000  1.073828  1.073828  1.151433  1.073828   \n",
            "50   1.073828  1.073828  1.073828  1.073828  1.073828  1.073828  1.073828   \n",
            "7    1.073828  1.073828  1.000000  1.000000  1.151433  1.073828  1.073828   \n",
            "70   1.000000  1.073828  1.000000  1.151433  1.000000  1.073828  1.073828   \n",
            "\n",
            "          ch7       ch8       ch9  ...      ch22      ch23      ch24  \\\n",
            "23   1.151433  1.000000  1.151433  ...  1.000000  1.151433  1.151433   \n",
            "18   1.073828  1.073828  1.000000  ...  1.073828  1.073828  1.073828   \n",
            "5    1.000000  1.073828  1.073828  ...  1.000000  1.073828  1.073828   \n",
            "103  1.000000  1.000000  1.151433  ...  1.000000  1.000000  1.000000   \n",
            "142  1.073828  1.073828  1.000000  ...  1.073828  1.073828  1.073828   \n",
            "..        ...       ...       ...  ...       ...       ...       ...   \n",
            "71   1.073828  1.073828  1.000000  ...  1.000000  1.073828  1.073828   \n",
            "12   1.073828  1.073828  1.000000  ...  1.073828  1.073828  1.000000   \n",
            "50   1.073828  1.000000  1.000000  ...  1.073828  1.073828  1.000000   \n",
            "7    1.151433  1.073828  1.073828  ...  1.000000  1.000000  1.073828   \n",
            "70   1.073828  1.073828  1.073828  ...  1.151433  1.073828  1.073828   \n",
            "\n",
            "         ch25      ch26      ch27      ch28      ch29      ch30      ch31  \n",
            "23   1.000000  1.073828  1.073828  1.151433  1.000000  1.151433  1.073828  \n",
            "18   1.000000  1.073828  1.000000  1.073828  1.000000  1.073828  1.000000  \n",
            "5    1.000000  1.000000  1.073828  1.000000  1.151433  1.073828  1.073828  \n",
            "103  1.000000  1.000000  1.000000  1.000000  1.000000  1.000000  1.000000  \n",
            "142  1.073828  1.073828  1.073828  1.073828  1.000000  1.000000  1.000000  \n",
            "..        ...       ...       ...       ...       ...       ...       ...  \n",
            "71   1.000000  1.000000  1.151433  1.000000  1.000000  1.000000  1.073828  \n",
            "12   1.000000  1.073828  1.073828  1.073828  1.151433  1.073828  1.073828  \n",
            "50   1.000000  1.073828  1.073828  1.000000  1.000000  1.000000  1.073828  \n",
            "7    1.000000  1.073828  1.000000  1.073828  1.000000  1.073828  1.000000  \n",
            "70   1.073828  1.000000  1.000000  1.000000  1.073828  1.000000  1.000000  \n",
            "\n",
            "[160 rows x 32 columns]\n"
          ]
        }
      ]
    },
    {
      "cell_type": "code",
      "source": [
        "if(len(np.unique(test_Y))) == 2:\n",
        "  # if it is binary classification, you will get a precision, recall and f1_score for each of the labels\n",
        "  result = evaluate(X_train, X_test, train_Y, test_Y, agent=solution.best_agent, classifier='knn', save_conf_mat=True)\n",
        "else:  \n",
        "  # for a multi-class problem, you will get a avreaged precision, recall and f1_score\n",
        "  # Options for averaging:\n",
        "  # 1. macro\n",
        "  # 2. weighted\n",
        "  # 3. samples\n",
        "  result = evaluate(X_train, X_test, train_Y, test_Y, agent=solution.best_agent, classifier='knn', save_conf_mat=True, averaging=\"weighted\")"
      ],
      "metadata": {
        "id": "Yo1YPcw2p92x"
      },
      "execution_count": null,
      "outputs": []
    },
    {
      "cell_type": "code",
      "source": [
        "result.predictions"
      ],
      "metadata": {
        "colab": {
          "base_uri": "https://localhost:8080/"
        },
        "id": "K3aMQ4F0tdz1",
        "outputId": "cc2d78ee-69f1-4d33-a0b5-bb8f477a1368"
      },
      "execution_count": null,
      "outputs": [
        {
          "output_type": "execute_result",
          "data": {
            "text/plain": [
              "array([0, 0, 0, 0, 0, 0, 1, 0, 1, 1, 0, 0, 0, 1, 0, 1, 0, 0, 0, 0, 1, 0,\n",
              "       1, 1, 0, 0, 0, 1, 1, 0, 0, 0])"
            ]
          },
          "metadata": {},
          "execution_count": 59
        }
      ]
    },
    {
      "cell_type": "code",
      "source": [
        "result.accuracy"
      ],
      "metadata": {
        "colab": {
          "base_uri": "https://localhost:8080/"
        },
        "id": "42PjQic7tkY4",
        "outputId": "49a80a3e-cd14-4595-d329-6c34a47db9c9"
      },
      "execution_count": null,
      "outputs": [
        {
          "output_type": "execute_result",
          "data": {
            "text/plain": [
              "0.46875"
            ]
          },
          "metadata": {},
          "execution_count": 60
        }
      ]
    }
  ]
}